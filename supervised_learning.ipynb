{
  "nbformat": 4,
  "nbformat_minor": 5,
  "metadata": {
    "colab": {
      "provenance": [],
      "collapsed_sections": [
        "76f80fe8-a126-4cb7-bb10-695e971d9dc5",
        "d6c8364f-c90d-48ef-be41-6ff4465c9cd7",
        "aa6b8b5d-c38d-48bf-a263-4e4120ad1ce9",
        "023e34c2-f58c-40f7-92c7-d9e63ad5e9d9",
        "5e5e7fcc-6880-45d8-8611-34873ee22921",
        "76b16d87-9867-4639-a41c-1c7a3ac211dc",
        "fe947726-38dc-4e2c-be0a-dca6056d8437"
      ],
      "toc_visible": true
    },
    "kernelspec": {
      "display_name": "Python 3",
      "name": "python3"
    },
    "language_info": {
      "name": "python"
    }
  },
  "cells": [
    {
      "cell_type": "markdown",
      "metadata": {
        "id": "27410c2c-7a8a-4d35-81b1-baae05054e7f"
      },
      "source": [
        "# ΕΡΓΑΣΙΑ 1"
      ],
      "id": "27410c2c-7a8a-4d35-81b1-baae05054e7f"
    },
    {
      "cell_type": "markdown",
      "metadata": {
        "id": "n9LCgD5KxO0J"
      },
      "source": [
        "* Ομάδα 53\n",
        "* Μέλη ομάδας:\n",
        "  * Αθανασίου Ιωάννης, 03117041\n",
        "  * Καραβαγγέλης Αθανάσιος, 03117022\n",
        "  * Τσιτσής Αντώνιος, 03117045"
      ],
      "id": "n9LCgD5KxO0J"
    },
    {
      "cell_type": "markdown",
      "metadata": {
        "id": "qOiMjhrRx5FF"
      },
      "source": [
        "## Εγκαταστάσεις πακέτων"
      ],
      "id": "qOiMjhrRx5FF"
    },
    {
      "cell_type": "code",
      "metadata": {
        "colab": {
          "base_uri": "https://localhost:8080/"
        },
        "id": "ee1215b5-e4fd-412a-a068-786989b4895e",
        "outputId": "f5834b2e-f24b-499a-8086-c7453474e7da"
      },
      "source": [
        "!pip install --upgrade pip #upgrade pip package installer\n",
        "!pip install scikit-learn --upgrade #upgrade scikit-learn package\n",
        "!pip install numpy --upgrade #upgrade numpy package\n",
        "!pip install pandas --upgrade #upgrade pandas package\n",
        "!pip install --upgrade matplotlib # Κάνουμε update την matplotlib\n",
        "!pip install optuna"
      ],
      "id": "ee1215b5-e4fd-412a-a068-786989b4895e",
      "execution_count": null,
      "outputs": [
        {
          "output_type": "stream",
          "name": "stdout",
          "text": [
            "Requirement already satisfied: pip in /usr/local/lib/python3.7/dist-packages (21.3.1)\n",
            "\u001b[33mWARNING: Running pip as the 'root' user can result in broken permissions and conflicting behaviour with the system package manager. It is recommended to use a virtual environment instead: https://pip.pypa.io/warnings/venv\u001b[0m\n",
            "Requirement already satisfied: scikit-learn in /usr/local/lib/python3.7/dist-packages (1.0.1)\n",
            "Requirement already satisfied: threadpoolctl>=2.0.0 in /usr/local/lib/python3.7/dist-packages (from scikit-learn) (3.0.0)\n",
            "Requirement already satisfied: scipy>=1.1.0 in /usr/local/lib/python3.7/dist-packages (from scikit-learn) (1.4.1)\n",
            "Requirement already satisfied: numpy>=1.14.6 in /usr/local/lib/python3.7/dist-packages (from scikit-learn) (1.21.4)\n",
            "Requirement already satisfied: joblib>=0.11 in /usr/local/lib/python3.7/dist-packages (from scikit-learn) (1.1.0)\n",
            "\u001b[33mWARNING: Running pip as the 'root' user can result in broken permissions and conflicting behaviour with the system package manager. It is recommended to use a virtual environment instead: https://pip.pypa.io/warnings/venv\u001b[0m\n",
            "Requirement already satisfied: numpy in /usr/local/lib/python3.7/dist-packages (1.21.4)\n",
            "\u001b[33mWARNING: Running pip as the 'root' user can result in broken permissions and conflicting behaviour with the system package manager. It is recommended to use a virtual environment instead: https://pip.pypa.io/warnings/venv\u001b[0m\n",
            "Requirement already satisfied: pandas in /usr/local/lib/python3.7/dist-packages (1.3.4)\n",
            "Requirement already satisfied: python-dateutil>=2.7.3 in /usr/local/lib/python3.7/dist-packages (from pandas) (2.8.2)\n",
            "Requirement already satisfied: pytz>=2017.3 in /usr/local/lib/python3.7/dist-packages (from pandas) (2018.9)\n",
            "Requirement already satisfied: numpy>=1.17.3 in /usr/local/lib/python3.7/dist-packages (from pandas) (1.21.4)\n",
            "Requirement already satisfied: six>=1.5 in /usr/local/lib/python3.7/dist-packages (from python-dateutil>=2.7.3->pandas) (1.15.0)\n",
            "\u001b[33mWARNING: Running pip as the 'root' user can result in broken permissions and conflicting behaviour with the system package manager. It is recommended to use a virtual environment instead: https://pip.pypa.io/warnings/venv\u001b[0m\n",
            "Requirement already satisfied: matplotlib in /usr/local/lib/python3.7/dist-packages (3.5.0)\n",
            "Requirement already satisfied: numpy>=1.17 in /usr/local/lib/python3.7/dist-packages (from matplotlib) (1.21.4)\n",
            "Requirement already satisfied: pillow>=6.2.0 in /usr/local/lib/python3.7/dist-packages (from matplotlib) (7.1.2)\n",
            "Requirement already satisfied: packaging>=20.0 in /usr/local/lib/python3.7/dist-packages (from matplotlib) (21.3)\n",
            "Requirement already satisfied: fonttools>=4.22.0 in /usr/local/lib/python3.7/dist-packages (from matplotlib) (4.28.2)\n",
            "Requirement already satisfied: pyparsing>=2.2.1 in /usr/local/lib/python3.7/dist-packages (from matplotlib) (3.0.6)\n",
            "Requirement already satisfied: python-dateutil>=2.7 in /usr/local/lib/python3.7/dist-packages (from matplotlib) (2.8.2)\n",
            "Requirement already satisfied: cycler>=0.10 in /usr/local/lib/python3.7/dist-packages (from matplotlib) (0.11.0)\n",
            "Requirement already satisfied: setuptools-scm>=4 in /usr/local/lib/python3.7/dist-packages (from matplotlib) (6.3.2)\n",
            "Requirement already satisfied: kiwisolver>=1.0.1 in /usr/local/lib/python3.7/dist-packages (from matplotlib) (1.3.2)\n",
            "Requirement already satisfied: six>=1.5 in /usr/local/lib/python3.7/dist-packages (from python-dateutil>=2.7->matplotlib) (1.15.0)\n",
            "Requirement already satisfied: tomli>=1.0.0 in /usr/local/lib/python3.7/dist-packages (from setuptools-scm>=4->matplotlib) (1.2.2)\n",
            "Requirement already satisfied: setuptools in /usr/local/lib/python3.7/dist-packages (from setuptools-scm>=4->matplotlib) (57.4.0)\n",
            "\u001b[33mWARNING: Running pip as the 'root' user can result in broken permissions and conflicting behaviour with the system package manager. It is recommended to use a virtual environment instead: https://pip.pypa.io/warnings/venv\u001b[0m\n",
            "Requirement already satisfied: optuna in /usr/local/lib/python3.7/dist-packages (2.10.0)\n",
            "Requirement already satisfied: colorlog in /usr/local/lib/python3.7/dist-packages (from optuna) (6.6.0)\n",
            "Requirement already satisfied: cmaes>=0.8.2 in /usr/local/lib/python3.7/dist-packages (from optuna) (0.8.2)\n",
            "Requirement already satisfied: tqdm in /usr/local/lib/python3.7/dist-packages (from optuna) (4.62.3)\n",
            "Requirement already satisfied: cliff in /usr/local/lib/python3.7/dist-packages (from optuna) (3.10.0)\n",
            "Requirement already satisfied: scipy!=1.4.0 in /usr/local/lib/python3.7/dist-packages (from optuna) (1.4.1)\n",
            "Requirement already satisfied: sqlalchemy>=1.1.0 in /usr/local/lib/python3.7/dist-packages (from optuna) (1.4.27)\n",
            "Requirement already satisfied: packaging>=20.0 in /usr/local/lib/python3.7/dist-packages (from optuna) (21.3)\n",
            "Requirement already satisfied: alembic in /usr/local/lib/python3.7/dist-packages (from optuna) (1.7.5)\n",
            "Requirement already satisfied: PyYAML in /usr/local/lib/python3.7/dist-packages (from optuna) (3.13)\n",
            "Requirement already satisfied: numpy in /usr/local/lib/python3.7/dist-packages (from optuna) (1.21.4)\n",
            "Requirement already satisfied: pyparsing!=3.0.5,>=2.0.2 in /usr/local/lib/python3.7/dist-packages (from packaging>=20.0->optuna) (3.0.6)\n",
            "Requirement already satisfied: greenlet!=0.4.17 in /usr/local/lib/python3.7/dist-packages (from sqlalchemy>=1.1.0->optuna) (1.1.2)\n",
            "Requirement already satisfied: importlib-metadata in /usr/local/lib/python3.7/dist-packages (from sqlalchemy>=1.1.0->optuna) (4.8.2)\n",
            "Requirement already satisfied: importlib-resources in /usr/local/lib/python3.7/dist-packages (from alembic->optuna) (5.4.0)\n",
            "Requirement already satisfied: Mako in /usr/local/lib/python3.7/dist-packages (from alembic->optuna) (1.1.6)\n",
            "Requirement already satisfied: PrettyTable>=0.7.2 in /usr/local/lib/python3.7/dist-packages (from cliff->optuna) (2.4.0)\n",
            "Requirement already satisfied: pbr!=2.1.0,>=2.0.0 in /usr/local/lib/python3.7/dist-packages (from cliff->optuna) (5.8.0)\n",
            "Requirement already satisfied: cmd2>=1.0.0 in /usr/local/lib/python3.7/dist-packages (from cliff->optuna) (2.3.3)\n",
            "Requirement already satisfied: stevedore>=2.0.1 in /usr/local/lib/python3.7/dist-packages (from cliff->optuna) (3.5.0)\n",
            "Requirement already satisfied: autopage>=0.4.0 in /usr/local/lib/python3.7/dist-packages (from cliff->optuna) (0.4.0)\n",
            "Requirement already satisfied: typing-extensions in /usr/local/lib/python3.7/dist-packages (from cmd2>=1.0.0->cliff->optuna) (3.10.0.2)\n",
            "Requirement already satisfied: pyperclip>=1.6 in /usr/local/lib/python3.7/dist-packages (from cmd2>=1.0.0->cliff->optuna) (1.8.2)\n",
            "Requirement already satisfied: attrs>=16.3.0 in /usr/local/lib/python3.7/dist-packages (from cmd2>=1.0.0->cliff->optuna) (21.2.0)\n",
            "Requirement already satisfied: wcwidth>=0.1.7 in /usr/local/lib/python3.7/dist-packages (from cmd2>=1.0.0->cliff->optuna) (0.2.5)\n",
            "Requirement already satisfied: zipp>=0.5 in /usr/local/lib/python3.7/dist-packages (from importlib-metadata->sqlalchemy>=1.1.0->optuna) (3.6.0)\n",
            "Requirement already satisfied: MarkupSafe>=0.9.2 in /usr/local/lib/python3.7/dist-packages (from Mako->alembic->optuna) (2.0.1)\n",
            "\u001b[33mWARNING: Running pip as the 'root' user can result in broken permissions and conflicting behaviour with the system package manager. It is recommended to use a virtual environment instead: https://pip.pypa.io/warnings/venv\u001b[0m\n"
          ]
        }
      ]
    },
    {
      "cell_type": "code",
      "metadata": {
        "id": "gIqPcc4RT8xc"
      },
      "source": [],
      "id": "gIqPcc4RT8xc",
      "execution_count": null,
      "outputs": []
    },
    {
      "cell_type": "markdown",
      "metadata": {
        "id": "cad74aaa-6be6-4900-8cca-11f1023aac1b"
      },
      "source": [
        "## ΜΕΡΟΣ 1"
      ],
      "id": "cad74aaa-6be6-4900-8cca-11f1023aac1b"
    },
    {
      "cell_type": "markdown",
      "metadata": {
        "id": "76f80fe8-a126-4cb7-bb10-695e971d9dc5"
      },
      "source": [
        "### Dataset: U02 - Εισαγωγή και επισκόπηση"
      ],
      "id": "76f80fe8-a126-4cb7-bb10-695e971d9dc5"
    },
    {
      "cell_type": "markdown",
      "metadata": {
        "id": "d6c8364f-c90d-48ef-be41-6ff4465c9cd7"
      },
      "source": [
        "#### Σύντομη παρουσίαση"
      ],
      "id": "d6c8364f-c90d-48ef-be41-6ff4465c9cd7"
    },
    {
      "cell_type": "markdown",
      "metadata": {
        "id": "5e63714b-1d02-4678-b55b-166e24d0ec60"
      },
      "source": [
        "* To dataset αφορά το classification δύο πνευματικών καταστάσεων με βάση καταγεγραμμένα ηλεκτροεγκεφαλογραφικά σήματα.\n",
        "* Οι πνευματικές καταστάσεις με τις οποίες ασχολούμαστε είναι η ηρεμία και η νοητική προετοιμασία μίας κίνησης."
      ],
      "id": "5e63714b-1d02-4678-b55b-166e24d0ec60"
    },
    {
      "cell_type": "markdown",
      "metadata": {
        "id": "aa6b8b5d-c38d-48bf-a263-4e4120ad1ce9"
      },
      "source": [
        "#### Διάβασμα dataset"
      ],
      "id": "aa6b8b5d-c38d-48bf-a263-4e4120ad1ce9"
    },
    {
      "cell_type": "code",
      "metadata": {
        "colab": {
          "base_uri": "https://localhost:8080/"
        },
        "id": "a2f40095-6832-47b8-b494-69c63eef5834",
        "outputId": "dd0452f5-063c-43c1-8f5d-c39a84f45fa2"
      },
      "source": [
        "import pandas as pd\n",
        "\n",
        "data = pd.read_csv(\"plrx.txt\", sep=\"\\t \", header=None)\n",
        "print(data)"
      ],
      "id": "a2f40095-6832-47b8-b494-69c63eef5834",
      "execution_count": null,
      "outputs": [
        {
          "output_type": "stream",
          "name": "stdout",
          "text": [
            "          0         1         2         3   ...        9         10        11   12\n",
            "0   -0.17936 -0.207000 -0.209710 -0.097260  ... -0.032886  0.003383 -0.334250  1.0\n",
            "1   -0.14659 -0.164940  0.249870 -0.073985  ...  0.050759 -0.017511  0.066959  1.0\n",
            "2   -0.13131  0.518160  0.432810  0.397890  ... -0.040303  0.088057  0.631200  2.0\n",
            "3    0.64940  0.418780  0.148350  0.333490  ... -0.367230  0.364680  0.571720  1.0\n",
            "4   -0.40628  0.115030  0.073336  0.070066  ...  0.153750 -0.126950  0.184570  1.0\n",
            "..       ...       ...       ...       ...  ...       ...       ...       ...  ...\n",
            "177 -0.55005  0.276290 -0.273240  0.113190  ... -0.014462  0.002273 -0.100480  2.0\n",
            "178 -0.78399  0.254600 -0.700990 -0.299170  ...  0.020018 -0.020915  0.663940  1.0\n",
            "179  0.29877 -0.179620  0.032859 -0.899010  ... -0.411130  0.246830 -0.389160  2.0\n",
            "180 -0.37812 -0.522870  0.215410 -0.243590  ... -0.039117  0.007591  0.476030  1.0\n",
            "181  0.37913 -0.046562 -0.123360 -0.063958  ... -0.242290  0.173690  0.490630  2.0\n",
            "\n",
            "[182 rows x 13 columns]\n"
          ]
        },
        {
          "output_type": "stream",
          "name": "stderr",
          "text": [
            "/usr/local/lib/python3.7/dist-packages/ipykernel_launcher.py:3: ParserWarning: Falling back to the 'python' engine because the 'c' engine does not support regex separators (separators > 1 char and different from '\\s+' are interpreted as regex); you can avoid this warning by specifying engine='python'.\n",
            "  This is separate from the ipykernel package so we can avoid doing imports until\n"
          ]
        }
      ]
    },
    {
      "cell_type": "markdown",
      "metadata": {
        "id": "023e34c2-f58c-40f7-92c7-d9e63ad5e9d9"
      },
      "source": [
        "#### Επεξεργασία dataset"
      ],
      "id": "023e34c2-f58c-40f7-92c7-d9e63ad5e9d9"
    },
    {
      "cell_type": "markdown",
      "metadata": {
        "id": "11eac077-7d3e-4a51-b63d-cb22df0e17b4"
      },
      "source": [
        "* Παρατηρώ ότι η στήλη 12 παίρνει ως τιμές μόνο το 1.0 και το 2.0, και επομένως η στήλη αυτή θα περιέχει τα labels.\n",
        "* Θα διαχωρίσω τα features από τα labels.\n",
        "* Θα μετατρέψω τα labels ώστε να παίρνουν τιμές 0 και 1 ως εξής: 1.0->0, 2.0->1."
      ],
      "id": "11eac077-7d3e-4a51-b63d-cb22df0e17b4"
    },
    {
      "cell_type": "code",
      "metadata": {
        "colab": {
          "base_uri": "https://localhost:8080/"
        },
        "id": "e518356c-46ff-4edc-98ea-8a7d0ef0bbc5",
        "outputId": "c6393dd2-c326-48ae-b294-ce1f4a4f6e14"
      },
      "source": [
        "import numpy as np\n",
        "labels = data.iloc[:, [12]].values\n",
        "def normalize(label):\n",
        "    assert label==2. or label==1.\n",
        "    if label==1.:\n",
        "        return 0\n",
        "    if label==2.:\n",
        "        return 1\n",
        "vectorized_norm = np.vectorize(normalize)\n",
        "labels = np.array([vectorized_norm(row) for row in labels])\n",
        "\n",
        "features = data.iloc[:, :12].values\n",
        "\n",
        "print(\"labels shape:\", labels.shape)\n",
        "print(\"features shape:\", features.shape)"
      ],
      "id": "e518356c-46ff-4edc-98ea-8a7d0ef0bbc5",
      "execution_count": null,
      "outputs": [
        {
          "output_type": "stream",
          "name": "stdout",
          "text": [
            "labels shape: (182, 1)\n",
            "features shape: (182, 12)\n"
          ]
        }
      ]
    },
    {
      "cell_type": "markdown",
      "metadata": {
        "id": "5e5e7fcc-6880-45d8-8611-34873ee22921"
      },
      "source": [
        "#### Παρατηρήσεις"
      ],
      "id": "5e5e7fcc-6880-45d8-8611-34873ee22921"
    },
    {
      "cell_type": "markdown",
      "metadata": {
        "id": "568dbc82-cb31-45a6-8f14-d042d41546d9"
      },
      "source": [
        "* Κάθε example έχει 12 features και 1 label.\n",
        "* Έχουμε 182 examples.\n",
        "* Δεν υπάρχει αρίθμηση γραμμών.\n",
        "* Δεν υπάρχουν επικεφαλίδες.\n",
        "* Δεν υπάρχουν απουσιάζουσες τιμές.\n",
        "* Δεν υπάρχουν μη διατεταγμένα χαρακτηριστικά."
      ],
      "id": "568dbc82-cb31-45a6-8f14-d042d41546d9"
    },
    {
      "cell_type": "code",
      "metadata": {
        "colab": {
          "base_uri": "https://localhost:8080/"
        },
        "id": "caa40642-779f-40df-b4e9-b1e6659832fc",
        "outputId": "f2032493-e592-41a3-d5b9-887932e2894b"
      },
      "source": [
        "count = np.bincount(labels.flatten())\n",
        "print(f\"Class-0: {count[0]} examples, {round(100*count[0]/sum(count), 3)}%\")\n",
        "print(f\"Class-1: {count[1]} examples, {round(100*count[1]/sum(count), 3)}%\")"
      ],
      "id": "caa40642-779f-40df-b4e9-b1e6659832fc",
      "execution_count": null,
      "outputs": [
        {
          "output_type": "stream",
          "name": "stdout",
          "text": [
            "Class-0: 130 examples, 71.429%\n",
            "Class-1: 52 examples, 28.571%\n"
          ]
        }
      ]
    },
    {
      "cell_type": "markdown",
      "metadata": {
        "id": "f604ab6a-48d7-41e5-9789-f879d69c5875"
      },
      "source": [
        "* Μετράω ποσοστά 71.429% και 28.571% και επομένως καταλήγω στο συμπέρασμα ότι το dataset δεν είναι ισορροπημένο."
      ],
      "id": "f604ab6a-48d7-41e5-9789-f879d69c5875"
    },
    {
      "cell_type": "markdown",
      "metadata": {
        "id": "76b16d87-9867-4639-a41c-1c7a3ac211dc"
      },
      "source": [
        "### Προετοιμασία"
      ],
      "id": "76b16d87-9867-4639-a41c-1c7a3ac211dc"
    },
    {
      "cell_type": "markdown",
      "metadata": {
        "id": "fe947726-38dc-4e2c-be0a-dca6056d8437"
      },
      "source": [
        "##### Διαχωρίζω σε train και test set με αναλογίες 70-30"
      ],
      "id": "fe947726-38dc-4e2c-be0a-dca6056d8437"
    },
    {
      "cell_type": "code",
      "metadata": {
        "colab": {
          "base_uri": "https://localhost:8080/"
        },
        "id": "00d7f123-d41f-40e4-944c-4a6b8c7dad97",
        "outputId": "767eee0f-310c-4c52-a3dd-565449ac6824"
      },
      "source": [
        "from sklearn.model_selection import train_test_split\n",
        "\n",
        "train, test, train_labels, test_labels = train_test_split(features, labels, test_size=0.3)\n",
        "train_pipeline, test_pipeline, train_labels_pipeline, test_labels_pipeline = train_test_split(features, labels, test_size=0.3)\n",
        "train_grid, test_grid, train_labels_grid, test_labels_grid = train_test_split(features, labels, test_size=0.3)\n",
        "print(train.shape, train_labels.shape)\n",
        "print(test.shape, test_labels.shape)"
      ],
      "id": "00d7f123-d41f-40e4-944c-4a6b8c7dad97",
      "execution_count": null,
      "outputs": [
        {
          "output_type": "stream",
          "name": "stdout",
          "text": [
            "(127, 12) (127, 1)\n",
            "(55, 12) (55, 1)\n"
          ]
        }
      ]
    },
    {
      "cell_type": "markdown",
      "metadata": {
        "id": "d5ba8d41-72e5-46af-9cbd-d07340d09c46"
      },
      "source": [
        "* Δεν υπάρχουν απουσιάζουσες τιμές, ούτε κατηγορικά/μη διατεταγμένα χαρακτηριστικά."
      ],
      "id": "d5ba8d41-72e5-46af-9cbd-d07340d09c46"
    },
    {
      "cell_type": "markdown",
      "metadata": {
        "id": "4611403f-173d-44d9-9a82-5edf42409231"
      },
      "source": [
        "### Ταξινόμηση"
      ],
      "id": "4611403f-173d-44d9-9a82-5edf42409231"
    },
    {
      "cell_type": "markdown",
      "metadata": {
        "id": "aa092efb-baf2-4b69-93ce-286507f4a829"
      },
      "source": [
        "#### Επιδόσεις out-of-the-box"
      ],
      "id": "aa092efb-baf2-4b69-93ce-286507f4a829"
    },
    {
      "cell_type": "code",
      "metadata": {
        "colab": {
          "base_uri": "https://localhost:8080/"
        },
        "id": "48b6e0bb-6ed8-4769-8d4e-a05387ad030e",
        "outputId": "d53dae79-9069-41d3-beb9-d5effd459c03"
      },
      "source": [
        "from sklearn.dummy import DummyClassifier\n",
        "from sklearn.naive_bayes import GaussianNB\n",
        "from sklearn.neighbors import KNeighborsClassifier\n",
        "from sklearn.linear_model import LogisticRegression\n",
        "from sklearn.model_selection import cross_val_score\n",
        "from sklearn.metrics import accuracy_score, f1_score\n",
        "import matplotlib.pyplot as plt\n",
        "\n",
        "\n",
        "dummy = DummyClassifier()\n",
        "gnb = GaussianNB()\n",
        "knn = KNeighborsClassifier()\n",
        "log_reg = LogisticRegression()\n",
        "\n",
        "models = [\n",
        "    {\n",
        "        \"name\": \"dummy\",\n",
        "        \"model\": dummy,\n",
        "    },\n",
        "    {\n",
        "        \"name\": \"bayes\",\n",
        "        \"model\": gnb,\n",
        "    },\n",
        "    {\n",
        "        \"name\": \"Knn\",\n",
        "        \"model\": knn,\n",
        "    },\n",
        "    {\n",
        "        \"name\": \"log_regr\",\n",
        "        \"model\": log_reg,\n",
        "    },  \n",
        "]\n",
        "\n",
        "def compute_simple_scores(models, train, train_labels):\n",
        "    accuracy = dict()\n",
        "    f1 = dict()\n",
        "    for m in models:\n",
        "        name, model = m.values()\n",
        "        # print(model)\n",
        "        model.fit(train, train_labels.ravel())\n",
        "        preds = model.predict(test)\n",
        "        accuracy[name] = round(accuracy_score(test_labels, preds), 3)\n",
        "        f1[name] = round(f1_score(test_labels, preds), 3)\n",
        "    return accuracy, f1\n",
        "\n",
        "out_of_the_box_accuracy, out_of_the_box_f1 = compute_simple_scores(models, train, train_labels)\n",
        "print('accuracy:', out_of_the_box_accuracy)\n",
        "print('f1-score:', out_of_the_box_f1)"
      ],
      "id": "48b6e0bb-6ed8-4769-8d4e-a05387ad030e",
      "execution_count": null,
      "outputs": [
        {
          "output_type": "stream",
          "name": "stdout",
          "text": [
            "accuracy: {'dummy': 0.727, 'bayes': 0.6, 'Knn': 0.636, 'log_regr': 0.709}\n",
            "f1-score: {'dummy': 0.0, 'bayes': 0.0, 'Knn': 0.091, 'log_regr': 0.0}\n"
          ]
        }
      ]
    },
    {
      "cell_type": "markdown",
      "metadata": {
        "id": "9df73777-4721-444d-a016-81d1ff2fb79e"
      },
      "source": [
        "##### Πίνακας σύγκρισης"
      ],
      "id": "9df73777-4721-444d-a016-81d1ff2fb79e"
    },
    {
      "cell_type": "code",
      "metadata": {
        "colab": {
          "base_uri": "https://localhost:8080/"
        },
        "id": "d88aeca7-9a67-44d2-9670-0303fa26f3d9",
        "outputId": "ce5e3752-099e-4d98-de14-c6388a35a2ca"
      },
      "source": [
        "def print_scores_table(models, accuracy, f1, train_times=None, test_times=None):\n",
        "    if train_times:\n",
        "        print(\"Model      \\t| accuracy\\t| f1-score\\t| train_time(ms)\\t| test_time (ms)\")\n",
        "    else:\n",
        "        print(\"Model      \\t| accuracy\\t| f1-score\")\n",
        "    print(\"-------------------------------------------\")\n",
        "    for m in models:\n",
        "        name, model = m.values()\n",
        "        acc, f1_score = accuracy[name], f1[name]\n",
        "        if train_times:\n",
        "            time = test_times[name]\n",
        "            print(f\"{name}      \\t| {acc}      \\t| {f1_score}\\t\\t| {train_times[name]}\\t\\t| {test_times[name]}\")\n",
        "        else:\n",
        "            print(f\"{name}      \\t| {acc}      \\t| {f1_score}\")\n",
        "            \n",
        "\n",
        "print_scores_table(models, out_of_the_box_accuracy, out_of_the_box_f1)"
      ],
      "id": "d88aeca7-9a67-44d2-9670-0303fa26f3d9",
      "execution_count": null,
      "outputs": [
        {
          "output_type": "stream",
          "name": "stdout",
          "text": [
            "Model      \t| accuracy\t| f1-score\n",
            "-------------------------------------------\n",
            "dummy      \t| 0.727      \t| 0.0\n",
            "bayes      \t| 0.6      \t| 0.0\n",
            "Knn      \t| 0.636      \t| 0.091\n",
            "log_regr      \t| 0.709      \t| 0.0\n"
          ]
        }
      ]
    },
    {
      "cell_type": "markdown",
      "metadata": {
        "id": "f66d308e-10c5-426b-8e1b-d4b54a4acdc5"
      },
      "source": [
        "<table>\n",
        "<thead>\n",
        "  <td>Model</td>\n",
        "  <td>Accuracy-score</td>\n",
        "  <td>f1-score</td>\n",
        "</thead>\n",
        "<tbody>\n",
        "<tr>\n",
        "  <td>Dummy</td>\n",
        "  <td>0.727</td>\n",
        "  <td>0.0</td>\n",
        "</tr>\n",
        "<tr>\n",
        "  <td>Bayes</td>\n",
        "  <td>0.6</td>\n",
        "  <td>0.0</td>\n",
        "</tr>\n",
        "<tr>\n",
        "  <td>Knn</td>\n",
        "  <td>0.636</td>\n",
        "  <td>0.091</td>\n",
        "</tr>\n",
        "<tr>\n",
        "  <td>Log.regression</td>\n",
        "  <td>0.709</td>\n",
        "  <td>0.0</td>\n",
        "</tr>\n",
        "</tbody>\n",
        "</table>"
      ],
      "id": "f66d308e-10c5-426b-8e1b-d4b54a4acdc5"
    },
    {
      "cell_type": "markdown",
      "metadata": {
        "id": "d6765368-0705-4d89-8b4c-e48b89b8cba5"
      },
      "source": [
        "##### Bar plots σύγκρισης"
      ],
      "id": "d6765368-0705-4d89-8b4c-e48b89b8cba5"
    },
    {
      "cell_type": "code",
      "metadata": {
        "colab": {
          "base_uri": "https://localhost:8080/",
          "height": 228
        },
        "id": "b357f6b3-56a9-4e9b-9b64-ebd6e52838c7",
        "outputId": "35391705-42a6-4795-e391-f082cfef9913"
      },
      "source": [
        "def plot_scores(accuracy, f1, fig_index=1, title_prefix=\"\", color=\"blue\"):\n",
        "    fig, axs = plt.subplots(1, 2, figsize=(20, 3), sharey=True)\n",
        "    axs[0].bar(accuracy.keys(), accuracy.values(), color=color)\n",
        "    axs[0].set_title(f\"{title_prefix} Accuracies\")\n",
        "\n",
        "    axs[1].bar(f1.keys(), f1.values(), color=color)\n",
        "    axs[1].set_title(f\"{title_prefix} F1-scores\")\n",
        "\n",
        "\n",
        "plot_scores(out_of_the_box_accuracy, out_of_the_box_f1)"
      ],
      "id": "b357f6b3-56a9-4e9b-9b64-ebd6e52838c7",
      "execution_count": null,
      "outputs": [
        {
          "output_type": "display_data",
          "data": {
            "image/png": "[encoded data removed]",
            "text/plain": [
              "<Figure size 1440x216 with 2 Axes>"
            ]
          },
          "metadata": {
            "needs_background": "light"
          }
        }
      ]
    },
    {
      "cell_type": "markdown",
      "metadata": {
        "id": "924e7773-c448-4770-abe3-122e441bccaa"
      },
      "source": [
        "##### Συμπεράσματα"
      ],
      "id": "924e7773-c448-4770-abe3-122e441bccaa"
    },
    {
      "cell_type": "markdown",
      "metadata": {
        "id": "8ed909eb-f58b-48b0-a8f0-212f6e033403"
      },
      "source": [
        "* Παρατηρώ ότι όλα τα μοντέλα έχουν, στο testing set, σχετικά ικανοποιητικά accuracie-scores.\n",
        "* Ωστόσο, στην μετρική του f1-score, παρατηρούνται αντίθετα αποτελέσματα, αφού όλα τα μοντέλα έχουν μικρά score.    "
      ],
      "id": "8ed909eb-f58b-48b0-a8f0-212f6e033403"
    },
    {
      "cell_type": "markdown",
      "metadata": {
        "id": "3a9f0065-6767-420f-8198-e0eb0b1ce0cd"
      },
      "source": [
        "#### Βελτιστοποίηση με προεπεξεργασία και χρήση pipelines"
      ],
      "id": "3a9f0065-6767-420f-8198-e0eb0b1ce0cd"
    },
    {
      "cell_type": "markdown",
      "metadata": {
        "id": "3832488c-82ea-4cdf-9cdf-0c3506df8635"
      },
      "source": [
        "##### Για αρχή, κατασκευάζουμε ένα pipeline και χρησιμοποιούμε τις default τιμές των υπερπαραμέτρων των μετασχηματιστών και των εκτιμητών"
      ],
      "id": "3832488c-82ea-4cdf-9cdf-0c3506df8635"
    },
    {
      "cell_type": "markdown",
      "metadata": {
        "id": "fc888583-cf47-4394-9344-084f9f2eca72"
      },
      "source": [
        "* Έχω ένα μοντέλο για κάθε ταξινομητή, αφού δεν δοκιμάζω διαφορετικές τιμές για τις υπερπαραμέτρους\n",
        "* Επομένως, θα εκπαιδεύσω και πάλι κάθε μοντέλο σε όλο το training set και θα υπολογίσω την επίδοσή του στο testing set"
      ],
      "id": "fc888583-cf47-4394-9344-084f9f2eca72"
    },
    {
      "cell_type": "code",
      "metadata": {
        "colab": {
          "base_uri": "https://localhost:8080/"
        },
        "id": "045125a5-5166-427f-8375-23690c2d33e6",
        "outputId": "5f94dd78-8d82-47ca-bb82-6c682c18a408"
      },
      "source": [
        "from imblearn.pipeline import Pipeline\n",
        "from sklearn.feature_selection import VarianceThreshold\n",
        "from sklearn.preprocessing import StandardScaler\n",
        "from imblearn.over_sampling import RandomOverSampler\n",
        "from sklearn.decomposition import PCA\n",
        "from sklearn.metrics import classification_report\n",
        "\n",
        "dummy = DummyClassifier()\n",
        "gnb = GaussianNB()\n",
        "knn = KNeighborsClassifier()\n",
        "log_reg = LogisticRegression()\n",
        "\n",
        "models = [\n",
        "    {\n",
        "        \"name\": \"dummy\",\n",
        "        \"model\": dummy,\n",
        "    },\n",
        "    {\n",
        "        \"name\": \"bayes\",\n",
        "        \"model\": gnb,\n",
        "    },\n",
        "    {\n",
        "        \"name\": \"Knn\",\n",
        "        \"model\": knn,\n",
        "    },\n",
        "    {\n",
        "        \"name\": \"log_regr\",\n",
        "        \"model\": log_reg,\n",
        "    },  \n",
        "]\n",
        "\n",
        "def compute_pipeline_scores(models):\n",
        "    pipeline_accuracy = dict()\n",
        "    pipeline_f1 = dict()\n",
        "    \n",
        "    for modell in models:\n",
        "        name, model = modell.values()\n",
        "        selector = VarianceThreshold()\n",
        "        scaler = StandardScaler()\n",
        "        ros = RandomOverSampler()\n",
        "        pca = PCA()\n",
        "        pipe = Pipeline(\n",
        "            steps=[\n",
        "                ('selector', selector),\n",
        "                ('scaler', scaler),\n",
        "                ('sampler', ros),\n",
        "                ('pca', pca),\n",
        "                (name, model),\n",
        "            ]\n",
        "        )\n",
        "        \n",
        "        #pipeline_accuracy[name] = round(cross_val_score(pipe, train_pipeline, train_labels_pipeline.ravel(), cv=10, scoring='accuracy').mean(), 3)\n",
        "        #pipeline_f1[name] = round(cross_val_score(pipe, train_pipeline, train_labels_pipeline.ravel(), cv=10, scoring='f1').mean(), 3)\n",
        "\n",
        "        pipe.fit(train_pipeline, train_labels_pipeline)\n",
        "        preds = pipe.predict(test_pipeline)\n",
        "        pipeline_accuracy[name] = round(accuracy_score(test_labels, preds), 3)\n",
        "        pipeline_f1[name] = round(f1_score(test_labels, preds), 3)\n",
        "\n",
        "    return pipeline_accuracy, pipeline_f1\n",
        "\n",
        "pipe_accuracy, pipe_f1 = compute_pipeline_scores(models)\n",
        "print(pipe_accuracy)\n",
        "print(pipe_f1)"
      ],
      "id": "045125a5-5166-427f-8375-23690c2d33e6",
      "execution_count": null,
      "outputs": [
        {
          "output_type": "stream",
          "name": "stdout",
          "text": [
            "{'dummy': 0.727, 'bayes': 0.473, 'Knn': 0.618, 'log_regr': 0.473}\n",
            "{'dummy': 0.0, 'bayes': 0.171, 'Knn': 0.364, 'log_regr': 0.216}\n"
          ]
        }
      ]
    },
    {
      "cell_type": "markdown",
      "metadata": {
        "id": "a3f5e016-a004-4e93-aa94-87ab3cb4b729"
      },
      "source": [
        "##### Εκτυπώνω τα αποτελέσματα σε πίνακα:"
      ],
      "id": "a3f5e016-a004-4e93-aa94-87ab3cb4b729"
    },
    {
      "cell_type": "code",
      "metadata": {
        "colab": {
          "base_uri": "https://localhost:8080/"
        },
        "id": "0d08e0d7-2056-41ce-acb8-e8a2915e2f78",
        "outputId": "8bce23e1-50d6-45fa-a95d-bf1111e3c34c"
      },
      "source": [
        "print_scores_table(models, pipe_accuracy, pipe_f1)"
      ],
      "id": "0d08e0d7-2056-41ce-acb8-e8a2915e2f78",
      "execution_count": null,
      "outputs": [
        {
          "output_type": "stream",
          "name": "stdout",
          "text": [
            "Model      \t| accuracy\t| f1-score\n",
            "-------------------------------------------\n",
            "dummy      \t| 0.727      \t| 0.0\n",
            "bayes      \t| 0.473      \t| 0.171\n",
            "Knn      \t| 0.618      \t| 0.364\n",
            "log_regr      \t| 0.473      \t| 0.216\n"
          ]
        }
      ]
    },
    {
      "cell_type": "markdown",
      "metadata": {
        "id": "a8c5ec01-7883-4396-b5a3-efe049d67d2c"
      },
      "source": [
        "<table>\n",
        "<thead>\n",
        "  <td>Model</td>\n",
        "  <td>Accuracy-score</td>\n",
        "  <td>f1-score</td>\n",
        "</thead>\n",
        "<tbody>\n",
        "<tr>\n",
        "  <td>Dummy</td>\n",
        "  <td>0.727</td>\n",
        "  <td>0.0</td>\n",
        "</tr>\n",
        "<tr>\n",
        "  <td>Bayes</td>\n",
        "  <td>0.473</td>\n",
        "  <td>0.171</td>\n",
        "</tr>\n",
        "<tr>\n",
        "  <td>Knn</td>\n",
        "  <td>0.618</td>\n",
        "  <td>0.364</td>\n",
        "</tr>\n",
        "<tr>\n",
        "  <td>Log.regression</td>\n",
        "  <td>0.473</td>\n",
        "  <td>0.216</td>\n",
        "</tr>\n",
        "</tbody>\n",
        "</table>"
      ],
      "id": "a8c5ec01-7883-4396-b5a3-efe049d67d2c"
    },
    {
      "cell_type": "markdown",
      "metadata": {
        "id": "0d754c54-a8ac-45b4-8192-18afcbff2d91"
      },
      "source": [
        "##### Κατασκευάζω και τα bar plots:"
      ],
      "id": "0d754c54-a8ac-45b4-8192-18afcbff2d91"
    },
    {
      "cell_type": "code",
      "metadata": {
        "colab": {
          "base_uri": "https://localhost:8080/",
          "height": 228
        },
        "id": "04e8d24a-0a01-4c5d-81b5-567fc97d502b",
        "outputId": "09213908-3783-4fac-c82a-6f3f2ba2d465"
      },
      "source": [
        "plot_scores(pipe_accuracy, pipe_f1)"
      ],
      "id": "04e8d24a-0a01-4c5d-81b5-567fc97d502b",
      "execution_count": null,
      "outputs": [
        {
          "output_type": "display_data",
          "data": {
            "image/png": "[encoded data removed]",
            "text/plain": [
              "<Figure size 1440x216 with 2 Axes>"
            ]
          },
          "metadata": {
            "needs_background": "light"
          }
        }
      ]
    },
    {
      "cell_type": "markdown",
      "metadata": {
        "id": "c7a5bd54-b806-4e59-8a29-0918ddea1d2c"
      },
      "source": [
        "* Παρατηρώ ότι, σε σύγκριση με τις out-of-the-box επιδόσεις χωρίς την χρήση pipelines:\n",
        "    * Μόνο το f1-score του dummy παραμένει μηδενικό.\n",
        "    * Όλα τα υπόλοιπα f1-scores έχουν αυξηθεί σημαντικά.\n",
        "    * Τα accuracy-scores παρουσιάζουν κάποιες μειώσεις, αλλά συνεχίζουν να κινούνται στο ίδιο εύρος με το προηγούμενο πείραμα."
      ],
      "id": "c7a5bd54-b806-4e59-8a29-0918ddea1d2c"
    },
    {
      "cell_type": "markdown",
      "metadata": {
        "id": "98810e41-b3c8-45e8-9187-cd5c45959a55"
      },
      "source": [
        "#### Βελιστοποίηση με χρήση pipelines και gridsearchCV"
      ],
      "id": "98810e41-b3c8-45e8-9187-cd5c45959a55"
    },
    {
      "cell_type": "markdown",
      "metadata": {
        "id": "be72ce46-1ab1-4a1e-b054-79611a1d77e4"
      },
      "source": [
        "##### Ορίζω τους ταξινομητές"
      ],
      "id": "be72ce46-1ab1-4a1e-b054-79611a1d77e4"
    },
    {
      "cell_type": "markdown",
      "metadata": {
        "id": "696a99c0-ec35-447a-9bda-ff8f448fa6ac"
      },
      "source": [
        "* Τώρα, θα δοκιμάσω, με την μέθοδο του grid search, διάφορες τιμές των υπερπαραμέτρων του κάθε ταξινομητή.\n",
        "* Θα κατασκευάσω, δηλαδή, πολλά μοντέλα για κάθε ταξινομητή, και θα βρω το βέλτιστο του κάθε ταξινομητή, ώστε να ελέξγω την επίδοσή του στο testing set.\n",
        "* Όσον αφορά την προεπεξεργασία των δεδομένων, για να αποφασίσω τις τιμές στις οποίες θα κινείται το threshold του selector, μετράω τις εξής διακυμάνσεις:"
      ],
      "id": "696a99c0-ec35-447a-9bda-ff8f448fa6ac"
    },
    {
      "cell_type": "code",
      "metadata": {
        "colab": {
          "base_uri": "https://localhost:8080/"
        },
        "id": "fa64bd32-28dd-45c4-887e-f855269822cb",
        "outputId": "bc08819d-080a-4538-f24c-e11149ef7bff"
      },
      "source": [
        "train_variance = train_grid.var(axis=0)\n",
        "print(train_variance)\n",
        "print(np.max(train_variance))"
      ],
      "id": "fa64bd32-28dd-45c4-887e-f855269822cb",
      "execution_count": null,
      "outputs": [
        {
          "output_type": "stream",
          "name": "stdout",
          "text": [
            "[0.22825624 0.15829012 0.11811736 0.16605055 0.2178019  0.17289506\n",
            " 0.21141897 0.13344763 0.23172825 0.17260755 0.11340507 0.10812781]\n",
            "0.23172825088761193\n"
          ]
        }
      ]
    },
    {
      "cell_type": "markdown",
      "metadata": {
        "id": "755a24f2-3f06-4032-baa0-afde51eac826"
      },
      "source": [
        "* Θα δοκιμάσω άρα λίγες τιμές στο περίπου εύρος 0.10-0.20.\n",
        "* Ορίζω τους εκτιμητές των μοντέλων που θα εκπαιδεύσω:"
      ],
      "id": "755a24f2-3f06-4032-baa0-afde51eac826"
    },
    {
      "cell_type": "code",
      "metadata": {
        "id": "be2da9c3-8e3b-41e4-820b-73bd808ca6dd"
      },
      "source": [
        "from sklearn.model_selection import GridSearchCV\n",
        "\n",
        "def generate_estimators():\n",
        "    dummy = DummyClassifier()\n",
        "    gnb = GaussianNB()\n",
        "    knn = KNeighborsClassifier()\n",
        "    log_reg = LogisticRegression()\n",
        "\n",
        "    models = [\n",
        "        {\n",
        "            \"name\": \"dummy\",\n",
        "            \"model\": dummy,\n",
        "            \"hyper_param_name\": \"dummy__strategy\",\n",
        "            \"hyper_param_values\": [\"stratified\", \"most_frequent\", \"prior\", \"uniform\"],\n",
        "        },\n",
        "        {\n",
        "            \"name\": \"bayes\",\n",
        "            \"model\": gnb,\n",
        "            \"hyper_param_name\": None,\n",
        "            \"hyper_param_values\": None,\n",
        "        },\n",
        "        {\n",
        "            \"name\": \"knn\",\n",
        "            \"model\": knn,\n",
        "            \"hyper_param_name\": \"knn__n_neighbors\",\n",
        "            \"hyper_param_values\": [1, 2, 5, 8, 11, 14],\n",
        "        },\n",
        "        {\n",
        "            \"name\": \"log_regr\",\n",
        "            \"model\": log_reg,\n",
        "            \"hyper_param_name\": None,\n",
        "            \"hyper_param_values\": None,\n",
        "        },  \n",
        "    ]\n",
        "    return models"
      ],
      "id": "be2da9c3-8e3b-41e4-820b-73bd808ca6dd",
      "execution_count": null,
      "outputs": []
    },
    {
      "cell_type": "markdown",
      "metadata": {
        "id": "620800fa-7da8-4a52-91f6-e28dd8089ef0"
      },
      "source": [
        "##### Ορίζω τις συναρτήσεις εκπαίδευσής τους και αξιολόγησής τους στο test set"
      ],
      "id": "620800fa-7da8-4a52-91f6-e28dd8089ef0"
    },
    {
      "cell_type": "markdown",
      "metadata": {
        "id": "593c0dd0-0bcd-4cd7-9927-cba5b6586748"
      },
      "source": [
        "* Για κάθε ταξινομητή, εντοπίζω το καλύτερο μοντέλο του, με αναζήτηση πλέγματος με διασταυρούμενη επικύρωση."
      ],
      "id": "593c0dd0-0bcd-4cd7-9927-cba5b6586748"
    },
    {
      "cell_type": "code",
      "metadata": {
        "id": "a22cd245-8aeb-477d-acf8-490ceddfe094"
      },
      "source": [
        "from sklearn.metrics import accuracy_score, f1_score\n",
        "import time\n",
        "\n",
        "def pick_best_models(useSelector=True, useScaler=True, useSampler=True, usePca=True):\n",
        "    '''\n",
        "    * for each estimator type,\n",
        "      * generate a pipe\n",
        "      * use grid search to decide the best hyper-params\n",
        "    * return a list of dictionaries describing the best models, as they were decided by grid search\n",
        "    '''\n",
        "    models = generate_estimators()\n",
        "    grid_accuracy = dict()\n",
        "    grid_f1 = dict()\n",
        "    best_estimators = []\n",
        "    for modell in models:\n",
        "        name, model, hyper_params_name, hyper_params_values = modell.values()\n",
        "        \n",
        "        steps = []\n",
        "        hyperparams = dict()\n",
        "\n",
        "        if useSelector:\n",
        "            selector = VarianceThreshold()\n",
        "            steps.append(('selector', selector))\n",
        "            hyperparams['selector__threshold'] = [0.10, 0.14, 0.18]\n",
        "        if useScaler:\n",
        "            scaler = StandardScaler()\n",
        "            steps.append(('scaler', scaler))\n",
        "        if useSampler:\n",
        "            ros = RandomOverSampler()\n",
        "            steps.append(('ros', ros))\n",
        "        if usePca:\n",
        "            pca = PCA()\n",
        "            steps.append(('pca', pca))\n",
        "            hyperparams['pca__n_components'] = [i for i in range(1, 3)]\n",
        "        \n",
        "        steps.append((name, model))\n",
        "\n",
        "        if hyper_params_name:\n",
        "            hyperparams[hyper_params_name] = hyper_params_values\n",
        "\n",
        "        pipe = Pipeline(\n",
        "            steps = steps,\n",
        "            memory='tmp',\n",
        "        )\n",
        "                \n",
        "        estimator = GridSearchCV(\n",
        "            pipe,\n",
        "            hyperparams,\n",
        "            cv=10,\n",
        "            scoring=\"f1_macro\"\n",
        "        )\n",
        "                \n",
        "        estimator.fit(train_grid, train_labels_grid.ravel())\n",
        "        best_estimators.append({\n",
        "            'name': name,\n",
        "            'model': estimator.best_estimator_,\n",
        "            'params': estimator.best_params_,\n",
        "        })\n",
        "    return best_estimators\n",
        "\n",
        "\n",
        "def reTrainEstimator(name, params, useSelector=True, useScaler=True, useSampler=True, usePca=True):\n",
        "    '''\n",
        "    * take as input the name and the params of a model\n",
        "    * this model is one of best, as decided by grid search\n",
        "    * generate a new NON-FITTED model with these params\n",
        "    * re-train it on the while dataset\n",
        "    '''\n",
        "    steps = []\n",
        "\n",
        "    # re-define the tranformers\n",
        "    if useSelector:\n",
        "        threshold = params[\"selector__threshold\"] if params.get(\"selector__threshold\") else 0\n",
        "        selector = VarianceThreshold(threshold=threshold)\n",
        "        steps.append(('selector', selector))\n",
        "\n",
        "    if useScaler:\n",
        "        steps.append(('scaler', StandardScaler()))\n",
        "\n",
        "    if useSampler:\n",
        "        steps.append(('sampler', RandomOverSampler()))\n",
        "\n",
        "    if usePca:\n",
        "        n_components = params[\"pca__n_components\"] if params.get(\"pca__n_components\") else None\n",
        "        pca = PCA(n_components)\n",
        "        steps.append(('pca', pca))\n",
        "\n",
        "    # re-define the estimator\n",
        "    if name==\"dummy\":\n",
        "        strategy = params[\"dummy_strategy\"] if params.get(\"dummy_strategy\") else \"prior\"\n",
        "        model = DummyClassifier(strategy=strategy)\n",
        "\n",
        "    elif name==\"bayes\":\n",
        "        model = GaussianNB()\n",
        "    \n",
        "    elif name==\"knn\":\n",
        "        k = params[\"knn__n_neighbors\"] if params.get(\"knn__n_neighbours\") else 5\n",
        "        model = KNeighborsClassifier(n_neighbors=k)\n",
        "\n",
        "    elif name==\"log_regr\":\n",
        "        model = LogisticRegression()\n",
        "        name = \"log_regr\"\n",
        "  \n",
        "    steps.append((name, model))\n",
        "\n",
        "    # generate and fit the pipe on the whole dataset\n",
        "    pipe = Pipeline(steps=steps)\n",
        "\n",
        "    tic = time.time()\n",
        "    pipe.fit(train_grid, train_labels_grid.ravel())\n",
        "    tac = time.time()\n",
        "    train_time = round((tac-tic) * 1000, 3)\n",
        "\n",
        "    return pipe, train_time\n",
        "\n",
        "def compute_best_models_test_scores(best_estimator, useSelector=True, useScaler=True, useSampler=True, usePca=True):\n",
        "    '''\n",
        "    * receives a list with the best model of each classifier type\n",
        "    * for each of these models:\n",
        "        * uses `reTrainEstimator` to build a new model with the same parameters\n",
        "        * fits it on the while training set, tests it on the test set\n",
        "        * returns some dicts with accuracy, f1, train time, test time, predictions\n",
        "    '''\n",
        "    grid_accuracy = dict()\n",
        "    grid_f1 = dict()\n",
        "    grid_train_time = dict()\n",
        "    grid_test_time = dict()\n",
        "    grid_preds = dict()\n",
        "    for est in best_estimator:\n",
        "        name, model, params = est.values()\n",
        "        trained_model, train_time = reTrainEstimator(name, params, useSelector=useSelector, useScaler=useScaler, useSampler=useSampler, usePca=usePca)\n",
        "        tic = time.time()\n",
        "        preds = trained_model.predict(test_grid)\n",
        "        tac = time.time()\n",
        "        grid_preds[name] = preds\n",
        "        grid_train_time[name] = train_time\n",
        "        grid_test_time[name] = round((tac-tic) * 1000, 3)\n",
        "        grid_accuracy[name] = round(accuracy_score(test_labels_grid, preds), 3)\n",
        "        grid_f1[name] = round(f1_score(test_labels_grid, preds), 3)\n",
        "    return grid_accuracy, grid_f1, grid_train_time, grid_test_time, grid_preds\n",
        "\n",
        "def show_best_models_scores(best_estimators, useSelector=True, useScaler=True, useSampler=True, usePca=True, fig_index=50, title_prefix=\"\", color=\"blue\", logging=False, max_acc=None, min_acc=None, max_avg=None):\n",
        "    '''\n",
        "    * uses `compute_best_models_test_scores` to compute the test scores\n",
        "    * returns:\n",
        "        * a dict with the predictions\n",
        "        * three objects for the estimators with\n",
        "            * the max accuracy till now\n",
        "            * the lowest accuracy till now\n",
        "            * the max accuracy-f1 average till now\n",
        "    '''\n",
        "    grid_accuracy, grid_f1, grid_train_time, grid_test_time, grid_preds = compute_best_models_test_scores(\n",
        "        best_estimators,\n",
        "        useSelector=useSelector,\n",
        "        useScaler=useScaler,\n",
        "        useSampler=useSampler,\n",
        "        usePca=usePca\n",
        "    )\n",
        "    # print(grid_accuracy)\n",
        "    # print(grid_f1)\n",
        "    if logging:\n",
        "        print(\"Best models scores on the testing set:\")\n",
        "        best_estimators_trimmed = [{'name': est['name'], 'model': est['model']} for est in best_estimators]\n",
        "        print_scores_table(best_estimators_trimmed, grid_accuracy, grid_f1, grid_train_time, grid_test_time)\n",
        "    #print('---------------------------')\n",
        "                   \n",
        "    print(f\"{'selector-' if useSelector else ''}{'scaler-' if useScaler else ''}{'sampler-' if useSampler else ''}{'pca-' if usePca else ''}:\")\n",
        "    print('\\ttrain times:', grid_train_time)\n",
        "    print('\\ttest times:', grid_test_time)\n",
        "    plot_scores(grid_accuracy, grid_f1, fig_index=fig_index, title_prefix=title_prefix, color=color)\n",
        "    \n",
        "    #print(\"I am show_best_models_scores, testing accuracy, with curr:\", max_acc)\n",
        "    \n",
        "    local_max_name, local_max = None, None\n",
        "    local_min_name, local_min = None, None\n",
        "    local_max_avg_name, local_max_avg = None, None\n",
        "    if max_acc is not None:\n",
        "        for name in grid_accuracy:\n",
        "            if name=='dummy':\n",
        "                continue\n",
        "            if grid_accuracy[name] > max_acc:\n",
        "                local_max_acc = grid_accuracy[name]\n",
        "                local_max_name = name\n",
        "            if grid_accuracy[name] < min_acc:\n",
        "                local_min_acc = grid_accuracy[name]\n",
        "                local_min_name = name\n",
        "            if (grid_accuracy[name]+grid_f1[name])/2 > max_avg:\n",
        "                local_max_avg = (grid_accuracy[name]+grid_f1[name])/2\n",
        "                local_max_avg_name = name\n",
        "        if local_max_name:\n",
        "            local_max = {\n",
        "                'name': f\"{'selector-' if useSelector else ''}{'scaler-' if useScaler else ''}{'sampler-' if useSampler else ''}{'pca-' if usePca else ''}{local_max_name}\",\n",
        "                'accuracy': grid_accuracy[local_max_name],\n",
        "                'f1': grid_f1[local_max_name],\n",
        "                'predictions': grid_preds[local_max_name]\n",
        "            }\n",
        "        if local_min_name:\n",
        "            local_min = {\n",
        "                'name': f\"{'selector-' if useSelector else ''}{'scaler-' if useScaler else ''}{'sampler-' if useSampler else ''}{'pca-' if usePca else ''}{local_min_name}\",\n",
        "                'accuracy': grid_accuracy[local_min_name],\n",
        "                'f1': grid_f1[local_min_name],\n",
        "                'predictions': grid_preds[local_min_name]  \n",
        "            }\n",
        "        if local_max_avg_name:\n",
        "            local_max_avg = {\n",
        "                'name': f\"{'selector-' if useSelector else ''}{'scaler-' if useScaler else ''}{'sampler-' if useSampler else ''}{'pca-' if usePca else ''}{local_max_avg_name}\",\n",
        "                'accuracy': grid_accuracy[local_max_avg_name],\n",
        "                'f1': grid_f1[local_max_avg_name],\n",
        "                'predictions': grid_preds[local_max_avg_name],\n",
        "                'avg': (grid_accuracy[local_max_avg_name]+grid_f1[local_max_avg_name])/2,\n",
        "            }\n",
        "    return grid_preds, (local_max or None), (local_min or None), (local_max_avg or None)\n"
      ],
      "id": "a22cd245-8aeb-477d-acf8-490ceddfe094",
      "execution_count": null,
      "outputs": []
    },
    {
      "cell_type": "markdown",
      "metadata": {
        "id": "e41dc2fd-abc0-4e65-9a07-246cf478073c"
      },
      "source": [
        "##### Δοκιμές πολλών αρχιτεκτονικών"
      ],
      "id": "e41dc2fd-abc0-4e65-9a07-246cf478073c"
    },
    {
      "cell_type": "markdown",
      "metadata": {
        "id": "862ec3db-8494-4d0a-8baf-b5b0a0d8b924"
      },
      "source": [
        "* Για κάθε αρχιτεκτονική:\n",
        "    * Χτίζω τα διάφορα μοντέλα\n",
        "    * για το καλύτερο μοντέλο για κάθε ταξινομητή\n",
        "        * το εκπαιδεύω στο σύνολο του train set\n",
        "        * σχεδιάζω γραφική με τις επιδόσεις του στο test set\n",
        "        * καταγράφω τους χρόνους του στο train και test set\n",
        "* Από όλα τα παραγόμενα μοντέλα, κρατάω τα βασικά στοιχεία των εξής:\n",
        "    * του μοντέλου που έχει το μέγιστο μέχρι τώρα accuracy (ζητείται από την εκφώνηση)\n",
        "    * του μοντέλου που έχει το ελάχιστο μέχρι τώρα accuracy (ζητείται από την εκφώνηση)\n",
        "    * του μοντέλου που έχει τον μέγιστο μέσο όρο accuracy και f1-score (θα το προτείνω στο τέλος)\n",
        "\n",
        "* Κάθε δυάδα (γραμμή) διαγραμμάτων που ακολουθεί, αφορά και μία διαφορετική αρχιτεκτονική"
      ],
      "id": "862ec3db-8494-4d0a-8baf-b5b0a0d8b924"
    },
    {
      "cell_type": "code",
      "metadata": {
        "colab": {
          "base_uri": "https://localhost:8080/",
          "height": 1000
        },
        "id": "0f228561-8375-44a5-826d-42403e70703d",
        "outputId": "abdc852d-db51-4e62-eecb-01f5a2e00650"
      },
      "source": [
        "max_accuracy = {\n",
        "    'name': None,\n",
        "    'predictions': None,\n",
        "    'accuracy': 0.0,\n",
        "}\n",
        "min_accuracy = {\n",
        "    'name': None,\n",
        "    'predictions': None,\n",
        "    'accuracy': 1.0,\n",
        "}\n",
        "\n",
        "max_average = {\n",
        "    'name': None,\n",
        "    'predictions': None,\n",
        "    'avg': 0.0,\n",
        "}\n",
        "\n",
        "c=0\n",
        "print(\"Generating all models... please wait...\")\n",
        "# for each architecture\n",
        "for useSelector in [True, False]:\n",
        "    for useScaler in [True, False]:\n",
        "        for useSampler in [True, False]:\n",
        "            for usePca in [True, False]:\n",
        "                # find the 4 best estimators\n",
        "                best_estimators = pick_best_models(useSelector=useSelector, useScaler=useScaler, useSampler=useSampler, usePca=usePca)\n",
        "                title_prefix = f\" with {'selector' if useSelector else ''} {'scaler' if useScaler else ''} {'sampler' if useSampler else ''} {'pca' if usePca else ''} - \"\n",
        "                # plot their accuracy and f1 bar charts\n",
        "                predictions,  max_accuracy_object, min_accuracy_object, max_average_object = show_best_models_scores(\n",
        "                    best_estimators,\n",
        "                    useSelector=useSelector,\n",
        "                    useScaler=useScaler,\n",
        "                    useSampler=useSampler,\n",
        "                    usePca=usePca,\n",
        "                    fig_index=100+c,\n",
        "                    title_prefix=title_prefix,\n",
        "                    max_acc=max_accuracy['accuracy'],\n",
        "                    min_acc=min_accuracy['accuracy'],\n",
        "                    max_avg=max_average['avg']\n",
        "                )\n",
        "                # update the max/min-accuracy and max-average estimators\n",
        "                if max_accuracy_object is not None:\n",
        "                    max_accuracy = max_accuracy_object\n",
        "                if min_accuracy_object is not None:\n",
        "                    min_accuracy = min_accuracy_object\n",
        "                if max_average_object is not None:\n",
        "                    max_average = max_average_object\n",
        "                c += 1\n",
        "# print the results\n",
        "print()\n",
        "print(f\"Max accuracy: {max_accuracy['accuracy']}, by {max_accuracy['name']}\")\n",
        "print(f\"Lowest accuracy: {min_accuracy['accuracy']}, by {min_accuracy['name']}\")\n",
        "print(f\"Max average (accuracy, f1): {round(max_average['avg'], 3)}, by {max_average['name']}\")\n",
        "\n",
        "# plot the bar chart for the outof-the-box models, to compare\n",
        "plot_scores(out_of_the_box_accuracy, out_of_the_box_f1, fig_index=100+c, title_prefix=\"Out of the box\", color=\"green\")"
      ],
      "id": "0f228561-8375-44a5-826d-42403e70703d",
      "execution_count": null,
      "outputs": [
        {
          "output_type": "stream",
          "name": "stdout",
          "text": [
            "Generating all models... please wait...\n",
            "selector-scaler-sampler-pca-:\n",
            "\ttrain times: {'dummy': 2.338, 'bayes': 2.739, 'knn': 2.659, 'log_regr': 4.291}\n",
            "\ttest times: {'dummy': 0.423, 'bayes': 0.542, 'knn': 3.186, 'log_regr': 0.489}\n",
            "selector-scaler-sampler-:\n",
            "\ttrain times: {'dummy': 1.876, 'bayes': 2.208, 'knn': 2.123, 'log_regr': 7.298}\n",
            "\ttest times: {'dummy': 0.314, 'bayes': 0.471, 'knn': 3.434, 'log_regr': 0.428}\n",
            "selector-scaler-pca-:\n",
            "\ttrain times: {'dummy': 1.665, 'bayes': 1.973, 'knn': 2.029, 'log_regr': 3.876}\n",
            "\ttest times: {'dummy': 0.421, 'bayes': 0.621, 'knn': 3.268, 'log_regr': 0.525}\n",
            "selector-scaler-:\n",
            "\ttrain times: {'dummy': 1.254, 'bayes': 1.586, 'knn': 1.69, 'log_regr': 6.693}\n",
            "\ttest times: {'dummy': 0.293, 'bayes': 0.475, 'knn': 3.232, 'log_regr': 0.455}\n",
            "selector-sampler-pca-:\n",
            "\ttrain times: {'dummy': 2.014, 'bayes': 2.156, 'knn': 2.073, 'log_regr': 4.474}\n",
            "\ttest times: {'dummy': 0.335, 'bayes': 0.459, 'knn': 3.196, 'log_regr': 0.394}\n",
            "selector-sampler-:\n",
            "\ttrain times: {'dummy': 1.333, 'bayes': 1.697, 'knn': 1.671, 'log_regr': 6.33}\n",
            "\ttest times: {'dummy': 0.209, 'bayes': 0.355, 'knn': 3.105, 'log_regr': 0.288}\n",
            "selector-pca-:\n",
            "\ttrain times: {'dummy': 1.286, 'bayes': 1.632, 'knn': 1.481, 'log_regr': 3.297}\n",
            "\ttest times: {'dummy': 0.321, 'bayes': 0.449, 'knn': 3.198, 'log_regr': 0.364}\n",
            "selector-:\n",
            "\ttrain times: {'dummy': 0.785, 'bayes': 1.185, 'knn': 1.144, 'log_regr': 6.121}\n",
            "\ttest times: {'dummy': 0.182, 'bayes': 0.358, 'knn': 3.171, 'log_regr': 0.274}\n",
            "scaler-sampler-pca-:\n",
            "\ttrain times: {'dummy': 1.997, 'bayes': 2.416, 'knn': 2.373, 'log_regr': 4.214}\n",
            "\ttest times: {'dummy': 0.376, 'bayes': 0.468, 'knn': 3.203, 'log_regr': 0.418}\n",
            "scaler-sampler-:\n",
            "\ttrain times: {'dummy': 1.565, 'bayes': 1.876, 'knn': 1.827, 'log_regr': 9.019}\n",
            "\ttest times: {'dummy': 0.227, 'bayes': 0.432, 'knn': 3.335, 'log_regr': 0.296}\n",
            "scaler-pca-:\n",
            "\ttrain times: {'dummy': 1.338, 'bayes': 1.688, 'knn': 1.703, 'log_regr': 3.766}\n",
            "\ttest times: {'dummy': 0.335, 'bayes': 0.465, 'knn': 3.203, 'log_regr': 0.411}\n",
            "scaler-:\n",
            "\ttrain times: {'dummy': 0.913, 'bayes': 1.323, 'knn': 1.306, 'log_regr': 7.106}\n",
            "\ttest times: {'dummy': 0.233, 'bayes': 0.373, 'knn': 3.254, 'log_regr': 0.334}\n",
            "sampler-pca-:\n",
            "\ttrain times: {'dummy': 1.593, 'bayes': 1.886, 'knn': 1.85, 'log_regr': 3.497}\n",
            "\ttest times: {'dummy': 0.255, 'bayes': 0.361, 'knn': 3.59, 'log_regr': 0.282}\n",
            "sampler-:\n",
            "\ttrain times: {'dummy': 0.965, 'bayes': 1.344, 'knn': 1.307, 'log_regr': 6.806}\n",
            "\ttest times: {'dummy': 0.095, 'bayes': 0.288, 'knn': 3.381, 'log_regr': 0.161}\n",
            "pca-:\n",
            "\ttrain times: {'dummy': 0.835, 'bayes': 1.307, 'knn': 1.202, 'log_regr': 2.824}\n",
            "\ttest times: {'dummy': 0.229, 'bayes': 0.331, 'knn': 2.943, 'log_regr': 0.254}\n",
            ":\n",
            "\ttrain times: {'dummy': 0.337, 'bayes': 0.785, 'knn': 1.235, 'log_regr': 5.769}\n",
            "\ttest times: {'dummy': 0.106, 'bayes': 0.283, 'knn': 3.08, 'log_regr': 0.161}\n",
            "\n",
            "Max accuracy: 0.691, by selector-scaler-pca-log_regr\n",
            "Lowest accuracy: 0.345, by scaler-sampler-bayes\n",
            "Max average (accuracy, f1): 0.466, by scaler-sampler-pca-knn\n"
          ]
        },
        {
          "output_type": "display_data",
          "data": {
            "image/png": "[encoded data removed]",
            "text/plain": [
              "<Figure size 1440x216 with 2 Axes>"
            ]
          },
          "metadata": {
            "needs_background": "light"
          }
        },
        {
          "output_type": "display_data",
          "data": {
            "image/png": "[encoded data removed]",
            "text/plain": [
              "<Figure size 1440x216 with 2 Axes>"
            ]
          },
          "metadata": {
            "needs_background": "light"
          }
        },
        {
          "output_type": "display_data",
          "data": {
            "image/png": "[encoded data removed]",
            "text/plain": [
              "<Figure size 1440x216 with 2 Axes>"
            ]
          },
          "metadata": {
            "needs_background": "light"
          }
        },
        {
          "output_type": "display_data",
          "data": {
            "image/png": "[encoded data removed]",
            "text/plain": [
              "<Figure size 1440x216 with 2 Axes>"
            ]
          },
          "metadata": {
            "needs_background": "light"
          }
        },
        {
          "output_type": "display_data",
          "data": {
            "image/png": "[encoded data removed]",
            "text/plain": [
              "<Figure size 1440x216 with 2 Axes>"
            ]
          },
          "metadata": {
            "needs_background": "light"
          }
        },
        {
          "output_type": "display_data",
          "data": {
            "image/png": "[encoded data removed]",
            "text/plain": [
              "<Figure size 1440x216 with 2 Axes>"
            ]
          },
          "metadata": {
            "needs_background": "light"
          }
        },
        {
          "output_type": "display_data",
          "data": {
            "image/png": "[encoded data removed]",
            "text/plain": [
              "<Figure size 1440x216 with 2 Axes>"
            ]
          },
          "metadata": {
            "needs_background": "light"
          }
        },
        {
          "output_type": "display_data",
          "data": {
            "image/png": "[encoded data removed]",
            "text/plain": [
              "<Figure size 1440x216 with 2 Axes>"
            ]
          },
          "metadata": {
            "needs_background": "light"
          }
        },
        {
          "output_type": "display_data",
          "data": {
            "image/png": "[encoded data removed]",
            "text/plain": [
              "<Figure size 1440x216 with 2 Axes>"
            ]
          },
          "metadata": {
            "needs_background": "light"
          }
        },
        {
          "output_type": "display_data",
          "data": {
            "image/png": "[encoded data removed]",
            "text/plain": [
              "<Figure size 1440x216 with 2 Axes>"
            ]
          },
          "metadata": {
            "needs_background": "light"
          }
        },
        {
          "output_type": "display_data",
          "data": {
            "image/png": "[encoded data removed]",
            "text/plain": [
              "<Figure size 1440x216 with 2 Axes>"
            ]
          },
          "metadata": {
            "needs_background": "light"
          }
        },
        {
          "output_type": "display_data",
          "data": {
            "image/png": "[encoded data removed]",
            "text/plain": [
              "<Figure size 1440x216 with 2 Axes>"
            ]
          },
          "metadata": {
            "needs_background": "light"
          }
        },
        {
          "output_type": "display_data",
          "data": {
            "image/png": "[encoded data removed]",
            "text/plain": [
              "<Figure size 1440x216 with 2 Axes>"
            ]
          },
          "metadata": {
            "needs_background": "light"
          }
        },
        {
          "output_type": "display_data",
          "data": {
            "image/png": "[encoded data removed]",
            "text/plain": [
              "<Figure size 1440x216 with 2 Axes>"
            ]
          },
          "metadata": {
            "needs_background": "light"
          }
        },
        {
          "output_type": "display_data",
          "data": {
            "image/png": "[encoded data removed]",
            "text/plain": [
              "<Figure size 1440x216 with 2 Axes>"
            ]
          },
          "metadata": {
            "needs_background": "light"
          }
        },
        {
          "output_type": "display_data",
          "data": {
            "image/png": "[encoded data removed]",
            "text/plain": [
              "<Figure size 1440x216 with 2 Axes>"
            ]
          },
          "metadata": {
            "needs_background": "light"
          }
        },
        {
          "output_type": "display_data",
          "data": {
            "image/png": "[encoded data removed]",
            "text/plain": [
              "<Figure size 1440x216 with 2 Axes>"
            ]
          },
          "metadata": {
            "needs_background": "light"
          }
        }
      ]
    },
    {
      "cell_type": "markdown",
      "metadata": {
        "id": "de97f8f8-5dc6-4d5a-b0a0-783debc5652b"
      },
      "source": [
        "##### Καλύτερος ταξινομητής ως προς την ορθότητα"
      ],
      "id": "de97f8f8-5dc6-4d5a-b0a0-783debc5652b"
    },
    {
      "cell_type": "markdown",
      "metadata": {
        "id": "49417660-56b2-46a6-b291-bffeab066770"
      },
      "source": [
        "* Το accuracy και το f1-score του μοντέλου αυτού είναι κρατημένα στο object `max_accuracy`\n",
        "* Εκτυπώνω εκ νέου τις συγκριτικές γραφικές παραστάσεις, και τον ζητούμενο πίνακα markdown για το μοντέλο:"
      ],
      "id": "49417660-56b2-46a6-b291-bffeab066770"
    },
    {
      "cell_type": "code",
      "metadata": {
        "id": "1fb63050-4758-4ef1-a9a2-2dffe86608e1",
        "colab": {
          "base_uri": "https://localhost:8080/",
          "height": 526
        },
        "outputId": "41b43c5e-91c3-4a11-90bf-679be4f16f66"
      },
      "source": [
        "plt.title(f\"{max_accuracy['name'].replace('-', '->')}, GridSearch \")\n",
        "plt.bar(['accuracy', 'f1'], [max_accuracy['accuracy'], max_accuracy['f1']])\n",
        "print(\"accuracy:\", max_accuracy['accuracy'])\n",
        "print(\"f1-score:\", max_accuracy['f1'])\n",
        "plot_scores(out_of_the_box_accuracy, out_of_the_box_f1, fig_index=102+c, title_prefix=\"Out of the box\", color=\"green\")"
      ],
      "id": "1fb63050-4758-4ef1-a9a2-2dffe86608e1",
      "execution_count": null,
      "outputs": [
        {
          "output_type": "stream",
          "name": "stdout",
          "text": [
            "accuracy: 0.691\n",
            "f1-score: 0.0\n"
          ]
        },
        {
          "output_type": "display_data",
          "data": {
            "image/png": "[encoded data removed]",
            "text/plain": [
              "<Figure size 432x288 with 1 Axes>"
            ]
          },
          "metadata": {
            "needs_background": "light"
          }
        },
        {
          "output_type": "display_data",
          "data": {
            "image/png": "[encoded data removed]",
            "text/plain": [
              "<Figure size 1440x216 with 2 Axes>"
            ]
          },
          "metadata": {
            "needs_background": "light"
          }
        }
      ]
    },
    {
      "cell_type": "markdown",
      "metadata": {
        "id": "c2e2d5d0-c7eb-447c-a45a-ad42f3835459"
      },
      "source": [
        "* Ο πίνακας markdown:\n",
        "<table>\n",
        "<thead>\n",
        "  <td>Model</td>\n",
        "  <td>Grid-Search accuracy-score</td>\n",
        "  <td>Grid-Search f1-score</td>\n",
        "  <td>Out of the box accuracy-score</td>\n",
        "  <td>Out of the box f1-score</td>\n",
        "  <td>Grid-Search test-time (ms)</td>\n",
        "  <td>Grid-Search train-time (ms)</td>\n",
        "</thead>\n",
        "    <tbody>\n",
        "        <tr>\n",
        "            <td>Log.regression</td>\n",
        "            <td>0.6191</td>\n",
        "            <td>0.0</td>\n",
        "            <td>0.709</td>\n",
        "            <td>0.0</td>\n",
        "            <td>5.786</td>\n",
        "            <td>0.73</td>\n",
        "        </tr>\n",
        "    </tbody>\n",
        "</table>"
      ],
      "id": "c2e2d5d0-c7eb-447c-a45a-ad42f3835459"
    },
    {
      "cell_type": "markdown",
      "metadata": {
        "id": "41b56970-2893-4582-a06a-c958545092e2"
      },
      "source": [
        "###### Παρατηρήσεις"
      ],
      "id": "41b56970-2893-4582-a06a-c958545092e2"
    },
    {
      "cell_type": "markdown",
      "metadata": {
        "id": "5c6f3812-2a00-47c4-ae35-971a283dc8b9"
      },
      "source": [
        "* Στο μοντέλο με το βέλτιστο accuracy:\n",
        "    * Παρατηρώ  ότι το accuracy-score δεν ξεπερνάει την out-of-the-box επίδοση.\n",
        "    * Το f1-score παραμένει μηδενικό.   "
      ],
      "id": "5c6f3812-2a00-47c4-ae35-971a283dc8b9"
    },
    {
      "cell_type": "markdown",
      "metadata": {
        "id": "e4cd7f75-6005-4b18-af78-84fabc0f5c83"
      },
      "source": [
        "###### Πίνακας σύγχυσης"
      ],
      "id": "e4cd7f75-6005-4b18-af78-84fabc0f5c83"
    },
    {
      "cell_type": "code",
      "metadata": {
        "id": "af719eb7-ad2e-421e-ab43-038b93f2b108",
        "colab": {
          "base_uri": "https://localhost:8080/",
          "height": 302
        },
        "outputId": "f37ca9f5-625b-45a9-ce2d-0507eb29d16a"
      },
      "source": [
        "from sklearn.metrics import confusion_matrix\n",
        "import seaborn as sns; sns.set()\n",
        "\n",
        "pred = max_accuracy['predictions']\n",
        "print(f\"{max_accuracy['name']}:\")\n",
        "mat = confusion_matrix(test_labels_grid , pred)\n",
        "sns.heatmap(mat.T, square=True, annot=True, fmt='d', cbar=False)\n",
        "plt.xlabel('true label')\n",
        "plt.ylabel('predicted label');"
      ],
      "id": "af719eb7-ad2e-421e-ab43-038b93f2b108",
      "execution_count": null,
      "outputs": [
        {
          "output_type": "stream",
          "name": "stdout",
          "text": [
            "selector-scaler-pca-log_regr:\n"
          ]
        },
        {
          "output_type": "display_data",
          "data": {
            "image/png": "[encoded data removed]",
            "text/plain": [
              "<Figure size 432x288 with 1 Axes>"
            ]
          },
          "metadata": {}
        }
      ]
    },
    {
      "cell_type": "markdown",
      "metadata": {
        "id": "2ab039fb-b205-4e24-9bd8-d05d3282be1a"
      },
      "source": [
        "##### Χειρότερος ταξινομητής ως προς την ορθότητα:"
      ],
      "id": "2ab039fb-b205-4e24-9bd8-d05d3282be1a"
    },
    {
      "cell_type": "markdown",
      "metadata": {
        "id": "0be31d64-1302-4110-9a3a-633f13aaa6f6"
      },
      "source": [
        "* Το accuracy και το f1-score του μοντέλου αυτού είναι κρατημένα στο object `min_accuracy`\n",
        "* Εκτυπώνω εκ νέου τις συγκριτικές γραφικές παραστάσεις, και τον ζητούμενο πίνακα markdown για το μοντέλο:"
      ],
      "id": "0be31d64-1302-4110-9a3a-633f13aaa6f6"
    },
    {
      "cell_type": "code",
      "metadata": {
        "id": "778bb368-05fe-43d7-a944-f762e9ab6730",
        "colab": {
          "base_uri": "https://localhost:8080/",
          "height": 532
        },
        "outputId": "44732d27-2304-49ac-ddff-a762230eec88"
      },
      "source": [
        "plt.title(f\"{min_accuracy['name'].replace('-', '->')}, GridSearch \")\n",
        "plt.bar(['accuracy', 'f1'], [min_accuracy['accuracy'], min_accuracy['f1']])\n",
        "print(\"accuracy:\", min_accuracy['accuracy'])\n",
        "print(\"f1-score:\", min_accuracy['f1'])\n",
        "plot_scores(out_of_the_box_accuracy, out_of_the_box_f1, fig_index=102+c, title_prefix=\"Out of the box\", color=\"green\")"
      ],
      "id": "778bb368-05fe-43d7-a944-f762e9ab6730",
      "execution_count": null,
      "outputs": [
        {
          "output_type": "stream",
          "name": "stdout",
          "text": [
            "accuracy: 0.345\n",
            "f1-score: 0.182\n"
          ]
        },
        {
          "output_type": "display_data",
          "data": {
            "image/png": "[encoded data removed]",
            "text/plain": [
              "<Figure size 432x288 with 1 Axes>"
            ]
          },
          "metadata": {}
        },
        {
          "output_type": "display_data",
          "data": {
            "image/png": "[encoded data removed]",
            "text/plain": [
              "<Figure size 1440x216 with 2 Axes>"
            ]
          },
          "metadata": {}
        }
      ]
    },
    {
      "cell_type": "markdown",
      "metadata": {
        "id": "05fd8835-0fbf-43f5-87ab-80dc88644de6"
      },
      "source": [
        "###### Παρατηρήσεις"
      ],
      "id": "05fd8835-0fbf-43f5-87ab-80dc88644de6"
    },
    {
      "cell_type": "markdown",
      "metadata": {
        "id": "10eb0ece-cdaf-45ac-bef0-bd52c7f2d169"
      },
      "source": [
        "* Στο μοντέλο με το ελάχιστο accuracy:\n",
        "    * Παρατηρώ  ότι το accuracy-score είναι αρκετά μικρότερο από την out-of-the-box επίδοση.\n",
        "    * Το f1-score ωστόσο έχει αυξηθεί σημαντικά.   "
      ],
      "id": "10eb0ece-cdaf-45ac-bef0-bd52c7f2d169"
    },
    {
      "cell_type": "markdown",
      "metadata": {
        "id": "67c5727c-8bb2-4deb-acf3-e1412e13d09f"
      },
      "source": [
        "###### Πίνακας σύγχυσης"
      ],
      "id": "67c5727c-8bb2-4deb-acf3-e1412e13d09f"
    },
    {
      "cell_type": "code",
      "metadata": {
        "id": "4cc1a449-7026-4ebc-a46e-2aac99b74296",
        "colab": {
          "base_uri": "https://localhost:8080/",
          "height": 302
        },
        "outputId": "92e8c8b9-8f07-4a00-cd80-a41161c4c823"
      },
      "source": [
        "pred = min_accuracy['predictions']\n",
        "print(f\"{min_accuracy['name']}:\")\n",
        "mat = confusion_matrix(test_labels_grid , pred)\n",
        "sns.heatmap(mat.T, square=True, annot=True, fmt='d', cbar=False)\n",
        "plt.xlabel('true label')\n",
        "plt.ylabel('predicted label');"
      ],
      "id": "4cc1a449-7026-4ebc-a46e-2aac99b74296",
      "execution_count": null,
      "outputs": [
        {
          "output_type": "stream",
          "name": "stdout",
          "text": [
            "scaler-sampler-bayes:\n"
          ]
        },
        {
          "output_type": "display_data",
          "data": {
            "image/png": "[encoded data removed]",
            "text/plain": [
              "<Figure size 432x288 with 1 Axes>"
            ]
          },
          "metadata": {}
        }
      ]
    },
    {
      "cell_type": "markdown",
      "metadata": {
        "id": "66ec8232-527c-4788-8d53-ab5455e2bd35"
      },
      "source": [
        "##### Ταξινομητής που προτείνω"
      ],
      "id": "66ec8232-527c-4788-8d53-ab5455e2bd35"
    },
    {
      "cell_type": "markdown",
      "metadata": {
        "id": "3bb698cc-d865-4831-99df-760345e6836f"
      },
      "source": [
        "* Προτείνω τον ταξινομητή που έχει τον μεγαλύτερο μέσο όρο των δύο scores\n",
        "* Το accuracy και το f1-score του μοντέλου αυτού είναι κρατημένα στο object `max_average`"
      ],
      "id": "3bb698cc-d865-4831-99df-760345e6836f"
    },
    {
      "cell_type": "code",
      "metadata": {
        "id": "b8a9ecf2-cfab-4ae5-827d-548ae05ae1cc",
        "colab": {
          "base_uri": "https://localhost:8080/",
          "height": 532
        },
        "outputId": "08059f9c-8245-4129-f4d2-491af510dc77"
      },
      "source": [
        "plt.title(f\"{max_average['name'].replace('-', '->')}, GridSearch \")\n",
        "plt.bar(['accuracy', 'f1'], [max_average['accuracy'], max_average['f1']])\n",
        "print(\"accuracy:\", max_average['accuracy'])\n",
        "print(\"f1-score:\", max_average['f1'])\n",
        "plot_scores(out_of_the_box_accuracy, out_of_the_box_f1, fig_index=102+c, title_prefix=\"Out of the box\", color=\"green\")"
      ],
      "id": "b8a9ecf2-cfab-4ae5-827d-548ae05ae1cc",
      "execution_count": null,
      "outputs": [
        {
          "output_type": "stream",
          "name": "stdout",
          "text": [
            "accuracy: 0.564\n",
            "f1-score: 0.368\n"
          ]
        },
        {
          "output_type": "display_data",
          "data": {
            "image/png": "[encoded data removed]",
            "text/plain": [
              "<Figure size 432x288 with 1 Axes>"
            ]
          },
          "metadata": {}
        },
        {
          "output_type": "display_data",
          "data": {
            "image/png": "[encoded data removed]",
            "text/plain": [
              "<Figure size 1440x216 with 2 Axes>"
            ]
          },
          "metadata": {}
        }
      ]
    },
    {
      "cell_type": "markdown",
      "metadata": {
        "id": "40def99d-6fa8-4a14-b99d-70f59511cee4"
      },
      "source": [
        "###### Παρατηρήσεις"
      ],
      "id": "40def99d-6fa8-4a14-b99d-70f59511cee4"
    },
    {
      "cell_type": "markdown",
      "metadata": {
        "id": "8e161cab-c70c-4795-b03a-ca39acc6a886"
      },
      "source": [
        "* Παρατηρώ ότι το accuracy score δεν ξεπερνά και πάλι το out-of-the-box μοντέλο.\n",
        "* Το f1-score έχει αυξηθεί σημαντικά, πλησιάζοντας το accuracy-score."
      ],
      "id": "8e161cab-c70c-4795-b03a-ca39acc6a886"
    },
    {
      "cell_type": "markdown",
      "metadata": {
        "id": "d4e72815-f131-4236-a1dd-28b2020b93a7"
      },
      "source": [
        "###### Πίνακας σύγχυσης"
      ],
      "id": "d4e72815-f131-4236-a1dd-28b2020b93a7"
    },
    {
      "cell_type": "code",
      "metadata": {
        "id": "16f232fd-b5a9-4f3c-b571-b7891899eb68",
        "colab": {
          "base_uri": "https://localhost:8080/",
          "height": 302
        },
        "outputId": "64fa03b9-cc3e-40a6-f086-14a1b6490714"
      },
      "source": [
        "pred = max_average['predictions']\n",
        "print(f\"{max_average['name']}:\")\n",
        "mat = confusion_matrix(test_labels_grid , pred)\n",
        "sns.heatmap(mat.T, square=True, annot=True, fmt='d', cbar=False)\n",
        "plt.xlabel('true label')\n",
        "plt.ylabel('predicted label');"
      ],
      "id": "16f232fd-b5a9-4f3c-b571-b7891899eb68",
      "execution_count": null,
      "outputs": [
        {
          "output_type": "stream",
          "name": "stdout",
          "text": [
            "scaler-sampler-pca-knn:\n"
          ]
        },
        {
          "output_type": "display_data",
          "data": {
            "image/png": "[encoded data removed]",
            "text/plain": [
              "<Figure size 432x288 with 1 Axes>"
            ]
          },
          "metadata": {}
        }
      ]
    },
    {
      "cell_type": "markdown",
      "metadata": {
        "id": "_P1cP80bP1Nv"
      },
      "source": [
        "## ΜΕΡΟΣ 2"
      ],
      "id": "_P1cP80bP1Nv"
    },
    {
      "cell_type": "markdown",
      "metadata": {
        "id": "Y3XAV3LUP8cT"
      },
      "source": [
        "### Dataset: K05 - Εισαγωγή και επισκόπηση"
      ],
      "id": "Y3XAV3LUP8cT"
    },
    {
      "cell_type": "markdown",
      "metadata": {
        "id": "9K40k_YcQCZG"
      },
      "source": [
        "#### Σύντομη Παρουσίαση"
      ],
      "id": "9K40k_YcQCZG"
    },
    {
      "cell_type": "markdown",
      "metadata": {
        "id": "a4dQqkB9QKyh"
      },
      "source": [
        "* Το dataset είναι βασισμένο σε μία εφαρμογή εύρεσης ταξί , της οποίας στόχος είναι το βέλτιστο matching ταξί και πελάτη βάσει διάφορων παραγόντων.\n",
        "* Ο στόχος είναι η ταξινόμηση σε έναν από τους 3 τύπους στη στήλη που ονομάζεται SurgePricingType. \n",
        "* Η ταξινόμηση είναι ένα `Multi-classification` πρόβλημα.\n",
        "* Στα δεδομένα συμπεριλαμβάνονται η απόσταση του ταξιδιού, στοιχεία για το ταξί ,τον προορισμό καθώς και διάφοροι δείκτες για τον πελάτη.\n",
        "* Δουλεύουμε με το αρχείο `sigma_cabs.csv`."
      ],
      "id": "a4dQqkB9QKyh"
    },
    {
      "cell_type": "markdown",
      "metadata": {
        "id": "-hZruS0e2km-"
      },
      "source": [
        "#### Ανέβασμα dataset\n",
        "\n"
      ],
      "id": "-hZruS0e2km-"
    },
    {
      "cell_type": "code",
      "metadata": {
        "colab": {
          "resources": {
            "http://localhost:8080/nbextensions/google.colab/files.js": {
              "data": "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",
              "headers": [
                [
                  "content-type",
                  "application/javascript"
                ]
              ],
              "ok": true,
              "status": 200,
              "status_text": ""
            }
          },
          "base_uri": "https://localhost:8080/",
          "height": 72
        },
        "id": "fyF1G8Uh2ajw",
        "outputId": "70174406-aa9c-4b50-d9e0-7a48fae37d8b"
      },
      "source": [
        "from google.colab import files\n",
        "uploaded_files = files.upload()"
      ],
      "id": "fyF1G8Uh2ajw",
      "execution_count": null,
      "outputs": [
        {
          "data": {
            "text/html": [
              "\n",
              "     <input type=\"file\" id=\"files-f0f73860-ef42-4ed5-a616-2d261266fbd9\" name=\"files[]\" multiple disabled\n",
              "        style=\"border:none\" />\n",
              "     <output id=\"result-f0f73860-ef42-4ed5-a616-2d261266fbd9\">\n",
              "      Upload widget is only available when the cell has been executed in the\n",
              "      current browser session. Please rerun this cell to enable.\n",
              "      </output>\n",
              "      <script src=\"/nbextensions/google.colab/files.js\"></script> "
            ],
            "text/plain": [
              "<IPython.core.display.HTML object>"
            ]
          },
          "metadata": {},
          "output_type": "display_data"
        },
        {
          "name": "stdout",
          "output_type": "stream",
          "text": [
            "Saving sigma_cabs.csv to sigma_cabs.csv\n"
          ]
        }
      ]
    },
    {
      "cell_type": "markdown",
      "metadata": {
        "id": "KyX4ml8NeXYP"
      },
      "source": [
        "#### Διάβασμα dataset"
      ],
      "id": "KyX4ml8NeXYP"
    },
    {
      "cell_type": "code",
      "metadata": {
        "colab": {
          "base_uri": "https://localhost:8080/"
        },
        "id": "_T72gSOBSF0S",
        "outputId": "6f2e7a48-066d-48ed-d072-768e7e185cc6"
      },
      "source": [
        "import pandas as pd\n",
        "\n",
        "data = pd.read_csv(\"/content/sigma_cabs.csv\",header=0)\n",
        "\n",
        "examples_num = len(data.iloc[:,0])\n",
        "features_num = len(data.iloc[0,:13])\n",
        "\n",
        "print(f\"Dataset\",f\"\\nSamples: {examples_num}\", f\"\\nFeatures: {features_num}\", \"\\n\")\n",
        "print(\"Shape:\", data.shape)"
      ],
      "id": "_T72gSOBSF0S",
      "execution_count": null,
      "outputs": [
        {
          "output_type": "stream",
          "name": "stdout",
          "text": [
            "Dataset \n",
            "Samples: 131662 \n",
            "Features: 13 \n",
            "\n",
            "Shape: (131662, 14)\n"
          ]
        }
      ]
    },
    {
      "cell_type": "markdown",
      "metadata": {
        "id": "_NfXKTK5sDWD"
      },
      "source": [
        "#### Προεπεξεργασία"
      ],
      "id": "_NfXKTK5sDWD"
    },
    {
      "cell_type": "markdown",
      "metadata": {
        "id": "x18fOD14OsSg"
      },
      "source": [
        "##### Αντικάτασταση τιμών"
      ],
      "id": "x18fOD14OsSg"
    },
    {
      "cell_type": "markdown",
      "metadata": {
        "id": "3ahW5rg8eAo1"
      },
      "source": [
        "Παρατηρούμε πως έχουμε 5 κατηγορικές μεταβλητές και πως οι υπόλοιπες είναι αριθμητικές."
      ],
      "id": "3ahW5rg8eAo1"
    },
    {
      "cell_type": "code",
      "metadata": {
        "colab": {
          "base_uri": "https://localhost:8080/"
        },
        "id": "XpTfXb__d5RI",
        "outputId": "f4746c69-0fa0-4f43-8f3d-b042d9bf006b"
      },
      "source": [
        "cats = []\n",
        "nums = []\n",
        "for i in range(len(data.columns)-1):\n",
        "  c = data.columns[i]\n",
        "  if data[c].dtypes == 'object':\n",
        "    print(f\"{c} with index {i} is categorical\")\n",
        "    cats.append(i)\n",
        "  else:\n",
        "    print(f\"{c} with index {i} is numerical\")\n",
        "    nums.append(i)"
      ],
      "id": "XpTfXb__d5RI",
      "execution_count": null,
      "outputs": [
        {
          "output_type": "stream",
          "name": "stdout",
          "text": [
            "Trip_ID with index 0 is categorical\n",
            "Trip_Distance with index 1 is numerical\n",
            "Type_of_Cab with index 2 is categorical\n",
            "Customer_Since_Months with index 3 is numerical\n",
            "Life_Style_Index with index 4 is numerical\n",
            "Confidence_Life_Style_Index with index 5 is categorical\n",
            "Destination_Type with index 6 is categorical\n",
            "Customer_Rating with index 7 is numerical\n",
            "Cancellation_Last_1Month with index 8 is numerical\n",
            "Var1 with index 9 is numerical\n",
            "Var2 with index 10 is numerical\n",
            "Var3 with index 11 is numerical\n",
            "Gender with index 12 is categorical\n"
          ]
        }
      ]
    },
    {
      "cell_type": "code",
      "metadata": {
        "colab": {
          "base_uri": "https://localhost:8080/"
        },
        "id": "6MDjqC0zd-E0",
        "outputId": "0e952fde-f046-418a-8f7f-e3f37ff4c872"
      },
      "source": [
        "print(\"Categorical columns indexes:\", cats)\n",
        "print(\"Numerical columns indexes:\", nums)"
      ],
      "id": "6MDjqC0zd-E0",
      "execution_count": null,
      "outputs": [
        {
          "output_type": "stream",
          "name": "stdout",
          "text": [
            "Categorical columns indexes: [0, 2, 5, 6, 12]\n",
            "Numerical columns indexes: [1, 3, 4, 7, 8, 9, 10, 11]\n"
          ]
        }
      ]
    },
    {
      "cell_type": "markdown",
      "metadata": {
        "id": "GaZJNOGIyDkq"
      },
      "source": [
        "##### Προεπεξεργασία διαχείρισης απουσιάζουσων τιμών"
      ],
      "id": "GaZJNOGIyDkq"
    },
    {
      "cell_type": "code",
      "metadata": {
        "colab": {
          "base_uri": "https://localhost:8080/"
        },
        "id": "lvcKYwC2sG4_",
        "outputId": "dc42c961-0ab1-4a75-e259-5c390ffb99b8"
      },
      "source": [
        "import numpy as np\n",
        "\n",
        "data_grid = np.array(data)\n",
        "none_val = np.sum(np.sum(data.isna()))\n",
        "print(\"Number of empty values in train_set:\", none_val)\n",
        "print(\"Percentage of empty values in train_set:\",f\"{round(none_val/(features_num*examples_num)*100,3)}%\")"
      ],
      "id": "lvcKYwC2sG4_",
      "execution_count": null,
      "outputs": [
        {
          "output_type": "stream",
          "name": "stdout",
          "text": [
            "Number of empty values in train_set: 137546\n",
            "Percentage of empty values in train_set: 8.036%\n"
          ]
        }
      ]
    },
    {
      "cell_type": "markdown",
      "metadata": {
        "id": "dDz10VkceLGW"
      },
      "source": [
        "Θα αντικαταστήσουμε τις τιμές με αριθμούς στις κατηγορικές μεταβλητές, και το 'NaN' με το np.NaN, ώστε να ορίσουμε μετά τους κατάλληλους imputers. "
      ],
      "id": "dDz10VkceLGW"
    },
    {
      "cell_type": "code",
      "metadata": {
        "colab": {
          "base_uri": "https://localhost:8080/"
        },
        "id": "TntkOXVNO2gV",
        "outputId": "c5655b2d-2fea-4995-ab25-715dec00b9d4"
      },
      "source": [
        "#to Dataframes\n",
        "data_df = pd.DataFrame(data_grid)\n",
        "\n",
        "#create mappings for features that represent categories in order to represent them with numbers\n",
        "cab_mapping = {'A':0,'B':1,'C':2,'D':3,'E':4}\n",
        "confidence_mapping={'A':0,'B':1,'C':2}\n",
        "dest_mapping={'A':0,'B':1,'C':2,'D':3,'E':4,'F':5,'G':6,'H':7,'I':8,'J':9,'K':10,'L':11,'M':12,'N':13}\n",
        "gender_mapping={'Male':0,'Female':1}\n",
        "surge_mapping={1:0,2:1,3:2}\n",
        "\n",
        "#attach columns to Dataframe\n",
        "data_df.columns = list(data.columns)\n",
        "\n",
        "#delete Trip_ID column as it is not needed\n",
        "data_df = data_df.drop('Trip_ID',1)\n",
        "cats.remove(0)\n",
        "# all indexes on nums and cats lists should: -=1\n",
        "nums = list(map(lambda x: x-1, nums))\n",
        "cats = list(map(lambda x: x-1, cats))\n",
        "\n",
        "#for training set\n",
        "data_df['Type_of_Cab'] = data_df['Type_of_Cab'].map(cab_mapping)\n",
        "data_df['Confidence_Life_Style_Index'] = data_df['Confidence_Life_Style_Index'].map(confidence_mapping)\n",
        "data_df.Destination_Type = data_df.Destination_Type.map(dest_mapping)\n",
        "data_df.Gender = data_df.Gender.map(gender_mapping)\n",
        "data_df.Surge_Pricing_Type = data_df.Surge_Pricing_Type.map(surge_mapping)\n",
        "\n",
        "#then, we are going to replace empty values in the categoric features with a specific value in order to \n",
        "#replace it later with the most frequent method in imputing\n",
        "data_df.replace('NaN',np.NaN,inplace=True)\n",
        "\n",
        "#finally, we get \n",
        "print(data_df)"
      ],
      "id": "TntkOXVNO2gV",
      "execution_count": null,
      "outputs": [
        {
          "output_type": "stream",
          "name": "stderr",
          "text": [
            "/usr/local/lib/python3.7/dist-packages/ipykernel_launcher.py:15: FutureWarning: In a future version of pandas all arguments of DataFrame.drop except for the argument 'labels' will be keyword-only\n",
            "  from ipykernel import kernelapp as app\n"
          ]
        },
        {
          "output_type": "stream",
          "name": "stdout",
          "text": [
            "       Trip_Distance  Type_of_Cab  ... Gender Surge_Pricing_Type\n",
            "0               6.77          1.0  ...      1                  1\n",
            "1              29.47          1.0  ...      0                  1\n",
            "2              41.58          NaN  ...      0                  1\n",
            "3              61.56          2.0  ...      0                  2\n",
            "4              54.95          2.0  ...      0                  1\n",
            "...              ...          ...  ...    ...                ...\n",
            "131657         11.72          3.0  ...      0                  2\n",
            "131658         74.81          2.0  ...      0                  1\n",
            "131659         40.17          2.0  ...      1                  1\n",
            "131660         46.88          1.0  ...      0                  1\n",
            "131661         31.96          0.0  ...      0                  0\n",
            "\n",
            "[131662 rows x 13 columns]\n"
          ]
        }
      ]
    },
    {
      "cell_type": "markdown",
      "metadata": {
        "id": "S9BHwIpv5cUg"
      },
      "source": [
        "#### Αναλογία test και train sets"
      ],
      "id": "S9BHwIpv5cUg"
    },
    {
      "cell_type": "markdown",
      "metadata": {
        "id": "wN-nUQoo6sa5"
      },
      "source": [
        "Θα θέσουμε την αναλογία train-test set σε 70-30 με την συναρτηση train_test_split του scikit."
      ],
      "id": "wN-nUQoo6sa5"
    },
    {
      "cell_type": "code",
      "metadata": {
        "colab": {
          "base_uri": "https://localhost:8080/"
        },
        "id": "_tlzxgq55nsg",
        "outputId": "92c32a1d-460d-445f-b9e8-ded2f2e2e084"
      },
      "source": [
        "from sklearn.model_selection import train_test_split\n",
        "\n",
        "labels =  data_df.iloc[:, [12]].values\n",
        "features = data_df.iloc[:, :12].values\n",
        "X_train, X_test, Y_train, Y_test = train_test_split(features, labels, test_size=0.3)\n",
        "\n",
        "print(\"Train features shape:\", X_train.shape)\n",
        "print(\"Test features shape:\", X_test.shape)\n",
        "print(\"Train labels shape:\", Y_train.shape)\n",
        "print(\"Test labels shape:\", Y_test.shape)\n"
      ],
      "id": "_tlzxgq55nsg",
      "execution_count": null,
      "outputs": [
        {
          "output_type": "stream",
          "name": "stdout",
          "text": [
            "Train features shape: (92163, 12)\n",
            "Test features shape: (39499, 12)\n",
            "Train labels shape: (92163, 1)\n",
            "Test labels shape: (39499, 1)\n"
          ]
        }
      ]
    },
    {
      "cell_type": "markdown",
      "metadata": {
        "id": "kIGJF6gxL1Td"
      },
      "source": [
        "##### Εξάλειψη απουσιάζουσων τιμών"
      ],
      "id": "kIGJF6gxL1Td"
    },
    {
      "cell_type": "markdown",
      "metadata": {
        "id": "BdeBmC1vAigl"
      },
      "source": [
        "* Μελετώντας το dataset παρατηρούμε ότι οι απουσιάζουσες τιμές είναι σε συγκεκριμένες στήλες και όχι σε όλες.\n",
        "* Ορίζουμε δύο ειδών imputers, ώστε να χειριστούμε αλλιώς τις απυσιάζουσες τιμές στις στήλες με κατηγορικά features, και αλλιώς στις στήλες με αριθμητικά features.\n",
        "  * Κατηγορικά features: strategy = most_frequent\n",
        "  * Αριθμητικά features: strategy = mean\n"
      ],
      "id": "BdeBmC1vAigl"
    },
    {
      "cell_type": "code",
      "metadata": {
        "id": "8xWHKkoXMQPc"
      },
      "source": [
        "from sklearn.impute import SimpleImputer\n",
        "from sklearn.compose import ColumnTransformer\n",
        "from sklearn.pipeline import Pipeline\n",
        "\n",
        "imp_numeric = Pipeline(\n",
        "    steps = [\n",
        "      ('imputer', SimpleImputer(strategy='mean')),\n",
        "    ]\n",
        ")\n",
        " \n",
        "imp_categ = Pipeline(\n",
        "    steps = [\n",
        "      ('imputer', SimpleImputer(strategy='most_frequent')),\n",
        "    ]\n",
        ")\n",
        " \n",
        "preprocessor = ColumnTransformer(\n",
        "    transformers = [\n",
        "      ('imputer_numeric', imp_numeric, nums),\n",
        "      ('imputer_categoric', imp_categ, cats),\n",
        "    ]\n",
        ")\n",
        "\n",
        "# fit transform on the training set\n",
        "new_X_train_df = pd.DataFrame(preprocessor.fit_transform(pd.DataFrame(X_train)))\n",
        "# ONLY transform on the testing set\n",
        "new_X_test_df  = pd.DataFrame(preprocessor.transform(pd.DataFrame(X_test)))\n"
      ],
      "id": "8xWHKkoXMQPc",
      "execution_count": null,
      "outputs": []
    },
    {
      "cell_type": "markdown",
      "metadata": {
        "id": "dyl5UYy3ZjGw"
      },
      "source": [
        "Βλέπουμε ότι αντικαταστήσαμε όλες τις απουσιάζουσες τιμές , αφού πλέον δεν υπάρχουν."
      ],
      "id": "dyl5UYy3ZjGw"
    },
    {
      "cell_type": "code",
      "metadata": {
        "colab": {
          "base_uri": "https://localhost:8080/"
        },
        "id": "EXBR-FzwRU1P",
        "outputId": "b8b804a5-d013-4b7b-f92e-70f49299a312"
      },
      "source": [
        "none_val = np.sum(np.sum(new_X_train_df).isna()) + np.sum(np.sum(new_X_test_df).isna())\n",
        "print(\"Number of empty values in train and test set features:\", none_val)"
      ],
      "id": "EXBR-FzwRU1P",
      "execution_count": null,
      "outputs": [
        {
          "output_type": "stream",
          "name": "stdout",
          "text": [
            "Number of empty values in train and test set features: 0\n"
          ]
        }
      ]
    },
    {
      "cell_type": "markdown",
      "metadata": {
        "id": "VxQehHS-yc6d"
      },
      "source": [
        "Τα **labels** βρίσκονται στην τελευταία στήλη (SurgePricingType) και όπως φαίνεται δεν έχουν απουσιάζουσες τιμές.\n",
        "\n"
      ],
      "id": "VxQehHS-yc6d"
    },
    {
      "cell_type": "code",
      "metadata": {
        "colab": {
          "base_uri": "https://localhost:8080/"
        },
        "id": "oRNp82Mlyf07",
        "outputId": "240c294a-adfe-4cb9-d265-c1ec2285421c"
      },
      "source": [
        "print(\"Labels:\", labels.ravel())\n",
        "\n",
        "#Missing values in SurgePricingType\n",
        "missing =  np.sum(np.sum(pd.DataFrame(labels).isna()))\n",
        "print(f\"\\nNumber of missing values in labels: {missing}\")\n"
      ],
      "id": "oRNp82Mlyf07",
      "execution_count": null,
      "outputs": [
        {
          "output_type": "stream",
          "name": "stdout",
          "text": [
            "Labels: [1 1 1 ... 1 1 0]\n",
            "\n",
            "Number of missing values in labels: 0\n"
          ]
        }
      ]
    },
    {
      "cell_type": "markdown",
      "metadata": {
        "id": "o1yXfv-NByZd"
      },
      "source": [
        "##### Από εδώ και πέρα δουλεύουμε με τα: new_X_train_df, new_X_test_df, Y_train, Y_test"
      ],
      "id": "o1yXfv-NByZd"
    },
    {
      "cell_type": "code",
      "metadata": {
        "colab": {
          "base_uri": "https://localhost:8080/"
        },
        "id": "T8NvjKde84_w",
        "outputId": "eaa04ecc-9b31-4a49-a2a7-cc1c6e5a4c4f"
      },
      "source": [
        "print(\"Transformed train shape:\", new_X_train_df.shape)\n",
        "print(\"Transformed test shape:\", new_X_test_df.shape)\n",
        "print(\"Train labels shape:\", Y_train.shape)\n",
        "print(\"Test labels shape:\", Y_test.shape)"
      ],
      "id": "T8NvjKde84_w",
      "execution_count": null,
      "outputs": [
        {
          "output_type": "stream",
          "name": "stdout",
          "text": [
            "Transformed train shape: (92163, 12)\n",
            "Transformed test shape: (39499, 12)\n",
            "Train labels shape: (92163, 1)\n",
            "Test labels shape: (39499, 1)\n"
          ]
        }
      ]
    },
    {
      "cell_type": "markdown",
      "metadata": {
        "id": "HB5n87mD27g0"
      },
      "source": [
        "#### Μετράμε ότι τo dataset μας δεν είναι ισορροπημένο."
      ],
      "id": "HB5n87mD27g0"
    },
    {
      "cell_type": "code",
      "metadata": {
        "colab": {
          "base_uri": "https://localhost:8080/",
          "height": 382
        },
        "id": "L6tyFiwq19Ut",
        "outputId": "424aa074-4053-4024-b7b3-72400ae82768"
      },
      "source": [
        "import matplotlib.pyplot as plt\n",
        "#Check if dataset is balanced\n",
        "unique, counts = np.unique(labels, return_counts = True)\n",
        "counts_dict = dict(zip(unique,counts))\n",
        "\n",
        "types=dict()\n",
        "print(\"\\nTypes \\t|Percentage \\t\\t|Total times\")\n",
        "for key in counts_dict.keys() :\n",
        "  types[f\"Type {key}\"]= round(counts_dict[key]/len(labels)*100,3)\n",
        "  print(f\"Type {key} \\t| {round(counts_dict[key]/len(labels)*100,3)}% \\t\\t|{counts_dict[key]}\")\n",
        "\n",
        "plt.figure(21)\n",
        "plt.title(\"Percentages\")\n",
        "plt.xlabel(\"Type\")\n",
        "plt.ylabel(\"Percentage\")\n",
        "barlist = plt.bar(types.keys(), types.values(),color=['blue','red','green'])\n",
        "plt.show()"
      ],
      "id": "L6tyFiwq19Ut",
      "execution_count": null,
      "outputs": [
        {
          "output_type": "stream",
          "name": "stdout",
          "text": [
            "\n",
            "Types \t|Percentage \t\t|Total times\n",
            "Type 0 \t| 20.67% \t\t|27214\n",
            "Type 1 \t| 43.086% \t\t|56728\n",
            "Type 2 \t| 36.244% \t\t|47720\n"
          ]
        },
        {
          "output_type": "display_data",
          "data": {
            "image/png": "[encoded data removed]",
            "text/plain": [
              "<Figure size 432x288 with 1 Axes>"
            ]
          },
          "metadata": {
            "needs_background": "light"
          }
        }
      ]
    },
    {
      "cell_type": "markdown",
      "metadata": {
        "id": "eXi4HR20gY2Q"
      },
      "source": [
        "#### Συμπεράσματα-Παρατηρήσεις"
      ],
      "id": "eXi4HR20gY2Q"
    },
    {
      "cell_type": "markdown",
      "metadata": {
        "id": "Jj9J68oXgevq"
      },
      "source": [
        "Παρατηρούμε τα εξής: \n",
        "* Το dataset μας αποτελείται απο 14 στήλες και έχουμε 131.662 examples.\n",
        "* Η πρώτη στήλη είναι το ID του ταξιδιού, οπότε δεν έχει πρακτική σημασία και την αφαιρούμε.\n",
        "* Η τελευταία στήλη είναι αυτή η οποία διαχωρίζει κάθε example σε μία απο τις 3 κατηγορίες.\n",
        "* Καταγράφεται επίσης η απόσταση του ταξιδιού, η κατηγορία του ταξί, ο προορισμός(διαχωρισμένος σε 1 από 14 κατηγορίες).\n",
        "* Έχουμε επικεφαλίδες.\n",
        "* Υπάρχουν 137.546 απουσιάζουσες τιμές στο train set σε κάποια χαρακτηριστικά, τα οποία θα αφαιρέσουμε αργότερα, στο στάδιο της βελτιστοποίησης, για να δούμε την διαφορά που θα επιφέρει η βελτίωση αυτή στην επίδοση των ταξινομητών.\n",
        "* Το dataset μας **δεν είναι ισορροπημένο** αφού βλέπουμε\n",
        "ανόμοια κατανομή στις 3 κατηγορίες."
      ],
      "id": "Jj9J68oXgevq"
    },
    {
      "cell_type": "markdown",
      "metadata": {
        "id": "yb1_55RSPkO_"
      },
      "source": [
        "### Μετρικές\n"
      ],
      "id": "yb1_55RSPkO_"
    },
    {
      "cell_type": "markdown",
      "metadata": {
        "id": "69Q0LtAGPo90"
      },
      "source": [
        "Το συγκεκριμένο πρόβλημα είναι multi-classification πρόβλημα ,γεγονός που πρέπει να λάβουμε υπόψιν κατά την επιλογή των μετρικών. Έτσι θα χρησιμοποιήσουμε:\n",
        "1. Accuracy Score\n",
        "2. F1 Score\n",
        "3. Recall Score"
      ],
      "id": "69Q0LtAGPo90"
    },
    {
      "cell_type": "markdown",
      "metadata": {
        "id": "7-9PW5T0f6Qw"
      },
      "source": [
        "### Cross-Validation και Train-Test Split"
      ],
      "id": "7-9PW5T0f6Qw"
    },
    {
      "cell_type": "markdown",
      "metadata": {
        "id": "1XPFMYG2gXxn"
      },
      "source": [
        "* **Train-Test Split**\n",
        "> Το dataset μας το χωρίσαμε σε train και test sets με αναλογία είναι 70-30.\n",
        "\n",
        "* **Cross-Validation**\n",
        "> Θα χρησιμοποιήσουμε cross-validation και συγκεκριμένα το σχήμα k-folds CV με k=10. Στο k-folds το train-set μας χωρίζεται σε 10 μικρότερα μέρη. Θα την υλοποιήσουμε χρησιμοποιώντας την *cross_val_score* της *sklearn.model_selection* ."
      ],
      "id": "1XPFMYG2gXxn"
    },
    {
      "cell_type": "markdown",
      "metadata": {
        "id": "Tco6thN-n5L0"
      },
      "source": [
        "### Ταξινόμηση"
      ],
      "id": "Tco6thN-n5L0"
    },
    {
      "cell_type": "markdown",
      "metadata": {
        "id": "OCAQJroin-On"
      },
      "source": [
        "#### Θα δουλέψουμε με 2 ταξινομητές:\n",
        "* Mylti-Layer Perceptron (MLP), και\n",
        "* Support Vector Machines (SVM)"
      ],
      "id": "OCAQJroin-On"
    },
    {
      "cell_type": "markdown",
      "metadata": {
        "id": "qh95iB7uTe_t"
      },
      "source": [
        "#### Out of the box"
      ],
      "id": "qh95iB7uTe_t"
    },
    {
      "cell_type": "code",
      "metadata": {
        "id": "xlEir4g8TmSt"
      },
      "source": [
        "from sklearn.neural_network import MLPClassifier\n",
        "from sklearn.dummy import DummyClassifier\n",
        "from sklearn.svm import SVC\n",
        "from sklearn.metrics import accuracy_score, f1_score, recall_score\n",
        "\n",
        "models = [\n",
        "    {\n",
        "      'name': 'dummy',\n",
        "      'model': DummyClassifier(),\n",
        "    },\n",
        "    {\n",
        "      'name': 'MLP',\n",
        "      'model': MLPClassifier(),\n",
        "    },\n",
        "    {\n",
        "      'name': 'SVM',\n",
        "      'model': SVC(decision_function_shape='ovo')\n",
        "    },\n",
        "]\n",
        "\n",
        "def compute_simple_scores(models, train, train_labels, test, test_labels):\n",
        "    accuracy = dict()\n",
        "    f1 = dict()\n",
        "    recall = dict()\n",
        "    for m in models:\n",
        "      name, model = m.values()\n",
        "      model.fit(train, train_labels.ravel())\n",
        "      preds = model.predict(test)\n",
        "      accuracy[name] = round(accuracy_score(test_labels, preds), 3)\n",
        "      f1[name] = round(f1_score(test_labels, preds, average='macro'), 3)\n",
        "      recall[name] = round(recall_score(test_labels, preds, average='macro'), 3)\n",
        "    return accuracy, f1, recall\n"
      ],
      "id": "xlEir4g8TmSt",
      "execution_count": null,
      "outputs": []
    },
    {
      "cell_type": "markdown",
      "metadata": {
        "id": "NbBJQysp9fDN"
      },
      "source": [
        "##### Fit σε ολόκληρο το train set και έλεγχος επίδοσης στο test set"
      ],
      "id": "NbBJQysp9fDN"
    },
    {
      "cell_type": "code",
      "metadata": {
        "colab": {
          "base_uri": "https://localhost:8080/"
        },
        "id": "RaX40iSY9QM9",
        "outputId": "3fdba698-fd8a-4148-cbe3-a7182ad20e3c"
      },
      "source": [
        "out_of_the_box_accuracy, out_of_the_box_f1, out_of_the_box_recall = compute_simple_scores(models, new_X_train_df, Y_train, new_X_test_df, Y_test)\n",
        "\n",
        "print(\"Accuracy:\", out_of_the_box_accuracy)\n",
        "print(\"F1:\", out_of_the_box_f1)\n",
        "print(\"Recall:\", out_of_the_box_recall)"
      ],
      "id": "RaX40iSY9QM9",
      "execution_count": null,
      "outputs": [
        {
          "output_type": "stream",
          "name": "stdout",
          "text": [
            "Accuracy: {'dummy': 0.428, 'MLP': 0.684, 'SVM': 0.637}\n",
            "F1: {'dummy': 0.2, 'MLP': 0.668, 'SVM': 0.606}\n",
            "Recall: {'dummy': 0.333, 'MLP': 0.655, 'SVM': 0.588}\n"
          ]
        }
      ]
    },
    {
      "cell_type": "markdown",
      "metadata": {
        "id": "ORt2uwpK3bbl"
      },
      "source": [
        "##### Πίνακας markdown"
      ],
      "id": "ORt2uwpK3bbl"
    },
    {
      "cell_type": "markdown",
      "metadata": {
        "id": "SOAiCSNK3c8P"
      },
      "source": [
        "<table>\n",
        "<thead>\n",
        "  <td>Model</td>\n",
        "  <td>Accuracy-score</td>\n",
        "  <td>F1-score</td>\n",
        "  <td>Recall-score</td>\n",
        "</thead>\n",
        "<tbody>\n",
        "<tr>\n",
        "  <td>Dummy</td>\n",
        "  <td>0.428</td>\n",
        "  <td>0.2</td>\n",
        "  <td>0.333</td>\n",
        "</tr>\n",
        "<tr>\n",
        "  <td>MLP</td>\n",
        "  <td>0.684</td>\n",
        "  <td>0.668</td>\n",
        "  <td>0.655</td>\n",
        "</tr>\n",
        "<tr>\n",
        "  <td>SVM</td>\n",
        "  <td>0.637</td>\n",
        "  <td>0.606</td>\n",
        "  <td>0.588</td>\n",
        "</tr>\n",
        "\n",
        "</tbody>\n",
        "</table>"
      ],
      "id": "SOAiCSNK3c8P"
    },
    {
      "cell_type": "markdown",
      "metadata": {
        "id": "sdAwUvDi3iUU"
      },
      "source": [
        "##### Bar plots"
      ],
      "id": "sdAwUvDi3iUU"
    },
    {
      "cell_type": "code",
      "metadata": {
        "colab": {
          "base_uri": "https://localhost:8080/",
          "height": 229
        },
        "id": "KiOmWDxC3j3G",
        "outputId": "213716c0-2c82-498e-e579-3d4ee5ab6696"
      },
      "source": [
        "# attach SVMs results\n",
        "# out_of_the_box_accuracy['SVM']=0.64\n",
        "# out_of_the_box_f1['SVM']=0.612\n",
        "# out_of_the_box_recall['SVM']=0.594\n",
        "\n",
        "def plot_scores(accuracy, f1, recall, fig_index=1, title_prefix=\"\", color=\"blue\"):\n",
        "    fig, axs = plt.subplots(1, 3, figsize=(20, 3), sharey=True)\n",
        "    \n",
        "    axs[0].bar(accuracy.keys(), accuracy.values(), color=color)\n",
        "    axs[0].set_title(f\"{title_prefix} Accuracies\")\n",
        "\n",
        "    axs[1].bar(f1.keys(), f1.values(), color=color)\n",
        "    axs[1].set_title(f\"{title_prefix} F1-scores\")\n",
        "\n",
        "    axs[2].bar(recall.keys(), recall.values(), color=color)\n",
        "    axs[2].set_title(f\"{title_prefix} Recall-scores\")\n",
        "\n",
        "plot_scores(out_of_the_box_accuracy, out_of_the_box_f1, out_of_the_box_recall)"
      ],
      "id": "KiOmWDxC3j3G",
      "execution_count": null,
      "outputs": [
        {
          "output_type": "display_data",
          "data": {
            "image/png": "[encoded data removed]",
            "text/plain": [
              "<Figure size 1440x216 with 3 Axes>"
            ]
          },
          "metadata": {}
        }
      ]
    },
    {
      "cell_type": "markdown",
      "metadata": {
        "id": "inG-TR603rCx"
      },
      "source": [
        "##### Παρατηρήσεις"
      ],
      "id": "inG-TR603rCx"
    },
    {
      "cell_type": "markdown",
      "metadata": {
        "id": "cdcF6RUr3t72"
      },
      "source": [
        "* Και ο MLP classifier και τα SVMs παρουσιάζουν πολύ καλύτερες επιδόσεις από τον dummy classifier σε όλες τις μετρικές.\n",
        "* Ο MLP classifier είναι ελαφρώς καλύτερος από τα SVMs σε όλες τις μετρικές."
      ],
      "id": "cdcF6RUr3t72"
    },
    {
      "cell_type": "markdown",
      "metadata": {
        "id": "psEvUSy9C_0P"
      },
      "source": [
        "#### Βελτιστοποίηση SVM"
      ],
      "id": "psEvUSy9C_0P"
    },
    {
      "cell_type": "markdown",
      "metadata": {
        "id": "t_gGCwZ3_egF"
      },
      "source": [
        "##### Με pipeline"
      ],
      "id": "t_gGCwZ3_egF"
    },
    {
      "cell_type": "markdown",
      "metadata": {
        "id": "-f0A6uNIAJgz"
      },
      "source": [
        "* Χρησιμοποιούμε:\n",
        "  * pipeline για να εισαγάγουμε την προεπεξεργασία\n",
        "  * την βιβλιοθήκη optuna για την βελτιστοποίηση των υπερπαραμέτρων των μετασχηματιστών και των εκτιμητών\n",
        "* Όσον αφορά τα εύρη που μελετάμε στις υπερπαραμέτρους:\n",
        "  * PCA:\n",
        "    * δεδομένου ότι έχουμε 12 features, δοκιμάζουμε να τα αναλύσουμε σε έως 10 \n",
        "      components\n",
        "  * SVM:\n",
        "    * δοκιμάζουμε τις πιο συνήθεις επιλογές για τις υπερπαραμέτρους kernel, c, \n",
        "      gamma και degree"
      ],
      "id": "-f0A6uNIAJgz"
    },
    {
      "cell_type": "code",
      "metadata": {
        "id": "lt-QMxrwSJPB"
      },
      "source": [
        "# will be used to store the scores of the best models\n",
        "best_accuracies = dict()\n",
        "best_f1s = dict()\n",
        "best_recalls = dict()"
      ],
      "id": "lt-QMxrwSJPB",
      "execution_count": null,
      "outputs": []
    },
    {
      "cell_type": "code",
      "metadata": {
        "colab": {
          "base_uri": "https://localhost:8080/"
        },
        "id": "J79ZmMoWDFsM",
        "outputId": "4a629510-e1f6-47cb-841e-771a626e90e6"
      },
      "source": [
        "import optuna\n",
        "from sklearn.preprocessing import StandardScaler\n",
        "from sklearn.decomposition import PCA\n",
        "from sklearn.svm import SVC\n",
        "from sklearn.metrics import f1_score\n",
        "\n",
        "predictions = []\n",
        "\n",
        "def objective_svm(trial):\n",
        "    \n",
        "    steps = []\n",
        "    \n",
        "    scaler = StandardScaler()\n",
        "    steps.append(('scaler', scaler))\n",
        "\n",
        "    #ros = RandomOverSampler()\n",
        "    #steps.append(('ros', ros))\n",
        "    \n",
        "    n_components = trial.suggest_int('n_components', 2, 10, step=4)\n",
        "    pca = PCA(n_components=n_components)\n",
        "    steps.append(('pca', pca))\n",
        "    \n",
        "    kernel=trial.suggest_categorical('kernel',['rbf','poly','linear','sigmoid'])\n",
        "    c=trial.suggest_float(\"C\",0.1,3.0,log=True)\n",
        "    gamma=trial.suggest_categorical('gamma',['auto','scale'])\n",
        "    degree=trial.suggest_int(\"degree\",1,3,log=True)\n",
        "    \n",
        "    svm = SVC(decision_function_shape='ovo',degree=degree,gamma=gamma,C=c,kernel=kernel)\n",
        "    steps.append(('svm', svm))\n",
        "    \n",
        "    pipe = Pipeline(steps=steps)\n",
        "    \n",
        "    pipe.fit(new_X_train_df, Y_train.ravel())\n",
        "  \n",
        "    preds = pipe.predict(new_X_test_df)\n",
        "\n",
        "    predictions.append({\n",
        "        'n_components': n_components,\n",
        "        'kernel':kernel,\n",
        "        'gamma':gamma,\n",
        "        'C':c,\n",
        "        'degree':degree,\n",
        "        'preds': preds\n",
        "    })\n",
        "    \n",
        "    score = f1_score(Y_test, preds, average='macro')\n",
        "    \n",
        "    return score\n",
        "\n",
        "\n",
        "study = optuna.create_study(direction='maximize')\n",
        "study.optimize(objective_svm, n_trials=4)"
      ],
      "id": "J79ZmMoWDFsM",
      "execution_count": null,
      "outputs": [
        {
          "output_type": "stream",
          "name": "stderr",
          "text": [
            "\u001b[32m[I 2021-12-02 21:02:27,591]\u001b[0m A new study created in memory with name: no-name-d0466d31-2fea-4340-aec8-00aa4617a03e\u001b[0m\n",
            "\u001b[32m[I 2021-12-02 21:12:36,361]\u001b[0m Trial 0 finished with value: 0.4310638160275016 and parameters: {'n_components': 10, 'kernel': 'poly', 'C': 1.204552851257661, 'gamma': 'scale', 'degree': 2}. Best is trial 0 with value: 0.4310638160275016.\u001b[0m\n",
            "\u001b[32m[I 2021-12-02 21:24:40,814]\u001b[0m Trial 1 finished with value: 0.6600886858013236 and parameters: {'n_components': 10, 'kernel': 'rbf', 'C': 0.20796091832380836, 'gamma': 'scale', 'degree': 1}. Best is trial 1 with value: 0.6600886858013236.\u001b[0m\n",
            "\u001b[32m[I 2021-12-02 21:32:22,065]\u001b[0m Trial 2 finished with value: 0.5508205656652657 and parameters: {'n_components': 6, 'kernel': 'linear', 'C': 0.5103197999781499, 'gamma': 'scale', 'degree': 1}. Best is trial 1 with value: 0.6600886858013236.\u001b[0m\n",
            "\u001b[32m[I 2021-12-02 21:44:35,113]\u001b[0m Trial 3 finished with value: 0.5625411524902337 and parameters: {'n_components': 6, 'kernel': 'rbf', 'C': 0.32060168355070784, 'gamma': 'auto', 'degree': 1}. Best is trial 1 with value: 0.6600886858013236.\u001b[0m\n"
          ]
        }
      ]
    },
    {
      "cell_type": "markdown",
      "metadata": {
        "id": "3x2Qvs5VWDuk"
      },
      "source": [
        "Τελικά οι καλυτέροι υπερπαράμετροι για την ταξινόμηση με SVM είναι:"
      ],
      "id": "3x2Qvs5VWDuk"
    },
    {
      "cell_type": "code",
      "metadata": {
        "colab": {
          "base_uri": "https://localhost:8080/"
        },
        "id": "x_ofCXc6WDfj",
        "outputId": "ff2e6e43-9030-4b25-f453-af684d8922a1"
      },
      "source": [
        "study.best_params"
      ],
      "id": "x_ofCXc6WDfj",
      "execution_count": null,
      "outputs": [
        {
          "output_type": "execute_result",
          "data": {
            "text/plain": [
              "{'C': 0.20796091832380836,\n",
              " 'degree': 1,\n",
              " 'gamma': 'scale',\n",
              " 'kernel': 'rbf',\n",
              " 'n_components': 10}"
            ]
          },
          "metadata": {},
          "execution_count": 30
        }
      ]
    },
    {
      "cell_type": "markdown",
      "metadata": {
        "id": "ZgA9jJFYXBM5"
      },
      "source": [
        "Στα παρακάτω διαγράμματα βλέπουμε ένα διάγραμμα για κάθε υπερπαράμετρο που δοκιμάστηκε , και με πιο σκούρο χρώμα τις υπερπαραμέτρους που οδήγησαν στη βέλτιστη επίδοση."
      ],
      "id": "ZgA9jJFYXBM5"
    },
    {
      "cell_type": "code",
      "metadata": {
        "colab": {
          "base_uri": "https://localhost:8080/",
          "height": 562
        },
        "id": "lpbcVEa0WUoS",
        "outputId": "724850ee-31c5-4edc-bbed-9ab10b7e6189"
      },
      "source": [
        "optuna.visualization.plot_slice(study)"
      ],
      "id": "lpbcVEa0WUoS",
      "execution_count": null,
      "outputs": [
        {
          "output_type": "display_data",
          "data": {
            "text/html": [
              "<html>\n",
              "<head><meta charset=\"utf-8\" /></head>\n",
              "<body>\n",
              "    <div>\n",
              "            <script src=\"https://cdnjs.cloudflare.com/ajax/libs/mathjax/2.7.5/MathJax.js?config=TeX-AMS-MML_SVG\"></script><script type=\"text/javascript\">if (window.MathJax) {MathJax.Hub.Config({SVG: {font: \"STIX-Web\"}});}</script>\n",
              "                <script type=\"text/javascript\">window.PlotlyConfig = {MathJaxConfig: 'local'};</script>\n",
              "        <script src=\"https://cdn.plot.ly/plotly-latest.min.js\"></script>    \n",
              "            <div id=\"1d17b60e-9ed1-4066-8468-2ee4de77c531\" class=\"plotly-graph-div\" style=\"height:525px; width:1500px;\"></div>\n",
              "            <script type=\"text/javascript\">\n",
              "                \n",
              "                    window.PLOTLYENV=window.PLOTLYENV || {};\n",
              "                    \n",
              "                if (document.getElementById(\"1d17b60e-9ed1-4066-8468-2ee4de77c531\")) {\n",
              "                    Plotly.newPlot(\n",
              "                        '1d17b60e-9ed1-4066-8468-2ee4de77c531',\n",
              "                        [{\"marker\": {\"color\": [0, 1, 2, 3], \"colorbar\": {\"title\": {\"text\": \"#Trials\"}, \"x\": 1.0, \"xpad\": 40}, \"colorscale\": [[0.0, \"rgb(247,251,255)\"], [0.125, \"rgb(222,235,247)\"], [0.25, \"rgb(198,219,239)\"], [0.375, \"rgb(158,202,225)\"], [0.5, \"rgb(107,174,214)\"], [0.625, \"rgb(66,146,198)\"], [0.75, \"rgb(33,113,181)\"], [0.875, \"rgb(8,81,156)\"], [1.0, \"rgb(8,48,107)\"]], \"line\": {\"color\": \"Grey\", \"width\": 0.5}, \"showscale\": true}, \"mode\": \"markers\", \"showlegend\": false, \"type\": \"scatter\", \"x\": [1.204552851257661, 0.20796091832380836, 0.5103197999781499, 0.32060168355070784], \"xaxis\": \"x\", \"y\": [0.4310638160275016, 0.6600886858013236, 0.5508205656652657, 0.5625411524902337], \"yaxis\": \"y\"}, {\"marker\": {\"color\": [0, 1, 2, 3], \"colorbar\": {\"title\": {\"text\": \"#Trials\"}, \"x\": 1.0, \"xpad\": 40}, \"colorscale\": [[0.0, \"rgb(247,251,255)\"], [0.125, \"rgb(222,235,247)\"], [0.25, \"rgb(198,219,239)\"], [0.375, \"rgb(158,202,225)\"], [0.5, \"rgb(107,174,214)\"], [0.625, \"rgb(66,146,198)\"], [0.75, \"rgb(33,113,181)\"], [0.875, \"rgb(8,81,156)\"], [1.0, \"rgb(8,48,107)\"]], \"line\": {\"color\": \"Grey\", \"width\": 0.5}, \"showscale\": false}, \"mode\": \"markers\", \"showlegend\": false, \"type\": \"scatter\", \"x\": [2, 1, 1, 1], \"xaxis\": \"x2\", \"y\": [0.4310638160275016, 0.6600886858013236, 0.5508205656652657, 0.5625411524902337], \"yaxis\": \"y2\"}, {\"marker\": {\"color\": [0, 1, 2, 3], \"colorbar\": {\"title\": {\"text\": \"#Trials\"}, \"x\": 1.0, \"xpad\": 40}, \"colorscale\": [[0.0, \"rgb(247,251,255)\"], [0.125, \"rgb(222,235,247)\"], [0.25, \"rgb(198,219,239)\"], [0.375, \"rgb(158,202,225)\"], [0.5, \"rgb(107,174,214)\"], [0.625, \"rgb(66,146,198)\"], [0.75, \"rgb(33,113,181)\"], [0.875, \"rgb(8,81,156)\"], [1.0, \"rgb(8,48,107)\"]], \"line\": {\"color\": \"Grey\", \"width\": 0.5}, \"showscale\": false}, \"mode\": \"markers\", \"showlegend\": false, \"type\": \"scatter\", \"x\": [\"scale\", \"scale\", \"scale\", \"auto\"], \"xaxis\": \"x3\", \"y\": [0.4310638160275016, 0.6600886858013236, 0.5508205656652657, 0.5625411524902337], \"yaxis\": \"y3\"}, {\"marker\": {\"color\": [0, 1, 2, 3], \"colorbar\": {\"title\": {\"text\": \"#Trials\"}, \"x\": 1.0, \"xpad\": 40}, \"colorscale\": [[0.0, \"rgb(247,251,255)\"], [0.125, \"rgb(222,235,247)\"], [0.25, \"rgb(198,219,239)\"], [0.375, \"rgb(158,202,225)\"], [0.5, \"rgb(107,174,214)\"], [0.625, \"rgb(66,146,198)\"], [0.75, \"rgb(33,113,181)\"], [0.875, \"rgb(8,81,156)\"], [1.0, \"rgb(8,48,107)\"]], \"line\": {\"color\": \"Grey\", \"width\": 0.5}, \"showscale\": false}, \"mode\": \"markers\", \"showlegend\": false, \"type\": \"scatter\", \"x\": [\"poly\", \"rbf\", \"linear\", \"rbf\"], \"xaxis\": \"x4\", \"y\": [0.4310638160275016, 0.6600886858013236, 0.5508205656652657, 0.5625411524902337], \"yaxis\": \"y4\"}, {\"marker\": {\"color\": [0, 1, 2, 3], \"colorbar\": {\"title\": {\"text\": \"#Trials\"}, \"x\": 1.0, \"xpad\": 40}, \"colorscale\": [[0.0, \"rgb(247,251,255)\"], [0.125, \"rgb(222,235,247)\"], [0.25, \"rgb(198,219,239)\"], [0.375, \"rgb(158,202,225)\"], [0.5, \"rgb(107,174,214)\"], [0.625, \"rgb(66,146,198)\"], [0.75, \"rgb(33,113,181)\"], [0.875, \"rgb(8,81,156)\"], [1.0, \"rgb(8,48,107)\"]], \"line\": {\"color\": \"Grey\", \"width\": 0.5}, \"showscale\": false}, \"mode\": \"markers\", \"showlegend\": false, \"type\": \"scatter\", \"x\": [10, 10, 6, 6], \"xaxis\": \"x5\", \"y\": [0.4310638160275016, 0.6600886858013236, 0.5508205656652657, 0.5625411524902337], \"yaxis\": \"y5\"}],\n",
              "                        {\"template\": {\"data\": {\"bar\": [{\"error_x\": {\"color\": \"#2a3f5f\"}, \"error_y\": {\"color\": \"#2a3f5f\"}, \"marker\": {\"line\": {\"color\": \"#E5ECF6\", \"width\": 0.5}}, \"type\": \"bar\"}], \"barpolar\": [{\"marker\": {\"line\": {\"color\": \"#E5ECF6\", \"width\": 0.5}}, \"type\": \"barpolar\"}], \"carpet\": [{\"aaxis\": {\"endlinecolor\": \"#2a3f5f\", \"gridcolor\": \"white\", \"linecolor\": \"white\", \"minorgridcolor\": \"white\", \"startlinecolor\": \"#2a3f5f\"}, \"baxis\": {\"endlinecolor\": \"#2a3f5f\", \"gridcolor\": \"white\", \"linecolor\": \"white\", \"minorgridcolor\": \"white\", \"startlinecolor\": \"#2a3f5f\"}, \"type\": \"carpet\"}], \"choropleth\": [{\"colorbar\": {\"outlinewidth\": 0, \"ticks\": \"\"}, \"type\": \"choropleth\"}], \"contour\": [{\"colorbar\": {\"outlinewidth\": 0, \"ticks\": \"\"}, \"colorscale\": [[0.0, \"#0d0887\"], [0.1111111111111111, \"#46039f\"], [0.2222222222222222, \"#7201a8\"], [0.3333333333333333, \"#9c179e\"], [0.4444444444444444, \"#bd3786\"], [0.5555555555555556, \"#d8576b\"], [0.6666666666666666, \"#ed7953\"], [0.7777777777777778, \"#fb9f3a\"], [0.8888888888888888, \"#fdca26\"], [1.0, \"#f0f921\"]], \"type\": \"contour\"}], \"contourcarpet\": [{\"colorbar\": {\"outlinewidth\": 0, \"ticks\": \"\"}, \"type\": \"contourcarpet\"}], \"heatmap\": [{\"colorbar\": {\"outlinewidth\": 0, \"ticks\": \"\"}, \"colorscale\": [[0.0, \"#0d0887\"], [0.1111111111111111, \"#46039f\"], [0.2222222222222222, \"#7201a8\"], [0.3333333333333333, \"#9c179e\"], [0.4444444444444444, \"#bd3786\"], [0.5555555555555556, \"#d8576b\"], [0.6666666666666666, \"#ed7953\"], [0.7777777777777778, \"#fb9f3a\"], [0.8888888888888888, \"#fdca26\"], [1.0, \"#f0f921\"]], \"type\": \"heatmap\"}], \"heatmapgl\": [{\"colorbar\": {\"outlinewidth\": 0, \"ticks\": \"\"}, \"colorscale\": [[0.0, \"#0d0887\"], [0.1111111111111111, \"#46039f\"], [0.2222222222222222, \"#7201a8\"], [0.3333333333333333, \"#9c179e\"], [0.4444444444444444, \"#bd3786\"], [0.5555555555555556, \"#d8576b\"], [0.6666666666666666, \"#ed7953\"], [0.7777777777777778, \"#fb9f3a\"], [0.8888888888888888, \"#fdca26\"], [1.0, \"#f0f921\"]], \"type\": \"heatmapgl\"}], \"histogram\": [{\"marker\": {\"colorbar\": {\"outlinewidth\": 0, \"ticks\": \"\"}}, \"type\": \"histogram\"}], \"histogram2d\": [{\"colorbar\": {\"outlinewidth\": 0, \"ticks\": \"\"}, \"colorscale\": [[0.0, \"#0d0887\"], [0.1111111111111111, \"#46039f\"], [0.2222222222222222, \"#7201a8\"], [0.3333333333333333, \"#9c179e\"], [0.4444444444444444, \"#bd3786\"], [0.5555555555555556, \"#d8576b\"], [0.6666666666666666, \"#ed7953\"], [0.7777777777777778, \"#fb9f3a\"], [0.8888888888888888, \"#fdca26\"], [1.0, \"#f0f921\"]], \"type\": \"histogram2d\"}], \"histogram2dcontour\": [{\"colorbar\": {\"outlinewidth\": 0, \"ticks\": \"\"}, \"colorscale\": [[0.0, \"#0d0887\"], [0.1111111111111111, \"#46039f\"], [0.2222222222222222, \"#7201a8\"], [0.3333333333333333, \"#9c179e\"], [0.4444444444444444, \"#bd3786\"], [0.5555555555555556, \"#d8576b\"], [0.6666666666666666, \"#ed7953\"], [0.7777777777777778, \"#fb9f3a\"], [0.8888888888888888, \"#fdca26\"], [1.0, \"#f0f921\"]], \"type\": \"histogram2dcontour\"}], \"mesh3d\": [{\"colorbar\": {\"outlinewidth\": 0, \"ticks\": \"\"}, \"type\": \"mesh3d\"}], \"parcoords\": [{\"line\": {\"colorbar\": {\"outlinewidth\": 0, \"ticks\": \"\"}}, \"type\": \"parcoords\"}], \"pie\": [{\"automargin\": true, \"type\": \"pie\"}], \"scatter\": [{\"marker\": {\"colorbar\": {\"outlinewidth\": 0, \"ticks\": \"\"}}, \"type\": \"scatter\"}], \"scatter3d\": [{\"line\": {\"colorbar\": {\"outlinewidth\": 0, \"ticks\": \"\"}}, \"marker\": {\"colorbar\": {\"outlinewidth\": 0, \"ticks\": \"\"}}, \"type\": \"scatter3d\"}], \"scattercarpet\": [{\"marker\": {\"colorbar\": {\"outlinewidth\": 0, \"ticks\": \"\"}}, \"type\": \"scattercarpet\"}], \"scattergeo\": [{\"marker\": {\"colorbar\": {\"outlinewidth\": 0, \"ticks\": \"\"}}, \"type\": \"scattergeo\"}], \"scattergl\": [{\"marker\": {\"colorbar\": {\"outlinewidth\": 0, \"ticks\": \"\"}}, \"type\": \"scattergl\"}], \"scattermapbox\": [{\"marker\": {\"colorbar\": {\"outlinewidth\": 0, \"ticks\": \"\"}}, \"type\": \"scattermapbox\"}], \"scatterpolar\": [{\"marker\": {\"colorbar\": {\"outlinewidth\": 0, \"ticks\": \"\"}}, \"type\": \"scatterpolar\"}], \"scatterpolargl\": [{\"marker\": {\"colorbar\": {\"outlinewidth\": 0, \"ticks\": \"\"}}, \"type\": \"scatterpolargl\"}], \"scatterternary\": [{\"marker\": {\"colorbar\": {\"outlinewidth\": 0, \"ticks\": \"\"}}, \"type\": \"scatterternary\"}], \"surface\": [{\"colorbar\": {\"outlinewidth\": 0, \"ticks\": \"\"}, \"colorscale\": [[0.0, \"#0d0887\"], [0.1111111111111111, \"#46039f\"], [0.2222222222222222, \"#7201a8\"], [0.3333333333333333, \"#9c179e\"], [0.4444444444444444, \"#bd3786\"], [0.5555555555555556, \"#d8576b\"], [0.6666666666666666, \"#ed7953\"], [0.7777777777777778, \"#fb9f3a\"], [0.8888888888888888, \"#fdca26\"], [1.0, \"#f0f921\"]], \"type\": \"surface\"}], \"table\": [{\"cells\": {\"fill\": {\"color\": \"#EBF0F8\"}, \"line\": {\"color\": \"white\"}}, \"header\": {\"fill\": {\"color\": \"#C8D4E3\"}, \"line\": {\"color\": \"white\"}}, \"type\": \"table\"}]}, \"layout\": {\"annotationdefaults\": {\"arrowcolor\": \"#2a3f5f\", \"arrowhead\": 0, \"arrowwidth\": 1}, \"coloraxis\": {\"colorbar\": {\"outlinewidth\": 0, \"ticks\": \"\"}}, \"colorscale\": {\"diverging\": [[0, \"#8e0152\"], [0.1, \"#c51b7d\"], [0.2, \"#de77ae\"], [0.3, \"#f1b6da\"], [0.4, \"#fde0ef\"], [0.5, \"#f7f7f7\"], [0.6, \"#e6f5d0\"], [0.7, \"#b8e186\"], [0.8, \"#7fbc41\"], [0.9, \"#4d9221\"], [1, \"#276419\"]], \"sequential\": [[0.0, \"#0d0887\"], [0.1111111111111111, \"#46039f\"], [0.2222222222222222, \"#7201a8\"], [0.3333333333333333, \"#9c179e\"], [0.4444444444444444, \"#bd3786\"], [0.5555555555555556, \"#d8576b\"], [0.6666666666666666, \"#ed7953\"], [0.7777777777777778, \"#fb9f3a\"], [0.8888888888888888, \"#fdca26\"], [1.0, \"#f0f921\"]], \"sequentialminus\": [[0.0, \"#0d0887\"], [0.1111111111111111, \"#46039f\"], [0.2222222222222222, \"#7201a8\"], [0.3333333333333333, \"#9c179e\"], [0.4444444444444444, \"#bd3786\"], [0.5555555555555556, \"#d8576b\"], [0.6666666666666666, \"#ed7953\"], [0.7777777777777778, \"#fb9f3a\"], [0.8888888888888888, \"#fdca26\"], [1.0, \"#f0f921\"]]}, \"colorway\": [\"#636efa\", \"#EF553B\", \"#00cc96\", \"#ab63fa\", \"#FFA15A\", \"#19d3f3\", \"#FF6692\", \"#B6E880\", \"#FF97FF\", \"#FECB52\"], \"font\": {\"color\": \"#2a3f5f\"}, \"geo\": {\"bgcolor\": \"white\", \"lakecolor\": \"white\", \"landcolor\": \"#E5ECF6\", \"showlakes\": true, \"showland\": true, \"subunitcolor\": \"white\"}, \"hoverlabel\": {\"align\": \"left\"}, \"hovermode\": \"closest\", \"mapbox\": {\"style\": \"light\"}, \"paper_bgcolor\": \"white\", \"plot_bgcolor\": \"#E5ECF6\", \"polar\": {\"angularaxis\": {\"gridcolor\": \"white\", \"linecolor\": \"white\", \"ticks\": \"\"}, \"bgcolor\": \"#E5ECF6\", \"radialaxis\": {\"gridcolor\": \"white\", \"linecolor\": \"white\", \"ticks\": \"\"}}, \"scene\": {\"xaxis\": {\"backgroundcolor\": \"#E5ECF6\", \"gridcolor\": \"white\", \"gridwidth\": 2, \"linecolor\": \"white\", \"showbackground\": true, \"ticks\": \"\", \"zerolinecolor\": \"white\"}, \"yaxis\": {\"backgroundcolor\": \"#E5ECF6\", \"gridcolor\": \"white\", \"gridwidth\": 2, \"linecolor\": \"white\", \"showbackground\": true, \"ticks\": \"\", \"zerolinecolor\": \"white\"}, \"zaxis\": {\"backgroundcolor\": \"#E5ECF6\", \"gridcolor\": \"white\", \"gridwidth\": 2, \"linecolor\": \"white\", \"showbackground\": true, \"ticks\": \"\", \"zerolinecolor\": \"white\"}}, \"shapedefaults\": {\"line\": {\"color\": \"#2a3f5f\"}}, \"ternary\": {\"aaxis\": {\"gridcolor\": \"white\", \"linecolor\": \"white\", \"ticks\": \"\"}, \"baxis\": {\"gridcolor\": \"white\", \"linecolor\": \"white\", \"ticks\": \"\"}, \"bgcolor\": \"#E5ECF6\", \"caxis\": {\"gridcolor\": \"white\", \"linecolor\": \"white\", \"ticks\": \"\"}}, \"title\": {\"x\": 0.05}, \"xaxis\": {\"automargin\": true, \"gridcolor\": \"white\", \"linecolor\": \"white\", \"ticks\": \"\", \"title\": {\"standoff\": 15}, \"zerolinecolor\": \"white\", \"zerolinewidth\": 2}, \"yaxis\": {\"automargin\": true, \"gridcolor\": \"white\", \"linecolor\": \"white\", \"ticks\": \"\", \"title\": {\"standoff\": 15}, \"zerolinecolor\": \"white\", \"zerolinewidth\": 2}}}, \"title\": {\"text\": \"Slice Plot\"}, \"width\": 1500, \"xaxis\": {\"anchor\": \"y\", \"domain\": [0.0, 0.16799999999999998], \"title\": {\"text\": \"C\"}, \"type\": \"log\"}, \"xaxis2\": {\"anchor\": \"y2\", \"domain\": [0.208, 0.376], \"title\": {\"text\": \"degree\"}}, \"xaxis3\": {\"anchor\": \"y3\", \"domain\": [0.416, 0.584], \"title\": {\"text\": \"gamma\"}}, \"xaxis4\": {\"anchor\": \"y4\", \"domain\": [0.624, 0.792], \"title\": {\"text\": \"kernel\"}}, \"xaxis5\": {\"anchor\": \"y5\", \"domain\": [0.832, 1.0], \"title\": {\"text\": \"n_components\"}}, \"yaxis\": {\"anchor\": \"x\", \"domain\": [0.0, 1.0], \"title\": {\"text\": \"Objective Value\"}}, \"yaxis2\": {\"anchor\": \"x2\", \"domain\": [0.0, 1.0], \"matches\": \"y\", \"showticklabels\": false}, \"yaxis3\": {\"anchor\": \"x3\", \"domain\": [0.0, 1.0], \"matches\": \"y\", \"showticklabels\": false}, \"yaxis4\": {\"anchor\": \"x4\", \"domain\": [0.0, 1.0], \"matches\": \"y\", \"showticklabels\": false}, \"yaxis5\": {\"anchor\": \"x5\", \"domain\": [0.0, 1.0], \"matches\": \"y\", \"showticklabels\": false}},\n",
              "                        {\"responsive\": true}\n",
              "                    ).then(function(){\n",
              "                            \n",
              "var gd = document.getElementById('1d17b60e-9ed1-4066-8468-2ee4de77c531');\n",
              "var x = new MutationObserver(function (mutations, observer) {{\n",
              "        var display = window.getComputedStyle(gd).display;\n",
              "        if (!display || display === 'none') {{\n",
              "            console.log([gd, 'removed!']);\n",
              "            Plotly.purge(gd);\n",
              "            observer.disconnect();\n",
              "        }}\n",
              "}});\n",
              "\n",
              "// Listen for the removal of the full notebook cells\n",
              "var notebookContainer = gd.closest('#notebook-container');\n",
              "if (notebookContainer) {{\n",
              "    x.observe(notebookContainer, {childList: true});\n",
              "}}\n",
              "\n",
              "// Listen for the clearing of the current output cell\n",
              "var outputEl = gd.closest('.output');\n",
              "if (outputEl) {{\n",
              "    x.observe(outputEl, {childList: true});\n",
              "}}\n",
              "\n",
              "                        })\n",
              "                };\n",
              "                \n",
              "            </script>\n",
              "        </div>\n",
              "</body>\n",
              "</html>"
            ]
          },
          "metadata": {}
        }
      ]
    },
    {
      "cell_type": "markdown",
      "metadata": {
        "id": "1wleb2khXYR9"
      },
      "source": [
        "Εδώ βλέπουμε το διάγραμμα που συνδυάζει τις τιμές των υπερπαραμέτρων και την τιμή για το f1_score. Με το πιο σκούρο χρώμα φαίνεται η ευθεία που αντιστοιχεί στη βέλτιστη τιμή του f1."
      ],
      "id": "1wleb2khXYR9"
    },
    {
      "cell_type": "code",
      "metadata": {
        "colab": {
          "base_uri": "https://localhost:8080/",
          "height": 542
        },
        "id": "rq7-JjftXU8Z",
        "outputId": "435bda27-94ef-4e3d-83a1-f4e18adf11ff"
      },
      "source": [
        "optuna.visualization.plot_parallel_coordinate(study)"
      ],
      "id": "rq7-JjftXU8Z",
      "execution_count": null,
      "outputs": [
        {
          "output_type": "display_data",
          "data": {
            "text/html": [
              "<html>\n",
              "<head><meta charset=\"utf-8\" /></head>\n",
              "<body>\n",
              "    <div>\n",
              "            <script src=\"https://cdnjs.cloudflare.com/ajax/libs/mathjax/2.7.5/MathJax.js?config=TeX-AMS-MML_SVG\"></script><script type=\"text/javascript\">if (window.MathJax) {MathJax.Hub.Config({SVG: {font: \"STIX-Web\"}});}</script>\n",
              "                <script type=\"text/javascript\">window.PlotlyConfig = {MathJaxConfig: 'local'};</script>\n",
              "        <script src=\"https://cdn.plot.ly/plotly-latest.min.js\"></script>    \n",
              "            <div id=\"818b5255-30cf-432b-a1c4-5f00a81502a4\" class=\"plotly-graph-div\" style=\"height:525px; width:100%;\"></div>\n",
              "            <script type=\"text/javascript\">\n",
              "                \n",
              "                    window.PLOTLYENV=window.PLOTLYENV || {};\n",
              "                    \n",
              "                if (document.getElementById(\"818b5255-30cf-432b-a1c4-5f00a81502a4\")) {\n",
              "                    Plotly.newPlot(\n",
              "                        '818b5255-30cf-432b-a1c4-5f00a81502a4',\n",
              "                        [{\"dimensions\": [{\"label\": \"Objective Value\", \"range\": [0.4310638160275016, 0.6600886858013236], \"values\": [0.4310638160275016, 0.6600886858013236, 0.5508205656652657, 0.5625411524902337]}, {\"label\": \"C\", \"range\": [-0.682018273455798, 0.08082585996409282], \"ticktext\": [\"0.208\", \"1\", \"1.2\"], \"tickvals\": [-0.682018273455798, 0, 0.08082585996409282], \"values\": [0.08082585996409282, -0.682018273455798, -0.29215758108099066, -0.49403420139902093]}, {\"label\": \"degree\", \"range\": [1, 2], \"values\": [2, 1, 1, 1]}, {\"label\": \"gamma\", \"range\": [0, 1], \"ticktext\": [\"scale\", \"auto\"], \"tickvals\": [0, 1], \"values\": [0, 0, 0, 1]}, {\"label\": \"kernel\", \"range\": [0, 2], \"ticktext\": [\"poly\", \"rbf\", \"linear\"], \"tickvals\": [0, 1, 2], \"values\": [0, 1, 2, 1]}, {\"label\": \"n_components\", \"range\": [6, 10], \"values\": [10, 10, 6, 6]}], \"labelangle\": 30, \"labelside\": \"bottom\", \"line\": {\"color\": [0.4310638160275016, 0.6600886858013236, 0.5508205656652657, 0.5625411524902337], \"colorbar\": {\"title\": {\"text\": \"Objective Value\"}}, \"colorscale\": [[0.0, \"rgb(247,251,255)\"], [0.125, \"rgb(222,235,247)\"], [0.25, \"rgb(198,219,239)\"], [0.375, \"rgb(158,202,225)\"], [0.5, \"rgb(107,174,214)\"], [0.625, \"rgb(66,146,198)\"], [0.75, \"rgb(33,113,181)\"], [0.875, \"rgb(8,81,156)\"], [1.0, \"rgb(8,48,107)\"]], \"reversescale\": false, \"showscale\": true}, \"type\": \"parcoords\"}],\n",
              "                        {\"template\": {\"data\": {\"bar\": [{\"error_x\": {\"color\": \"#2a3f5f\"}, \"error_y\": {\"color\": \"#2a3f5f\"}, \"marker\": {\"line\": {\"color\": \"#E5ECF6\", \"width\": 0.5}}, \"type\": \"bar\"}], \"barpolar\": [{\"marker\": {\"line\": {\"color\": \"#E5ECF6\", \"width\": 0.5}}, \"type\": \"barpolar\"}], \"carpet\": [{\"aaxis\": {\"endlinecolor\": \"#2a3f5f\", \"gridcolor\": \"white\", \"linecolor\": \"white\", \"minorgridcolor\": \"white\", \"startlinecolor\": \"#2a3f5f\"}, \"baxis\": {\"endlinecolor\": \"#2a3f5f\", \"gridcolor\": \"white\", \"linecolor\": \"white\", \"minorgridcolor\": \"white\", \"startlinecolor\": \"#2a3f5f\"}, \"type\": \"carpet\"}], \"choropleth\": [{\"colorbar\": {\"outlinewidth\": 0, \"ticks\": \"\"}, \"type\": \"choropleth\"}], \"contour\": [{\"colorbar\": {\"outlinewidth\": 0, \"ticks\": \"\"}, \"colorscale\": [[0.0, \"#0d0887\"], [0.1111111111111111, \"#46039f\"], [0.2222222222222222, \"#7201a8\"], [0.3333333333333333, \"#9c179e\"], [0.4444444444444444, \"#bd3786\"], [0.5555555555555556, \"#d8576b\"], [0.6666666666666666, \"#ed7953\"], [0.7777777777777778, \"#fb9f3a\"], [0.8888888888888888, \"#fdca26\"], [1.0, \"#f0f921\"]], \"type\": \"contour\"}], \"contourcarpet\": [{\"colorbar\": {\"outlinewidth\": 0, \"ticks\": \"\"}, \"type\": \"contourcarpet\"}], \"heatmap\": [{\"colorbar\": {\"outlinewidth\": 0, \"ticks\": \"\"}, \"colorscale\": [[0.0, \"#0d0887\"], [0.1111111111111111, \"#46039f\"], [0.2222222222222222, \"#7201a8\"], [0.3333333333333333, \"#9c179e\"], [0.4444444444444444, \"#bd3786\"], [0.5555555555555556, \"#d8576b\"], [0.6666666666666666, \"#ed7953\"], [0.7777777777777778, \"#fb9f3a\"], [0.8888888888888888, \"#fdca26\"], [1.0, \"#f0f921\"]], \"type\": \"heatmap\"}], \"heatmapgl\": [{\"colorbar\": {\"outlinewidth\": 0, \"ticks\": \"\"}, \"colorscale\": [[0.0, \"#0d0887\"], [0.1111111111111111, \"#46039f\"], [0.2222222222222222, \"#7201a8\"], [0.3333333333333333, \"#9c179e\"], [0.4444444444444444, \"#bd3786\"], [0.5555555555555556, \"#d8576b\"], [0.6666666666666666, \"#ed7953\"], [0.7777777777777778, \"#fb9f3a\"], [0.8888888888888888, \"#fdca26\"], [1.0, \"#f0f921\"]], \"type\": \"heatmapgl\"}], \"histogram\": [{\"marker\": {\"colorbar\": {\"outlinewidth\": 0, \"ticks\": \"\"}}, \"type\": \"histogram\"}], \"histogram2d\": [{\"colorbar\": {\"outlinewidth\": 0, \"ticks\": \"\"}, \"colorscale\": [[0.0, \"#0d0887\"], [0.1111111111111111, \"#46039f\"], [0.2222222222222222, \"#7201a8\"], [0.3333333333333333, \"#9c179e\"], [0.4444444444444444, \"#bd3786\"], [0.5555555555555556, \"#d8576b\"], [0.6666666666666666, \"#ed7953\"], [0.7777777777777778, \"#fb9f3a\"], [0.8888888888888888, \"#fdca26\"], [1.0, \"#f0f921\"]], \"type\": \"histogram2d\"}], \"histogram2dcontour\": [{\"colorbar\": {\"outlinewidth\": 0, \"ticks\": \"\"}, \"colorscale\": [[0.0, \"#0d0887\"], [0.1111111111111111, \"#46039f\"], [0.2222222222222222, \"#7201a8\"], [0.3333333333333333, \"#9c179e\"], [0.4444444444444444, \"#bd3786\"], [0.5555555555555556, \"#d8576b\"], [0.6666666666666666, \"#ed7953\"], [0.7777777777777778, \"#fb9f3a\"], [0.8888888888888888, \"#fdca26\"], [1.0, \"#f0f921\"]], \"type\": \"histogram2dcontour\"}], \"mesh3d\": [{\"colorbar\": {\"outlinewidth\": 0, \"ticks\": \"\"}, \"type\": \"mesh3d\"}], \"parcoords\": [{\"line\": {\"colorbar\": {\"outlinewidth\": 0, \"ticks\": \"\"}}, \"type\": \"parcoords\"}], \"pie\": [{\"automargin\": true, \"type\": \"pie\"}], \"scatter\": [{\"marker\": {\"colorbar\": {\"outlinewidth\": 0, \"ticks\": \"\"}}, \"type\": \"scatter\"}], \"scatter3d\": [{\"line\": {\"colorbar\": {\"outlinewidth\": 0, \"ticks\": \"\"}}, \"marker\": {\"colorbar\": {\"outlinewidth\": 0, \"ticks\": \"\"}}, \"type\": \"scatter3d\"}], \"scattercarpet\": [{\"marker\": {\"colorbar\": {\"outlinewidth\": 0, \"ticks\": \"\"}}, \"type\": \"scattercarpet\"}], \"scattergeo\": [{\"marker\": {\"colorbar\": {\"outlinewidth\": 0, \"ticks\": \"\"}}, \"type\": \"scattergeo\"}], \"scattergl\": [{\"marker\": {\"colorbar\": {\"outlinewidth\": 0, \"ticks\": \"\"}}, \"type\": \"scattergl\"}], \"scattermapbox\": [{\"marker\": {\"colorbar\": {\"outlinewidth\": 0, \"ticks\": \"\"}}, \"type\": \"scattermapbox\"}], \"scatterpolar\": [{\"marker\": {\"colorbar\": {\"outlinewidth\": 0, \"ticks\": \"\"}}, \"type\": \"scatterpolar\"}], \"scatterpolargl\": [{\"marker\": {\"colorbar\": {\"outlinewidth\": 0, \"ticks\": \"\"}}, \"type\": \"scatterpolargl\"}], \"scatterternary\": [{\"marker\": {\"colorbar\": {\"outlinewidth\": 0, \"ticks\": \"\"}}, \"type\": \"scatterternary\"}], \"surface\": [{\"colorbar\": {\"outlinewidth\": 0, \"ticks\": \"\"}, \"colorscale\": [[0.0, \"#0d0887\"], [0.1111111111111111, \"#46039f\"], [0.2222222222222222, \"#7201a8\"], [0.3333333333333333, \"#9c179e\"], [0.4444444444444444, \"#bd3786\"], [0.5555555555555556, \"#d8576b\"], [0.6666666666666666, \"#ed7953\"], [0.7777777777777778, \"#fb9f3a\"], [0.8888888888888888, \"#fdca26\"], [1.0, \"#f0f921\"]], \"type\": \"surface\"}], \"table\": [{\"cells\": {\"fill\": {\"color\": \"#EBF0F8\"}, \"line\": {\"color\": \"white\"}}, \"header\": {\"fill\": {\"color\": \"#C8D4E3\"}, \"line\": {\"color\": \"white\"}}, \"type\": \"table\"}]}, \"layout\": {\"annotationdefaults\": {\"arrowcolor\": \"#2a3f5f\", \"arrowhead\": 0, \"arrowwidth\": 1}, \"coloraxis\": {\"colorbar\": {\"outlinewidth\": 0, \"ticks\": \"\"}}, \"colorscale\": {\"diverging\": [[0, \"#8e0152\"], [0.1, \"#c51b7d\"], [0.2, \"#de77ae\"], [0.3, \"#f1b6da\"], [0.4, \"#fde0ef\"], [0.5, \"#f7f7f7\"], [0.6, \"#e6f5d0\"], [0.7, \"#b8e186\"], [0.8, \"#7fbc41\"], [0.9, \"#4d9221\"], [1, \"#276419\"]], \"sequential\": [[0.0, \"#0d0887\"], [0.1111111111111111, \"#46039f\"], [0.2222222222222222, \"#7201a8\"], [0.3333333333333333, \"#9c179e\"], [0.4444444444444444, \"#bd3786\"], [0.5555555555555556, \"#d8576b\"], [0.6666666666666666, \"#ed7953\"], [0.7777777777777778, \"#fb9f3a\"], [0.8888888888888888, \"#fdca26\"], [1.0, \"#f0f921\"]], \"sequentialminus\": [[0.0, \"#0d0887\"], [0.1111111111111111, \"#46039f\"], [0.2222222222222222, \"#7201a8\"], [0.3333333333333333, \"#9c179e\"], [0.4444444444444444, \"#bd3786\"], [0.5555555555555556, \"#d8576b\"], [0.6666666666666666, \"#ed7953\"], [0.7777777777777778, \"#fb9f3a\"], [0.8888888888888888, \"#fdca26\"], [1.0, \"#f0f921\"]]}, \"colorway\": [\"#636efa\", \"#EF553B\", \"#00cc96\", \"#ab63fa\", \"#FFA15A\", \"#19d3f3\", \"#FF6692\", \"#B6E880\", \"#FF97FF\", \"#FECB52\"], \"font\": {\"color\": \"#2a3f5f\"}, \"geo\": {\"bgcolor\": \"white\", \"lakecolor\": \"white\", \"landcolor\": \"#E5ECF6\", \"showlakes\": true, \"showland\": true, \"subunitcolor\": \"white\"}, \"hoverlabel\": {\"align\": \"left\"}, \"hovermode\": \"closest\", \"mapbox\": {\"style\": \"light\"}, \"paper_bgcolor\": \"white\", \"plot_bgcolor\": \"#E5ECF6\", \"polar\": {\"angularaxis\": {\"gridcolor\": \"white\", \"linecolor\": \"white\", \"ticks\": \"\"}, \"bgcolor\": \"#E5ECF6\", \"radialaxis\": {\"gridcolor\": \"white\", \"linecolor\": \"white\", \"ticks\": \"\"}}, \"scene\": {\"xaxis\": {\"backgroundcolor\": \"#E5ECF6\", \"gridcolor\": \"white\", \"gridwidth\": 2, \"linecolor\": \"white\", \"showbackground\": true, \"ticks\": \"\", \"zerolinecolor\": \"white\"}, \"yaxis\": {\"backgroundcolor\": \"#E5ECF6\", \"gridcolor\": \"white\", \"gridwidth\": 2, \"linecolor\": \"white\", \"showbackground\": true, \"ticks\": \"\", \"zerolinecolor\": \"white\"}, \"zaxis\": {\"backgroundcolor\": \"#E5ECF6\", \"gridcolor\": \"white\", \"gridwidth\": 2, \"linecolor\": \"white\", \"showbackground\": true, \"ticks\": \"\", \"zerolinecolor\": \"white\"}}, \"shapedefaults\": {\"line\": {\"color\": \"#2a3f5f\"}}, \"ternary\": {\"aaxis\": {\"gridcolor\": \"white\", \"linecolor\": \"white\", \"ticks\": \"\"}, \"baxis\": {\"gridcolor\": \"white\", \"linecolor\": \"white\", \"ticks\": \"\"}, \"bgcolor\": \"#E5ECF6\", \"caxis\": {\"gridcolor\": \"white\", \"linecolor\": \"white\", \"ticks\": \"\"}}, \"title\": {\"x\": 0.05}, \"xaxis\": {\"automargin\": true, \"gridcolor\": \"white\", \"linecolor\": \"white\", \"ticks\": \"\", \"title\": {\"standoff\": 15}, \"zerolinecolor\": \"white\", \"zerolinewidth\": 2}, \"yaxis\": {\"automargin\": true, \"gridcolor\": \"white\", \"linecolor\": \"white\", \"ticks\": \"\", \"title\": {\"standoff\": 15}, \"zerolinecolor\": \"white\", \"zerolinewidth\": 2}}}, \"title\": {\"text\": \"Parallel Coordinate Plot\"}},\n",
              "                        {\"responsive\": true}\n",
              "                    ).then(function(){\n",
              "                            \n",
              "var gd = document.getElementById('818b5255-30cf-432b-a1c4-5f00a81502a4');\n",
              "var x = new MutationObserver(function (mutations, observer) {{\n",
              "        var display = window.getComputedStyle(gd).display;\n",
              "        if (!display || display === 'none') {{\n",
              "            console.log([gd, 'removed!']);\n",
              "            Plotly.purge(gd);\n",
              "            observer.disconnect();\n",
              "        }}\n",
              "}});\n",
              "\n",
              "// Listen for the removal of the full notebook cells\n",
              "var notebookContainer = gd.closest('#notebook-container');\n",
              "if (notebookContainer) {{\n",
              "    x.observe(notebookContainer, {childList: true});\n",
              "}}\n",
              "\n",
              "// Listen for the clearing of the current output cell\n",
              "var outputEl = gd.closest('.output');\n",
              "if (outputEl) {{\n",
              "    x.observe(outputEl, {childList: true});\n",
              "}}\n",
              "\n",
              "                        })\n",
              "                };\n",
              "                \n",
              "            </script>\n",
              "        </div>\n",
              "</body>\n",
              "</html>"
            ]
          },
          "metadata": {}
        }
      ]
    },
    {
      "cell_type": "markdown",
      "metadata": {
        "id": "aK2dCKuDHC1F"
      },
      "source": [
        "###### Επιδόσεις καλύτερου μοντέλου SVM στο test set"
      ],
      "id": "aK2dCKuDHC1F"
    },
    {
      "cell_type": "markdown",
      "metadata": {
        "id": "JUW68tw6Y-Yv"
      },
      "source": [
        "###### Εντοπίζω τις επιδόσεις"
      ],
      "id": "JUW68tw6Y-Yv"
    },
    {
      "cell_type": "markdown",
      "metadata": {
        "id": "39Rwhiu7Y-Yw"
      },
      "source": [
        "* Χρησιμοποιούμε το dictionary `study.best_params` για να εντοπίσουμε τις προβλέψεις του καλύτερου μοντέλου SVM από το σύνολο των προβλέψεων `predictions` και να το αξιολογήσουμε στο test set, αυτή τη φορά υπολογίζοντας όλες τις μετρικές."
      ],
      "id": "39Rwhiu7Y-Yw"
    },
    {
      "cell_type": "code",
      "metadata": {
        "id": "hUlaLfFUHCGp",
        "colab": {
          "base_uri": "https://localhost:8080/"
        },
        "outputId": "1cec3f09-9fa8-43d3-d10c-1dfe02faa0e4"
      },
      "source": [
        "# pretty print with sep='\\n'\n",
        "for pred in predictions:\n",
        "  print(pred)"
      ],
      "id": "hUlaLfFUHCGp",
      "execution_count": null,
      "outputs": [
        {
          "output_type": "stream",
          "name": "stdout",
          "text": [
            "{'n_components': 10, 'kernel': 'poly', 'gamma': 'scale', 'C': 1.204552851257661, 'degree': 2, 'preds': array([2, 1, 2, ..., 1, 1, 1])}\n",
            "{'n_components': 10, 'kernel': 'rbf', 'gamma': 'scale', 'C': 0.20796091832380836, 'degree': 1, 'preds': array([2, 1, 0, ..., 1, 1, 1])}\n",
            "{'n_components': 6, 'kernel': 'linear', 'gamma': 'scale', 'C': 0.5103197999781499, 'degree': 1, 'preds': array([2, 2, 0, ..., 1, 2, 1])}\n",
            "{'n_components': 6, 'kernel': 'rbf', 'gamma': 'auto', 'C': 0.32060168355070784, 'degree': 1, 'preds': array([2, 2, 0, ..., 1, 2, 1])}\n"
          ]
        }
      ]
    },
    {
      "cell_type": "code",
      "metadata": {
        "colab": {
          "base_uri": "https://localhost:8080/"
        },
        "id": "7jH_G3zr3_VG",
        "outputId": "49b73404-cf8e-4685-c60d-20705cf92f5c"
      },
      "source": [
        "from sklearn.metrics import accuracy_score\n",
        "from sklearn.metrics import recall_score\n",
        "\n",
        "best_predictions = None\n",
        "best_n_components = study.best_params['n_components']\n",
        "best_C = study.best_params['C']\n",
        "best_degree = study.best_params['degree']\n",
        "best_gamma = study.best_params['gamma']\n",
        "best_kernel = study.best_params['kernel']\n",
        "\n",
        "for pred_object in predictions:\n",
        "  if pred_object['n_components']==best_n_components and pred_object['gamma']==best_gamma and pred_object['C']==best_C and pred_object['kernel'] == best_kernel and pred_object['degree']==best_degree:\n",
        "    best_predictions = pred_object['preds']\n",
        "    break\n",
        "\n",
        "best_accuracies['SVM_pipe'] = round(accuracy_score(Y_test, best_predictions), 3)\n",
        "best_f1s['SVM_pipe'] = round(f1_score(Y_test, best_predictions, average='macro'), 3)\n",
        "best_recalls['SVM_pipe'] = round(recall_score(Y_test, best_predictions, average='macro'), 3) \n",
        "\n",
        "print('SVM with pipe best scores:')\n",
        "print(\"Accuracy:\", best_accuracies['SVM_pipe'])\n",
        "print(\"F1:\", best_f1s['SVM_pipe'])\n",
        "print(\"Recall:\", best_recalls['SVM_pipe'])\n",
        "\n"
      ],
      "id": "7jH_G3zr3_VG",
      "execution_count": null,
      "outputs": [
        {
          "output_type": "stream",
          "name": "stdout",
          "text": [
            "SVM with pipe best scores:\n",
            "Accuracy: 0.679\n",
            "F1: 0.66\n",
            "Recall: 0.645\n"
          ]
        }
      ]
    },
    {
      "cell_type": "markdown",
      "metadata": {
        "id": "riNSPXALZGzu"
      },
      "source": [
        "###### Σχεδιάζω τον πίνακα σύγχυσης"
      ],
      "id": "riNSPXALZGzu"
    },
    {
      "cell_type": "code",
      "metadata": {
        "id": "Yf0OF2oYZISW",
        "colab": {
          "base_uri": "https://localhost:8080/",
          "height": 302
        },
        "outputId": "2e4e3fc6-7738-4478-e332-2a4e1e1f198d"
      },
      "source": [
        "from sklearn.metrics import confusion_matrix\n",
        "import seaborn as sns; sns.set()\n",
        "print(f\"SVM:\")\n",
        "mat = confusion_matrix(Y_test , best_predictions)\n",
        "sns.heatmap(mat.T, square=True, annot=True, fmt='d', cbar=False)\n",
        "plt.xlabel('true label')\n",
        "plt.ylabel('predicted label');"
      ],
      "id": "Yf0OF2oYZISW",
      "execution_count": null,
      "outputs": [
        {
          "output_type": "stream",
          "name": "stdout",
          "text": [
            "SVM:\n"
          ]
        },
        {
          "output_type": "display_data",
          "data": {
            "image/png": "[encoded data removed]",
            "text/plain": [
              "<Figure size 432x288 with 1 Axes>"
            ]
          },
          "metadata": {}
        }
      ]
    },
    {
      "cell_type": "markdown",
      "metadata": {
        "id": "05119467-e1d6-4c35-bf68-e5cf88cb12d0"
      },
      "source": [
        "##### Με αναζήτηση πλέγματος με διασταυρούμενη επικύρωση"
      ],
      "id": "05119467-e1d6-4c35-bf68-e5cf88cb12d0"
    },
    {
      "cell_type": "markdown",
      "metadata": {
        "id": "Fzjmj0-1sOYG"
      },
      "source": [
        "###### Δοκιμάσαμε με μεγάλο αριθμό από trials (10), αλλά η διαδικασία αργούσε υπερβολικά (10 ώρες χωρίς να έχει τερματίσει), με την παρακάτω έξοδο:"
      ],
      "id": "Fzjmj0-1sOYG"
    },
    {
      "cell_type": "code",
      "metadata": {
        "colab": {
          "base_uri": "https://localhost:8080/"
        },
        "id": "cce1f6a2-d8a1-4bf3-9e39-02a3377a4db6",
        "outputId": "3650a2ec-4654-46de-b16e-757c667f835b"
      },
      "source": [
        "import optuna\n",
        "from sklearn.model_selection import GridSearchCV\n",
        "from sklearn.preprocessing import StandardScaler\n",
        "from sklearn.decomposition import PCA\n",
        "from sklearn.svm import SVC\n",
        "from sklearn.metrics import f1_score\n",
        "from sklearn.model_selection import cross_val_score\n",
        "from sklearn.svm import SVC\n",
        "    \n",
        "param_distributions = {\n",
        "  \"kernel\":optuna.distributions.CategoricalDistribution(['rbf','poly','linear','sigmoid']),\n",
        "  \"C\":optuna.distributions.LogUniformDistribution(0.1,3),\n",
        "  \"gamma\":optuna.distributions.CategoricalDistribution(['auto','scale']),\n",
        "  \"degree\":optuna.distributions.LogUniformDistribution(1,3)\n",
        "}\n",
        "\n",
        "svm = SVC()\n",
        "optuna_search = optuna.integration.OptunaSearchCV(svm, param_distributions, cv=10, n_trials = 10, n_jobs = -1, refit=True)\n",
        "optuna_search.fit(new_X_train_df, Y_train.ravel())\n",
        "preds_cv = optuna_search.predict(new_X_test_df)"
      ],
      "id": "cce1f6a2-d8a1-4bf3-9e39-02a3377a4db6",
      "execution_count": null,
      "outputs": [
        {
          "name": "stderr",
          "output_type": "stream",
          "text": [
            "/tmp/ipykernel_19269/2695495994.py:18: ExperimentalWarning: OptunaSearchCV is experimental (supported from v0.17.0). The interface can change in the future.\n",
            "  optuna_search = optuna.integration.OptunaSearchCV(svm, param_distributions, cv=10, n_trials = 10, n_jobs = -1, refit=True)\n",
            "\u001b[32m[I 2021-12-03 19:46:05,741]\u001b[0m A new study created in memory with name: no-name-26f010a7-9f19-4548-89e6-e49cd21034c3\u001b[0m\n",
            "/home/andreas/neural/lib/python3.9/site-packages/optuna/study/study.py:393: FutureWarning: `n_jobs` argument has been deprecated in v2.7.0. This feature will be removed in v4.0.0. See https://github.com/optuna/optuna/releases/tag/v2.7.0.\n",
            "  warnings.warn(\n",
            "\u001b[32m[I 2021-12-03 20:11:10,025]\u001b[0m Trial 1 finished with value: 0.4310732079649018 and parameters: {'kernel': 'sigmoid', 'C': 0.520455325772685, 'gamma': 'auto', 'degree': 1.5540801174820085}. Best is trial 1 with value: 0.4310732079649018.\u001b[0m\n",
            "\u001b[32m[I 2021-12-03 20:11:51,207]\u001b[0m Trial 8 finished with value: 0.4310732079649018 and parameters: {'kernel': 'sigmoid', 'C': 0.22224984422102514, 'gamma': 'auto', 'degree': 2.1982349555524863}. Best is trial 1 with value: 0.4310732079649018.\u001b[0m\n",
            "\u001b[32m[I 2021-12-03 20:21:12,980]\u001b[0m Trial 9 finished with value: 0.5650749167638602 and parameters: {'kernel': 'poly', 'C': 0.7359220993976273, 'gamma': 'scale', 'degree': 1.1135796969874636}. Best is trial 9 with value: 0.5650749167638602.\u001b[0m\n",
            "\u001b[32m[I 2021-12-03 20:29:25,501]\u001b[0m Trial 4 finished with value: 0.33049062915333083 and parameters: {'kernel': 'sigmoid', 'C': 0.17536240182524263, 'gamma': 'scale', 'degree': 1.0445830172394617}. Best is trial 9 with value: 0.5650749167638602.\u001b[0m\n"
          ]
        }
      ]
    },
    {
      "cell_type": "markdown",
      "metadata": {
        "id": "2Augqrw3sc0h"
      },
      "source": [
        "###### Οπότε, στη συνέχεια δοκιμάσαμε με μικρότερο αριθμό από trials (4):"
      ],
      "id": "2Augqrw3sc0h"
    },
    {
      "cell_type": "code",
      "metadata": {
        "colab": {
          "base_uri": "https://localhost:8080/"
        },
        "id": "lv1xWihqBI7P",
        "outputId": "76d35f01-8dc2-437c-9ca6-bea6b208072e"
      },
      "source": [
        "import optuna\n",
        "from sklearn.model_selection import GridSearchCV\n",
        "from sklearn.preprocessing import StandardScaler\n",
        "from sklearn.decomposition import PCA\n",
        "from sklearn.svm import SVC\n",
        "from sklearn.metrics import f1_score\n",
        "from sklearn.model_selection import cross_val_score\n",
        "from sklearn.svm import SVC\n",
        "    \n",
        "param_distributions = {\n",
        "  \"kernel\":optuna.distributions.CategoricalDistribution(['rbf','poly','linear','sigmoid']),\n",
        "  \"C\":optuna.distributions.LogUniformDistribution(0.1,3),\n",
        "  \"gamma\":optuna.distributions.CategoricalDistribution(['auto','scale']),\n",
        "  \"degree\":optuna.distributions.LogUniformDistribution(1,3)\n",
        "}\n",
        "\n",
        "svm = SVC()\n",
        "optuna_search = optuna.integration.OptunaSearchCV(svm, param_distributions, cv=10, n_trials = 4, refit=True)\n",
        "optuna_search.fit(new_X_train_df, Y_train.ravel())\n",
        "preds_cv = optuna_search.predict(new_X_test_df)"
      ],
      "id": "lv1xWihqBI7P",
      "execution_count": null,
      "outputs": [
        {
          "output_type": "stream",
          "name": "stderr",
          "text": [
            "/usr/local/lib/python3.7/dist-packages/ipykernel_launcher.py:18: ExperimentalWarning:\n",
            "\n",
            "OptunaSearchCV is experimental (supported from v0.17.0). The interface can change in the future.\n",
            "\n",
            "\u001b[32m[I 2021-12-02 22:25:14,232]\u001b[0m A new study created in memory with name: no-name-85d872f1-3b9b-4ee6-8f83-d3f8639647bf\u001b[0m\n",
            "\u001b[32m[I 2021-12-02 23:47:38,162]\u001b[0m Trial 0 finished with value: 0.4099364707556538 and parameters: {'kernel': 'sigmoid', 'C': 1.6612257445958554, 'gamma': 'scale', 'degree': 1.2032199776299406}. Best is trial 0 with value: 0.4099364707556538.\u001b[0m\n",
            "\u001b[32m[I 2021-12-03 01:12:25,940]\u001b[0m Trial 1 finished with value: 0.4099364719329017 and parameters: {'kernel': 'sigmoid', 'C': 2.2782807397614846, 'gamma': 'scale', 'degree': 1.0968076766273904}. Best is trial 1 with value: 0.4099364719329017.\u001b[0m\n"
          ]
        }
      ]
    },
    {
      "cell_type": "markdown",
      "metadata": {
        "id": "9ogC3ChERQda"
      },
      "source": [
        "Τελικά οι καλυτέροι υπερπαράμετροι για την ταξινόμηση με SVM, με cross_validation είναι αυτές του trial 9:"
      ],
      "id": "9ogC3ChERQda"
    },
    {
      "cell_type": "code",
      "metadata": {
        "id": "pz9leJs7RQdb"
      },
      "source": [
        "optuna_search.study_.best_params"
      ],
      "id": "pz9leJs7RQdb",
      "execution_count": null,
      "outputs": []
    },
    {
      "cell_type": "code",
      "metadata": {
        "id": "zASqbGq5qheM"
      },
      "source": [
        "best_params_ = {\n",
        "    'kernel': 'sigmoid',\n",
        "    'C': 2.2782807397614846,\n",
        "    'gamma': 'scale',\n",
        "    'degree': 1.0968076766273904\n",
        "}"
      ],
      "id": "zASqbGq5qheM",
      "execution_count": null,
      "outputs": []
    },
    {
      "cell_type": "markdown",
      "metadata": {
        "id": "fls-x6qzRQdc"
      },
      "source": [
        "Στα παρακάτω διαγράμματα βλέπουμε ένα διάγραμμα για κάθε υπερπαράμετρο που δοκιμάστηκε , και με πιο σκούρο χρώμα τις υπερπαραμέτρους που οδήγησαν στη βέλτιστη επίδοση."
      ],
      "id": "fls-x6qzRQdc"
    },
    {
      "cell_type": "code",
      "metadata": {
        "colab": {
          "base_uri": "https://localhost:8080/",
          "height": 562
        },
        "id": "QwZVYOfaRQdd",
        "outputId": "724850ee-31c5-4edc-bbed-9ab10b7e6189"
      },
      "source": [
        "optuna.visualization.plot_slice(optuna_search.study_)"
      ],
      "id": "QwZVYOfaRQdd",
      "execution_count": null,
      "outputs": [
        {
          "output_type": "display_data",
          "data": {
            "text/html": [
              "<html>\n",
              "<head><meta charset=\"utf-8\" /></head>\n",
              "<body>\n",
              "    <div>\n",
              "            <script src=\"https://cdnjs.cloudflare.com/ajax/libs/mathjax/2.7.5/MathJax.js?config=TeX-AMS-MML_SVG\"></script><script type=\"text/javascript\">if (window.MathJax) {MathJax.Hub.Config({SVG: {font: \"STIX-Web\"}});}</script>\n",
              "                <script type=\"text/javascript\">window.PlotlyConfig = {MathJaxConfig: 'local'};</script>\n",
              "        <script src=\"https://cdn.plot.ly/plotly-latest.min.js\"></script>    \n",
              "            <div id=\"1d17b60e-9ed1-4066-8468-2ee4de77c531\" class=\"plotly-graph-div\" style=\"height:525px; width:1500px;\"></div>\n",
              "            <script type=\"text/javascript\">\n",
              "                \n",
              "                    window.PLOTLYENV=window.PLOTLYENV || {};\n",
              "                    \n",
              "                if (document.getElementById(\"1d17b60e-9ed1-4066-8468-2ee4de77c531\")) {\n",
              "                    Plotly.newPlot(\n",
              "                        '1d17b60e-9ed1-4066-8468-2ee4de77c531',\n",
              "                        [{\"marker\": {\"color\": [0, 1, 2, 3], \"colorbar\": {\"title\": {\"text\": \"#Trials\"}, \"x\": 1.0, \"xpad\": 40}, \"colorscale\": [[0.0, \"rgb(247,251,255)\"], [0.125, \"rgb(222,235,247)\"], [0.25, \"rgb(198,219,239)\"], [0.375, \"rgb(158,202,225)\"], [0.5, \"rgb(107,174,214)\"], [0.625, \"rgb(66,146,198)\"], [0.75, \"rgb(33,113,181)\"], [0.875, \"rgb(8,81,156)\"], [1.0, \"rgb(8,48,107)\"]], \"line\": {\"color\": \"Grey\", \"width\": 0.5}, \"showscale\": true}, \"mode\": \"markers\", \"showlegend\": false, \"type\": \"scatter\", \"x\": [1.204552851257661, 0.20796091832380836, 0.5103197999781499, 0.32060168355070784], \"xaxis\": \"x\", \"y\": [0.4310638160275016, 0.6600886858013236, 0.5508205656652657, 0.5625411524902337], \"yaxis\": \"y\"}, {\"marker\": {\"color\": [0, 1, 2, 3], \"colorbar\": {\"title\": {\"text\": \"#Trials\"}, \"x\": 1.0, \"xpad\": 40}, \"colorscale\": [[0.0, \"rgb(247,251,255)\"], [0.125, \"rgb(222,235,247)\"], [0.25, \"rgb(198,219,239)\"], [0.375, \"rgb(158,202,225)\"], [0.5, \"rgb(107,174,214)\"], [0.625, \"rgb(66,146,198)\"], [0.75, \"rgb(33,113,181)\"], [0.875, \"rgb(8,81,156)\"], [1.0, \"rgb(8,48,107)\"]], \"line\": {\"color\": \"Grey\", \"width\": 0.5}, \"showscale\": false}, \"mode\": \"markers\", \"showlegend\": false, \"type\": \"scatter\", \"x\": [2, 1, 1, 1], \"xaxis\": \"x2\", \"y\": [0.4310638160275016, 0.6600886858013236, 0.5508205656652657, 0.5625411524902337], \"yaxis\": \"y2\"}, {\"marker\": {\"color\": [0, 1, 2, 3], \"colorbar\": {\"title\": {\"text\": \"#Trials\"}, \"x\": 1.0, \"xpad\": 40}, \"colorscale\": [[0.0, \"rgb(247,251,255)\"], [0.125, \"rgb(222,235,247)\"], [0.25, \"rgb(198,219,239)\"], [0.375, \"rgb(158,202,225)\"], [0.5, \"rgb(107,174,214)\"], [0.625, \"rgb(66,146,198)\"], [0.75, \"rgb(33,113,181)\"], [0.875, \"rgb(8,81,156)\"], [1.0, \"rgb(8,48,107)\"]], \"line\": {\"color\": \"Grey\", \"width\": 0.5}, \"showscale\": false}, \"mode\": \"markers\", \"showlegend\": false, \"type\": \"scatter\", \"x\": [\"scale\", \"scale\", \"scale\", \"auto\"], \"xaxis\": \"x3\", \"y\": [0.4310638160275016, 0.6600886858013236, 0.5508205656652657, 0.5625411524902337], \"yaxis\": \"y3\"}, {\"marker\": {\"color\": [0, 1, 2, 3], \"colorbar\": {\"title\": {\"text\": \"#Trials\"}, \"x\": 1.0, \"xpad\": 40}, \"colorscale\": [[0.0, \"rgb(247,251,255)\"], [0.125, \"rgb(222,235,247)\"], [0.25, \"rgb(198,219,239)\"], [0.375, \"rgb(158,202,225)\"], [0.5, \"rgb(107,174,214)\"], [0.625, \"rgb(66,146,198)\"], [0.75, \"rgb(33,113,181)\"], [0.875, \"rgb(8,81,156)\"], [1.0, \"rgb(8,48,107)\"]], \"line\": {\"color\": \"Grey\", \"width\": 0.5}, \"showscale\": false}, \"mode\": \"markers\", \"showlegend\": false, \"type\": \"scatter\", \"x\": [\"poly\", \"rbf\", \"linear\", \"rbf\"], \"xaxis\": \"x4\", \"y\": [0.4310638160275016, 0.6600886858013236, 0.5508205656652657, 0.5625411524902337], \"yaxis\": \"y4\"}, {\"marker\": {\"color\": [0, 1, 2, 3], \"colorbar\": {\"title\": {\"text\": \"#Trials\"}, \"x\": 1.0, \"xpad\": 40}, \"colorscale\": [[0.0, \"rgb(247,251,255)\"], [0.125, \"rgb(222,235,247)\"], [0.25, \"rgb(198,219,239)\"], [0.375, \"rgb(158,202,225)\"], [0.5, \"rgb(107,174,214)\"], [0.625, \"rgb(66,146,198)\"], [0.75, \"rgb(33,113,181)\"], [0.875, \"rgb(8,81,156)\"], [1.0, \"rgb(8,48,107)\"]], \"line\": {\"color\": \"Grey\", \"width\": 0.5}, \"showscale\": false}, \"mode\": \"markers\", \"showlegend\": false, \"type\": \"scatter\", \"x\": [10, 10, 6, 6], \"xaxis\": \"x5\", \"y\": [0.4310638160275016, 0.6600886858013236, 0.5508205656652657, 0.5625411524902337], \"yaxis\": \"y5\"}],\n",
              "                        {\"template\": {\"data\": {\"bar\": [{\"error_x\": {\"color\": \"#2a3f5f\"}, \"error_y\": {\"color\": \"#2a3f5f\"}, \"marker\": {\"line\": {\"color\": \"#E5ECF6\", \"width\": 0.5}}, \"type\": \"bar\"}], \"barpolar\": [{\"marker\": {\"line\": {\"color\": \"#E5ECF6\", \"width\": 0.5}}, \"type\": \"barpolar\"}], \"carpet\": [{\"aaxis\": {\"endlinecolor\": \"#2a3f5f\", \"gridcolor\": \"white\", \"linecolor\": \"white\", \"minorgridcolor\": \"white\", \"startlinecolor\": \"#2a3f5f\"}, \"baxis\": {\"endlinecolor\": \"#2a3f5f\", \"gridcolor\": \"white\", \"linecolor\": \"white\", \"minorgridcolor\": \"white\", \"startlinecolor\": \"#2a3f5f\"}, \"type\": \"carpet\"}], \"choropleth\": [{\"colorbar\": {\"outlinewidth\": 0, \"ticks\": \"\"}, \"type\": \"choropleth\"}], \"contour\": [{\"colorbar\": {\"outlinewidth\": 0, \"ticks\": \"\"}, \"colorscale\": [[0.0, \"#0d0887\"], [0.1111111111111111, \"#46039f\"], [0.2222222222222222, \"#7201a8\"], [0.3333333333333333, \"#9c179e\"], [0.4444444444444444, \"#bd3786\"], [0.5555555555555556, \"#d8576b\"], [0.6666666666666666, \"#ed7953\"], [0.7777777777777778, \"#fb9f3a\"], [0.8888888888888888, \"#fdca26\"], [1.0, \"#f0f921\"]], \"type\": \"contour\"}], \"contourcarpet\": [{\"colorbar\": {\"outlinewidth\": 0, \"ticks\": \"\"}, \"type\": \"contourcarpet\"}], \"heatmap\": [{\"colorbar\": {\"outlinewidth\": 0, \"ticks\": \"\"}, \"colorscale\": [[0.0, \"#0d0887\"], [0.1111111111111111, \"#46039f\"], [0.2222222222222222, \"#7201a8\"], [0.3333333333333333, \"#9c179e\"], [0.4444444444444444, \"#bd3786\"], [0.5555555555555556, \"#d8576b\"], [0.6666666666666666, \"#ed7953\"], [0.7777777777777778, \"#fb9f3a\"], [0.8888888888888888, \"#fdca26\"], [1.0, \"#f0f921\"]], \"type\": \"heatmap\"}], \"heatmapgl\": [{\"colorbar\": {\"outlinewidth\": 0, \"ticks\": \"\"}, \"colorscale\": [[0.0, \"#0d0887\"], [0.1111111111111111, \"#46039f\"], [0.2222222222222222, \"#7201a8\"], [0.3333333333333333, \"#9c179e\"], [0.4444444444444444, \"#bd3786\"], [0.5555555555555556, \"#d8576b\"], [0.6666666666666666, \"#ed7953\"], [0.7777777777777778, \"#fb9f3a\"], [0.8888888888888888, \"#fdca26\"], [1.0, \"#f0f921\"]], \"type\": \"heatmapgl\"}], \"histogram\": [{\"marker\": {\"colorbar\": {\"outlinewidth\": 0, \"ticks\": \"\"}}, \"type\": \"histogram\"}], \"histogram2d\": [{\"colorbar\": {\"outlinewidth\": 0, \"ticks\": \"\"}, \"colorscale\": [[0.0, \"#0d0887\"], [0.1111111111111111, \"#46039f\"], [0.2222222222222222, \"#7201a8\"], [0.3333333333333333, \"#9c179e\"], [0.4444444444444444, \"#bd3786\"], [0.5555555555555556, \"#d8576b\"], [0.6666666666666666, \"#ed7953\"], [0.7777777777777778, \"#fb9f3a\"], [0.8888888888888888, \"#fdca26\"], [1.0, \"#f0f921\"]], \"type\": \"histogram2d\"}], \"histogram2dcontour\": [{\"colorbar\": {\"outlinewidth\": 0, \"ticks\": \"\"}, \"colorscale\": [[0.0, \"#0d0887\"], [0.1111111111111111, \"#46039f\"], [0.2222222222222222, \"#7201a8\"], [0.3333333333333333, \"#9c179e\"], [0.4444444444444444, \"#bd3786\"], [0.5555555555555556, \"#d8576b\"], [0.6666666666666666, \"#ed7953\"], [0.7777777777777778, \"#fb9f3a\"], [0.8888888888888888, \"#fdca26\"], [1.0, \"#f0f921\"]], \"type\": \"histogram2dcontour\"}], \"mesh3d\": [{\"colorbar\": {\"outlinewidth\": 0, \"ticks\": \"\"}, \"type\": \"mesh3d\"}], \"parcoords\": [{\"line\": {\"colorbar\": {\"outlinewidth\": 0, \"ticks\": \"\"}}, \"type\": \"parcoords\"}], \"pie\": [{\"automargin\": true, \"type\": \"pie\"}], \"scatter\": [{\"marker\": {\"colorbar\": {\"outlinewidth\": 0, \"ticks\": \"\"}}, \"type\": \"scatter\"}], \"scatter3d\": [{\"line\": {\"colorbar\": {\"outlinewidth\": 0, \"ticks\": \"\"}}, \"marker\": {\"colorbar\": {\"outlinewidth\": 0, \"ticks\": \"\"}}, \"type\": \"scatter3d\"}], \"scattercarpet\": [{\"marker\": {\"colorbar\": {\"outlinewidth\": 0, \"ticks\": \"\"}}, \"type\": \"scattercarpet\"}], \"scattergeo\": [{\"marker\": {\"colorbar\": {\"outlinewidth\": 0, \"ticks\": \"\"}}, \"type\": \"scattergeo\"}], \"scattergl\": [{\"marker\": {\"colorbar\": {\"outlinewidth\": 0, \"ticks\": \"\"}}, \"type\": \"scattergl\"}], \"scattermapbox\": [{\"marker\": {\"colorbar\": {\"outlinewidth\": 0, \"ticks\": \"\"}}, \"type\": \"scattermapbox\"}], \"scatterpolar\": [{\"marker\": {\"colorbar\": {\"outlinewidth\": 0, \"ticks\": \"\"}}, \"type\": \"scatterpolar\"}], \"scatterpolargl\": [{\"marker\": {\"colorbar\": {\"outlinewidth\": 0, \"ticks\": \"\"}}, \"type\": \"scatterpolargl\"}], \"scatterternary\": [{\"marker\": {\"colorbar\": {\"outlinewidth\": 0, \"ticks\": \"\"}}, \"type\": \"scatterternary\"}], \"surface\": [{\"colorbar\": {\"outlinewidth\": 0, \"ticks\": \"\"}, \"colorscale\": [[0.0, \"#0d0887\"], [0.1111111111111111, \"#46039f\"], [0.2222222222222222, \"#7201a8\"], [0.3333333333333333, \"#9c179e\"], [0.4444444444444444, \"#bd3786\"], [0.5555555555555556, \"#d8576b\"], [0.6666666666666666, \"#ed7953\"], [0.7777777777777778, \"#fb9f3a\"], [0.8888888888888888, \"#fdca26\"], [1.0, \"#f0f921\"]], \"type\": \"surface\"}], \"table\": [{\"cells\": {\"fill\": {\"color\": \"#EBF0F8\"}, \"line\": {\"color\": \"white\"}}, \"header\": {\"fill\": {\"color\": \"#C8D4E3\"}, \"line\": {\"color\": \"white\"}}, \"type\": \"table\"}]}, \"layout\": {\"annotationdefaults\": {\"arrowcolor\": \"#2a3f5f\", \"arrowhead\": 0, \"arrowwidth\": 1}, \"coloraxis\": {\"colorbar\": {\"outlinewidth\": 0, \"ticks\": \"\"}}, \"colorscale\": {\"diverging\": [[0, \"#8e0152\"], [0.1, \"#c51b7d\"], [0.2, \"#de77ae\"], [0.3, \"#f1b6da\"], [0.4, \"#fde0ef\"], [0.5, \"#f7f7f7\"], [0.6, \"#e6f5d0\"], [0.7, \"#b8e186\"], [0.8, \"#7fbc41\"], [0.9, \"#4d9221\"], [1, \"#276419\"]], \"sequential\": [[0.0, \"#0d0887\"], [0.1111111111111111, \"#46039f\"], [0.2222222222222222, \"#7201a8\"], [0.3333333333333333, \"#9c179e\"], [0.4444444444444444, \"#bd3786\"], [0.5555555555555556, \"#d8576b\"], [0.6666666666666666, \"#ed7953\"], [0.7777777777777778, \"#fb9f3a\"], [0.8888888888888888, \"#fdca26\"], [1.0, \"#f0f921\"]], \"sequentialminus\": [[0.0, \"#0d0887\"], [0.1111111111111111, \"#46039f\"], [0.2222222222222222, \"#7201a8\"], [0.3333333333333333, \"#9c179e\"], [0.4444444444444444, \"#bd3786\"], [0.5555555555555556, \"#d8576b\"], [0.6666666666666666, \"#ed7953\"], [0.7777777777777778, \"#fb9f3a\"], [0.8888888888888888, \"#fdca26\"], [1.0, \"#f0f921\"]]}, \"colorway\": [\"#636efa\", \"#EF553B\", \"#00cc96\", \"#ab63fa\", \"#FFA15A\", \"#19d3f3\", \"#FF6692\", \"#B6E880\", \"#FF97FF\", \"#FECB52\"], \"font\": {\"color\": \"#2a3f5f\"}, \"geo\": {\"bgcolor\": \"white\", \"lakecolor\": \"white\", \"landcolor\": \"#E5ECF6\", \"showlakes\": true, \"showland\": true, \"subunitcolor\": \"white\"}, \"hoverlabel\": {\"align\": \"left\"}, \"hovermode\": \"closest\", \"mapbox\": {\"style\": \"light\"}, \"paper_bgcolor\": \"white\", \"plot_bgcolor\": \"#E5ECF6\", \"polar\": {\"angularaxis\": {\"gridcolor\": \"white\", \"linecolor\": \"white\", \"ticks\": \"\"}, \"bgcolor\": \"#E5ECF6\", \"radialaxis\": {\"gridcolor\": \"white\", \"linecolor\": \"white\", \"ticks\": \"\"}}, \"scene\": {\"xaxis\": {\"backgroundcolor\": \"#E5ECF6\", \"gridcolor\": \"white\", \"gridwidth\": 2, \"linecolor\": \"white\", \"showbackground\": true, \"ticks\": \"\", \"zerolinecolor\": \"white\"}, \"yaxis\": {\"backgroundcolor\": \"#E5ECF6\", \"gridcolor\": \"white\", \"gridwidth\": 2, \"linecolor\": \"white\", \"showbackground\": true, \"ticks\": \"\", \"zerolinecolor\": \"white\"}, \"zaxis\": {\"backgroundcolor\": \"#E5ECF6\", \"gridcolor\": \"white\", \"gridwidth\": 2, \"linecolor\": \"white\", \"showbackground\": true, \"ticks\": \"\", \"zerolinecolor\": \"white\"}}, \"shapedefaults\": {\"line\": {\"color\": \"#2a3f5f\"}}, \"ternary\": {\"aaxis\": {\"gridcolor\": \"white\", \"linecolor\": \"white\", \"ticks\": \"\"}, \"baxis\": {\"gridcolor\": \"white\", \"linecolor\": \"white\", \"ticks\": \"\"}, \"bgcolor\": \"#E5ECF6\", \"caxis\": {\"gridcolor\": \"white\", \"linecolor\": \"white\", \"ticks\": \"\"}}, \"title\": {\"x\": 0.05}, \"xaxis\": {\"automargin\": true, \"gridcolor\": \"white\", \"linecolor\": \"white\", \"ticks\": \"\", \"title\": {\"standoff\": 15}, \"zerolinecolor\": \"white\", \"zerolinewidth\": 2}, \"yaxis\": {\"automargin\": true, \"gridcolor\": \"white\", \"linecolor\": \"white\", \"ticks\": \"\", \"title\": {\"standoff\": 15}, \"zerolinecolor\": \"white\", \"zerolinewidth\": 2}}}, \"title\": {\"text\": \"Slice Plot\"}, \"width\": 1500, \"xaxis\": {\"anchor\": \"y\", \"domain\": [0.0, 0.16799999999999998], \"title\": {\"text\": \"C\"}, \"type\": \"log\"}, \"xaxis2\": {\"anchor\": \"y2\", \"domain\": [0.208, 0.376], \"title\": {\"text\": \"degree\"}}, \"xaxis3\": {\"anchor\": \"y3\", \"domain\": [0.416, 0.584], \"title\": {\"text\": \"gamma\"}}, \"xaxis4\": {\"anchor\": \"y4\", \"domain\": [0.624, 0.792], \"title\": {\"text\": \"kernel\"}}, \"xaxis5\": {\"anchor\": \"y5\", \"domain\": [0.832, 1.0], \"title\": {\"text\": \"n_components\"}}, \"yaxis\": {\"anchor\": \"x\", \"domain\": [0.0, 1.0], \"title\": {\"text\": \"Objective Value\"}}, \"yaxis2\": {\"anchor\": \"x2\", \"domain\": [0.0, 1.0], \"matches\": \"y\", \"showticklabels\": false}, \"yaxis3\": {\"anchor\": \"x3\", \"domain\": [0.0, 1.0], \"matches\": \"y\", \"showticklabels\": false}, \"yaxis4\": {\"anchor\": \"x4\", \"domain\": [0.0, 1.0], \"matches\": \"y\", \"showticklabels\": false}, \"yaxis5\": {\"anchor\": \"x5\", \"domain\": [0.0, 1.0], \"matches\": \"y\", \"showticklabels\": false}},\n",
              "                        {\"responsive\": true}\n",
              "                    ).then(function(){\n",
              "                            \n",
              "var gd = document.getElementById('1d17b60e-9ed1-4066-8468-2ee4de77c531');\n",
              "var x = new MutationObserver(function (mutations, observer) {{\n",
              "        var display = window.getComputedStyle(gd).display;\n",
              "        if (!display || display === 'none') {{\n",
              "            console.log([gd, 'removed!']);\n",
              "            Plotly.purge(gd);\n",
              "            observer.disconnect();\n",
              "        }}\n",
              "}});\n",
              "\n",
              "// Listen for the removal of the full notebook cells\n",
              "var notebookContainer = gd.closest('#notebook-container');\n",
              "if (notebookContainer) {{\n",
              "    x.observe(notebookContainer, {childList: true});\n",
              "}}\n",
              "\n",
              "// Listen for the clearing of the current output cell\n",
              "var outputEl = gd.closest('.output');\n",
              "if (outputEl) {{\n",
              "    x.observe(outputEl, {childList: true});\n",
              "}}\n",
              "\n",
              "                        })\n",
              "                };\n",
              "                \n",
              "            </script>\n",
              "        </div>\n",
              "</body>\n",
              "</html>"
            ]
          },
          "metadata": {}
        }
      ]
    },
    {
      "cell_type": "markdown",
      "metadata": {
        "id": "h2jCjeP_RQdd"
      },
      "source": [
        "Εδώ βλέπουμε το διάγραμμα που συνδυάζει τις τιμές των υπερπαραμέτρων και την τιμή για το f1_score. Με το πιο σκούρο χρώμα φαίνεται η ευθεία που αντιστοιχεί στη βέλτιστη τιμή του f1."
      ],
      "id": "h2jCjeP_RQdd"
    },
    {
      "cell_type": "code",
      "metadata": {
        "colab": {
          "base_uri": "https://localhost:8080/",
          "height": 542
        },
        "id": "bImUjPPARQdd",
        "outputId": "435bda27-94ef-4e3d-83a1-f4e18adf11ff"
      },
      "source": [
        "optuna.visualization.plot_parallel_coordinate(optuna_search.study_)"
      ],
      "id": "bImUjPPARQdd",
      "execution_count": null,
      "outputs": [
        {
          "output_type": "display_data",
          "data": {
            "text/html": [
              "<html>\n",
              "<head><meta charset=\"utf-8\" /></head>\n",
              "<body>\n",
              "    <div>\n",
              "            <script src=\"https://cdnjs.cloudflare.com/ajax/libs/mathjax/2.7.5/MathJax.js?config=TeX-AMS-MML_SVG\"></script><script type=\"text/javascript\">if (window.MathJax) {MathJax.Hub.Config({SVG: {font: \"STIX-Web\"}});}</script>\n",
              "                <script type=\"text/javascript\">window.PlotlyConfig = {MathJaxConfig: 'local'};</script>\n",
              "        <script src=\"https://cdn.plot.ly/plotly-latest.min.js\"></script>    \n",
              "            <div id=\"818b5255-30cf-432b-a1c4-5f00a81502a4\" class=\"plotly-graph-div\" style=\"height:525px; width:100%;\"></div>\n",
              "            <script type=\"text/javascript\">\n",
              "                \n",
              "                    window.PLOTLYENV=window.PLOTLYENV || {};\n",
              "                    \n",
              "                if (document.getElementById(\"818b5255-30cf-432b-a1c4-5f00a81502a4\")) {\n",
              "                    Plotly.newPlot(\n",
              "                        '818b5255-30cf-432b-a1c4-5f00a81502a4',\n",
              "                        [{\"dimensions\": [{\"label\": \"Objective Value\", \"range\": [0.4310638160275016, 0.6600886858013236], \"values\": [0.4310638160275016, 0.6600886858013236, 0.5508205656652657, 0.5625411524902337]}, {\"label\": \"C\", \"range\": [-0.682018273455798, 0.08082585996409282], \"ticktext\": [\"0.208\", \"1\", \"1.2\"], \"tickvals\": [-0.682018273455798, 0, 0.08082585996409282], \"values\": [0.08082585996409282, -0.682018273455798, -0.29215758108099066, -0.49403420139902093]}, {\"label\": \"degree\", \"range\": [1, 2], \"values\": [2, 1, 1, 1]}, {\"label\": \"gamma\", \"range\": [0, 1], \"ticktext\": [\"scale\", \"auto\"], \"tickvals\": [0, 1], \"values\": [0, 0, 0, 1]}, {\"label\": \"kernel\", \"range\": [0, 2], \"ticktext\": [\"poly\", \"rbf\", \"linear\"], \"tickvals\": [0, 1, 2], \"values\": [0, 1, 2, 1]}, {\"label\": \"n_components\", \"range\": [6, 10], \"values\": [10, 10, 6, 6]}], \"labelangle\": 30, \"labelside\": \"bottom\", \"line\": {\"color\": [0.4310638160275016, 0.6600886858013236, 0.5508205656652657, 0.5625411524902337], \"colorbar\": {\"title\": {\"text\": \"Objective Value\"}}, \"colorscale\": [[0.0, \"rgb(247,251,255)\"], [0.125, \"rgb(222,235,247)\"], [0.25, \"rgb(198,219,239)\"], [0.375, \"rgb(158,202,225)\"], [0.5, \"rgb(107,174,214)\"], [0.625, \"rgb(66,146,198)\"], [0.75, \"rgb(33,113,181)\"], [0.875, \"rgb(8,81,156)\"], [1.0, \"rgb(8,48,107)\"]], \"reversescale\": false, \"showscale\": true}, \"type\": \"parcoords\"}],\n",
              "                        {\"template\": {\"data\": {\"bar\": [{\"error_x\": {\"color\": \"#2a3f5f\"}, \"error_y\": {\"color\": \"#2a3f5f\"}, \"marker\": {\"line\": {\"color\": \"#E5ECF6\", \"width\": 0.5}}, \"type\": \"bar\"}], \"barpolar\": [{\"marker\": {\"line\": {\"color\": \"#E5ECF6\", \"width\": 0.5}}, \"type\": \"barpolar\"}], \"carpet\": [{\"aaxis\": {\"endlinecolor\": \"#2a3f5f\", \"gridcolor\": \"white\", \"linecolor\": \"white\", \"minorgridcolor\": \"white\", \"startlinecolor\": \"#2a3f5f\"}, \"baxis\": {\"endlinecolor\": \"#2a3f5f\", \"gridcolor\": \"white\", \"linecolor\": \"white\", \"minorgridcolor\": \"white\", \"startlinecolor\": \"#2a3f5f\"}, \"type\": \"carpet\"}], \"choropleth\": [{\"colorbar\": {\"outlinewidth\": 0, \"ticks\": \"\"}, \"type\": \"choropleth\"}], \"contour\": [{\"colorbar\": {\"outlinewidth\": 0, \"ticks\": \"\"}, \"colorscale\": [[0.0, \"#0d0887\"], [0.1111111111111111, \"#46039f\"], [0.2222222222222222, \"#7201a8\"], [0.3333333333333333, \"#9c179e\"], [0.4444444444444444, \"#bd3786\"], [0.5555555555555556, \"#d8576b\"], [0.6666666666666666, \"#ed7953\"], [0.7777777777777778, \"#fb9f3a\"], [0.8888888888888888, \"#fdca26\"], [1.0, \"#f0f921\"]], \"type\": \"contour\"}], \"contourcarpet\": [{\"colorbar\": {\"outlinewidth\": 0, \"ticks\": \"\"}, \"type\": \"contourcarpet\"}], \"heatmap\": [{\"colorbar\": {\"outlinewidth\": 0, \"ticks\": \"\"}, \"colorscale\": [[0.0, \"#0d0887\"], [0.1111111111111111, \"#46039f\"], [0.2222222222222222, \"#7201a8\"], [0.3333333333333333, \"#9c179e\"], [0.4444444444444444, \"#bd3786\"], [0.5555555555555556, \"#d8576b\"], [0.6666666666666666, \"#ed7953\"], [0.7777777777777778, \"#fb9f3a\"], [0.8888888888888888, \"#fdca26\"], [1.0, \"#f0f921\"]], \"type\": \"heatmap\"}], \"heatmapgl\": [{\"colorbar\": {\"outlinewidth\": 0, \"ticks\": \"\"}, \"colorscale\": [[0.0, \"#0d0887\"], [0.1111111111111111, \"#46039f\"], [0.2222222222222222, \"#7201a8\"], [0.3333333333333333, \"#9c179e\"], [0.4444444444444444, \"#bd3786\"], [0.5555555555555556, \"#d8576b\"], [0.6666666666666666, \"#ed7953\"], [0.7777777777777778, \"#fb9f3a\"], [0.8888888888888888, \"#fdca26\"], [1.0, \"#f0f921\"]], \"type\": \"heatmapgl\"}], \"histogram\": [{\"marker\": {\"colorbar\": {\"outlinewidth\": 0, \"ticks\": \"\"}}, \"type\": \"histogram\"}], \"histogram2d\": [{\"colorbar\": {\"outlinewidth\": 0, \"ticks\": \"\"}, \"colorscale\": [[0.0, \"#0d0887\"], [0.1111111111111111, \"#46039f\"], [0.2222222222222222, \"#7201a8\"], [0.3333333333333333, \"#9c179e\"], [0.4444444444444444, \"#bd3786\"], [0.5555555555555556, \"#d8576b\"], [0.6666666666666666, \"#ed7953\"], [0.7777777777777778, \"#fb9f3a\"], [0.8888888888888888, \"#fdca26\"], [1.0, \"#f0f921\"]], \"type\": \"histogram2d\"}], \"histogram2dcontour\": [{\"colorbar\": {\"outlinewidth\": 0, \"ticks\": \"\"}, \"colorscale\": [[0.0, \"#0d0887\"], [0.1111111111111111, \"#46039f\"], [0.2222222222222222, \"#7201a8\"], [0.3333333333333333, \"#9c179e\"], [0.4444444444444444, \"#bd3786\"], [0.5555555555555556, \"#d8576b\"], [0.6666666666666666, \"#ed7953\"], [0.7777777777777778, \"#fb9f3a\"], [0.8888888888888888, \"#fdca26\"], [1.0, \"#f0f921\"]], \"type\": \"histogram2dcontour\"}], \"mesh3d\": [{\"colorbar\": {\"outlinewidth\": 0, \"ticks\": \"\"}, \"type\": \"mesh3d\"}], \"parcoords\": [{\"line\": {\"colorbar\": {\"outlinewidth\": 0, \"ticks\": \"\"}}, \"type\": \"parcoords\"}], \"pie\": [{\"automargin\": true, \"type\": \"pie\"}], \"scatter\": [{\"marker\": {\"colorbar\": {\"outlinewidth\": 0, \"ticks\": \"\"}}, \"type\": \"scatter\"}], \"scatter3d\": [{\"line\": {\"colorbar\": {\"outlinewidth\": 0, \"ticks\": \"\"}}, \"marker\": {\"colorbar\": {\"outlinewidth\": 0, \"ticks\": \"\"}}, \"type\": \"scatter3d\"}], \"scattercarpet\": [{\"marker\": {\"colorbar\": {\"outlinewidth\": 0, \"ticks\": \"\"}}, \"type\": \"scattercarpet\"}], \"scattergeo\": [{\"marker\": {\"colorbar\": {\"outlinewidth\": 0, \"ticks\": \"\"}}, \"type\": \"scattergeo\"}], \"scattergl\": [{\"marker\": {\"colorbar\": {\"outlinewidth\": 0, \"ticks\": \"\"}}, \"type\": \"scattergl\"}], \"scattermapbox\": [{\"marker\": {\"colorbar\": {\"outlinewidth\": 0, \"ticks\": \"\"}}, \"type\": \"scattermapbox\"}], \"scatterpolar\": [{\"marker\": {\"colorbar\": {\"outlinewidth\": 0, \"ticks\": \"\"}}, \"type\": \"scatterpolar\"}], \"scatterpolargl\": [{\"marker\": {\"colorbar\": {\"outlinewidth\": 0, \"ticks\": \"\"}}, \"type\": \"scatterpolargl\"}], \"scatterternary\": [{\"marker\": {\"colorbar\": {\"outlinewidth\": 0, \"ticks\": \"\"}}, \"type\": \"scatterternary\"}], \"surface\": [{\"colorbar\": {\"outlinewidth\": 0, \"ticks\": \"\"}, \"colorscale\": [[0.0, \"#0d0887\"], [0.1111111111111111, \"#46039f\"], [0.2222222222222222, \"#7201a8\"], [0.3333333333333333, \"#9c179e\"], [0.4444444444444444, \"#bd3786\"], [0.5555555555555556, \"#d8576b\"], [0.6666666666666666, \"#ed7953\"], [0.7777777777777778, \"#fb9f3a\"], [0.8888888888888888, \"#fdca26\"], [1.0, \"#f0f921\"]], \"type\": \"surface\"}], \"table\": [{\"cells\": {\"fill\": {\"color\": \"#EBF0F8\"}, \"line\": {\"color\": \"white\"}}, \"header\": {\"fill\": {\"color\": \"#C8D4E3\"}, \"line\": {\"color\": \"white\"}}, \"type\": \"table\"}]}, \"layout\": {\"annotationdefaults\": {\"arrowcolor\": \"#2a3f5f\", \"arrowhead\": 0, \"arrowwidth\": 1}, \"coloraxis\": {\"colorbar\": {\"outlinewidth\": 0, \"ticks\": \"\"}}, \"colorscale\": {\"diverging\": [[0, \"#8e0152\"], [0.1, \"#c51b7d\"], [0.2, \"#de77ae\"], [0.3, \"#f1b6da\"], [0.4, \"#fde0ef\"], [0.5, \"#f7f7f7\"], [0.6, \"#e6f5d0\"], [0.7, \"#b8e186\"], [0.8, \"#7fbc41\"], [0.9, \"#4d9221\"], [1, \"#276419\"]], \"sequential\": [[0.0, \"#0d0887\"], [0.1111111111111111, \"#46039f\"], [0.2222222222222222, \"#7201a8\"], [0.3333333333333333, \"#9c179e\"], [0.4444444444444444, \"#bd3786\"], [0.5555555555555556, \"#d8576b\"], [0.6666666666666666, \"#ed7953\"], [0.7777777777777778, \"#fb9f3a\"], [0.8888888888888888, \"#fdca26\"], [1.0, \"#f0f921\"]], \"sequentialminus\": [[0.0, \"#0d0887\"], [0.1111111111111111, \"#46039f\"], [0.2222222222222222, \"#7201a8\"], [0.3333333333333333, \"#9c179e\"], [0.4444444444444444, \"#bd3786\"], [0.5555555555555556, \"#d8576b\"], [0.6666666666666666, \"#ed7953\"], [0.7777777777777778, \"#fb9f3a\"], [0.8888888888888888, \"#fdca26\"], [1.0, \"#f0f921\"]]}, \"colorway\": [\"#636efa\", \"#EF553B\", \"#00cc96\", \"#ab63fa\", \"#FFA15A\", \"#19d3f3\", \"#FF6692\", \"#B6E880\", \"#FF97FF\", \"#FECB52\"], \"font\": {\"color\": \"#2a3f5f\"}, \"geo\": {\"bgcolor\": \"white\", \"lakecolor\": \"white\", \"landcolor\": \"#E5ECF6\", \"showlakes\": true, \"showland\": true, \"subunitcolor\": \"white\"}, \"hoverlabel\": {\"align\": \"left\"}, \"hovermode\": \"closest\", \"mapbox\": {\"style\": \"light\"}, \"paper_bgcolor\": \"white\", \"plot_bgcolor\": \"#E5ECF6\", \"polar\": {\"angularaxis\": {\"gridcolor\": \"white\", \"linecolor\": \"white\", \"ticks\": \"\"}, \"bgcolor\": \"#E5ECF6\", \"radialaxis\": {\"gridcolor\": \"white\", \"linecolor\": \"white\", \"ticks\": \"\"}}, \"scene\": {\"xaxis\": {\"backgroundcolor\": \"#E5ECF6\", \"gridcolor\": \"white\", \"gridwidth\": 2, \"linecolor\": \"white\", \"showbackground\": true, \"ticks\": \"\", \"zerolinecolor\": \"white\"}, \"yaxis\": {\"backgroundcolor\": \"#E5ECF6\", \"gridcolor\": \"white\", \"gridwidth\": 2, \"linecolor\": \"white\", \"showbackground\": true, \"ticks\": \"\", \"zerolinecolor\": \"white\"}, \"zaxis\": {\"backgroundcolor\": \"#E5ECF6\", \"gridcolor\": \"white\", \"gridwidth\": 2, \"linecolor\": \"white\", \"showbackground\": true, \"ticks\": \"\", \"zerolinecolor\": \"white\"}}, \"shapedefaults\": {\"line\": {\"color\": \"#2a3f5f\"}}, \"ternary\": {\"aaxis\": {\"gridcolor\": \"white\", \"linecolor\": \"white\", \"ticks\": \"\"}, \"baxis\": {\"gridcolor\": \"white\", \"linecolor\": \"white\", \"ticks\": \"\"}, \"bgcolor\": \"#E5ECF6\", \"caxis\": {\"gridcolor\": \"white\", \"linecolor\": \"white\", \"ticks\": \"\"}}, \"title\": {\"x\": 0.05}, \"xaxis\": {\"automargin\": true, \"gridcolor\": \"white\", \"linecolor\": \"white\", \"ticks\": \"\", \"title\": {\"standoff\": 15}, \"zerolinecolor\": \"white\", \"zerolinewidth\": 2}, \"yaxis\": {\"automargin\": true, \"gridcolor\": \"white\", \"linecolor\": \"white\", \"ticks\": \"\", \"title\": {\"standoff\": 15}, \"zerolinecolor\": \"white\", \"zerolinewidth\": 2}}}, \"title\": {\"text\": \"Parallel Coordinate Plot\"}},\n",
              "                        {\"responsive\": true}\n",
              "                    ).then(function(){\n",
              "                            \n",
              "var gd = document.getElementById('818b5255-30cf-432b-a1c4-5f00a81502a4');\n",
              "var x = new MutationObserver(function (mutations, observer) {{\n",
              "        var display = window.getComputedStyle(gd).display;\n",
              "        if (!display || display === 'none') {{\n",
              "            console.log([gd, 'removed!']);\n",
              "            Plotly.purge(gd);\n",
              "            observer.disconnect();\n",
              "        }}\n",
              "}});\n",
              "\n",
              "// Listen for the removal of the full notebook cells\n",
              "var notebookContainer = gd.closest('#notebook-container');\n",
              "if (notebookContainer) {{\n",
              "    x.observe(notebookContainer, {childList: true});\n",
              "}}\n",
              "\n",
              "// Listen for the clearing of the current output cell\n",
              "var outputEl = gd.closest('.output');\n",
              "if (outputEl) {{\n",
              "    x.observe(outputEl, {childList: true});\n",
              "}}\n",
              "\n",
              "                        })\n",
              "                };\n",
              "                \n",
              "            </script>\n",
              "        </div>\n",
              "</body>\n",
              "</html>"
            ]
          },
          "metadata": {}
        }
      ]
    },
    {
      "cell_type": "markdown",
      "metadata": {
        "id": "E_vKyg9WRQde"
      },
      "source": [
        "###### Επιδόσεις καλύτερου μοντέλου SVM στο test set"
      ],
      "id": "E_vKyg9WRQde"
    },
    {
      "cell_type": "markdown",
      "metadata": {
        "id": "LBCOx4x3RQde"
      },
      "source": [
        "* Εντοπίζω τις επιδόσεις"
      ],
      "id": "LBCOx4x3RQde"
    },
    {
      "cell_type": "code",
      "metadata": {
        "id": "dbcFX8Q1UnJp"
      },
      "source": [
        "best_accuracies['SVM_cv'] = round(accuracy_score(Y_test, preds_cv), 3)\n",
        "best_f1s['SVM_cv'] = round(f1_score(Y_test, preds_cv, average='macro'), 3)\n",
        "best_recalls['SVM_cv'] = round(recall_score(Y_test, preds_cv, average='macro'), 3) \n",
        "\n",
        "print('SVM with cross validation best scores:')\n",
        "print(\"Accuracy:\", best_accuracies['SVM_cv'])\n",
        "print(\"F1:\", best_f1s['SVM_cv'])\n",
        "print(\"Recall:\", best_recalls['SVM_cv'])"
      ],
      "id": "dbcFX8Q1UnJp",
      "execution_count": null,
      "outputs": []
    },
    {
      "cell_type": "markdown",
      "metadata": {
        "id": "5wi05ivLRQdh"
      },
      "source": [
        "* Σχεδιάζω τον πίνακα σύγχυσης"
      ],
      "id": "5wi05ivLRQdh"
    },
    {
      "cell_type": "code",
      "metadata": {
        "colab": {
          "base_uri": "https://localhost:8080/",
          "height": 302
        },
        "id": "DDPxtPjbRQdh",
        "outputId": "2e4e3fc6-7738-4478-e332-2a4e1e1f198d"
      },
      "source": [
        "from sklearn.metrics import confusion_matrix\n",
        "import seaborn as sns; sns.set()\n",
        "print(f\"SVM:\")\n",
        "mat = confusion_matrix(Y_test , best_predictions)\n",
        "sns.heatmap(mat.T, square=True, annot=True, fmt='d', cbar=False)\n",
        "plt.xlabel('true label')\n",
        "plt.ylabel('predicted label');"
      ],
      "id": "DDPxtPjbRQdh",
      "execution_count": null,
      "outputs": [
        {
          "output_type": "stream",
          "name": "stdout",
          "text": [
            "SVM:\n"
          ]
        },
        {
          "output_type": "display_data",
          "data": {
            "image/png": "[encoded data removed]",
            "text/plain": [
              "<Figure size 432x288 with 1 Axes>"
            ]
          },
          "metadata": {}
        }
      ]
    },
    {
      "cell_type": "markdown",
      "metadata": {
        "id": "DfwFYlLH9ZCR"
      },
      "source": [
        "#### Συμπεράσματα SVM"
      ],
      "id": "DfwFYlLH9ZCR"
    },
    {
      "cell_type": "markdown",
      "metadata": {
        "id": "dQCoT-w798rD"
      },
      "source": [
        "Γενικά, παρατηρήσαμε πως η ταξίνομηση με τα Support Vector Machines ή SVMs όπως λέγονται μπόρει να είναι μια επίπονη διαδικασία σε μεγάλα datasets όπως αυτό που εργαζόμαστε , με την βελτιστοποίηση να διαρκεί κάποιες ώρες (ανάλογα και τον αριθμό n_trials που χρησιμοποιούμε στην Optuna)."
      ],
      "id": "dQCoT-w798rD"
    },
    {
      "cell_type": "markdown",
      "metadata": {
        "id": "32gKUi8X_cq5"
      },
      "source": [
        "##### Σύγκριση out-of-the-box με pipelines"
      ],
      "id": "32gKUi8X_cq5"
    },
    {
      "cell_type": "markdown",
      "metadata": {
        "id": "LBRT1OH9_HG-"
      },
      "source": [
        "Βλέπουμε πως η βελτιστοποίηση λειτούργησε και η υλοποίηση με pipelines μας δίνει ελαφρώς καλύτερα αποτελέσματα από την οut of the box υλοποίηση που είχαμε:\n",
        "\n",
        "\n"
      ],
      "id": "LBRT1OH9_HG-"
    },
    {
      "cell_type": "code",
      "metadata": {
        "id": "YHlkwyb5_mMN",
        "colab": {
          "base_uri": "https://localhost:8080/",
          "height": 229
        },
        "outputId": "ca91dcf9-b5e8-47fc-d66c-d0fb65e7b2dc"
      },
      "source": [
        "plot_scores(accuracies, f1_scores, recalls)"
      ],
      "id": "YHlkwyb5_mMN",
      "execution_count": null,
      "outputs": [
        {
          "output_type": "display_data",
          "data": {
            "image/png": "[encoded data removed]",
            "text/plain": [
              "<Figure size 1440x216 with 2 Axes>"
            ]
          },
          "metadata": {}
        }
      ]
    },
    {
      "cell_type": "markdown",
      "metadata": {
        "id": "ZPWv3U8eHlAE"
      },
      "source": [
        "##### Σύγκριση out-of-the-box με cross_validation\n",
        "\n"
      ],
      "id": "ZPWv3U8eHlAE"
    },
    {
      "cell_type": "markdown",
      "metadata": {
        "id": "9juB_l1FIP_k"
      },
      "source": [
        "Για το cross validation χρησιμοποίησαμε τη συνάρτηση OptunaSearchCV όπου παρατηρήσαμε και πάλι αργούς χρόνους για τα αποτελέσματα, γι'αυτό και ο χαμηλός αριθμός στo attribute n_trials."
      ],
      "id": "9juB_l1FIP_k"
    },
    {
      "cell_type": "code",
      "metadata": {
        "id": "xVLMjZDKH6R8",
        "colab": {
          "base_uri": "https://localhost:8080/",
          "height": 229
        },
        "outputId": "7e0b60ff-c2ac-4179-d8cb-e901ba5d2297"
      },
      "source": [
        "plot_scores(accuracies, f1_scores, recalls)"
      ],
      "id": "xVLMjZDKH6R8",
      "execution_count": null,
      "outputs": [
        {
          "output_type": "display_data",
          "data": {
            "image/png": "[encoded data removed]",
            "text/plain": [
              "<Figure size 1440x216 with 2 Axes>"
            ]
          },
          "metadata": {}
        }
      ]
    },
    {
      "cell_type": "markdown",
      "metadata": {
        "id": "Sdaf2lIGCPIU"
      },
      "source": [
        "#### Βελτιστοποίηση MLP"
      ],
      "id": "Sdaf2lIGCPIU"
    },
    {
      "cell_type": "markdown",
      "metadata": {
        "id": "lPE6dV54AomI"
      },
      "source": [
        "##### Με pipeline"
      ],
      "id": "lPE6dV54AomI"
    },
    {
      "cell_type": "markdown",
      "metadata": {
        "id": "96RZI4tiAomJ"
      },
      "source": [
        "* Χρησιμοποιούμε:\n",
        "  * pipeline για να εισαγάγουμε την προεπεξεργασία\n",
        "  * την βιβλιοθήκη optuna για την βελτιστοποίηση των υπερπαραμέτρων των μετασχηματιστών και των εκτιμητών\n",
        "* Δοκιμάσαμε διάφορες αρχιτεκτονικές, χρησιμοποιώντας κάθε φορά διαφορετικό συνδυασμό μετασχηματιστών, και καταλήξαμε στην αρχιτεκτονική που φαίνεται στο παρακάτω κελί.\n",
        "* Ομοίως με προηγουμένως, δοκιμάζουμε διάφορες τιμές για τις υπερπαραμέτρους\n",
        "* Εδώ, όσον αφορά τις υπερπαραμέτρους του MLP, δοκιμάζουμε έως 2 hidden layers, και αριθμό units έως 150 στο κάθε στρώμα, ώστε το δίκτυο να μην γίνει υπερβολικά σύνθετο και καταλήξουμε σε overfitting."
      ],
      "id": "96RZI4tiAomJ"
    },
    {
      "cell_type": "code",
      "metadata": {
        "colab": {
          "base_uri": "https://localhost:8080/"
        },
        "id": "NJvH25aU-HEW",
        "outputId": "40c3fb8e-207a-421f-9419-cec73c763f29"
      },
      "source": [
        "import optuna\n",
        "from sklearn.preprocessing import StandardScaler\n",
        "from sklearn.decomposition import PCA\n",
        "from sklearn.neural_network import MLPClassifier\n",
        "from sklearn.metrics import f1_score\n",
        "\n",
        "# we keep all the predictions in a list, to restore the predictions of the best model later and count all of its metrics\n",
        "predictions = []\n",
        "\n",
        "def objective_mlp(trial):\n",
        "    \n",
        "    steps = []\n",
        "    \n",
        "    scaler = StandardScaler()\n",
        "    steps.append(('scaler', scaler))\n",
        "\n",
        "    #ros = RandomOverSampler()\n",
        "    #steps.append(('ros', ros))\n",
        "    \n",
        "    \n",
        "    n_components = trial.suggest_int('n_components', 2, 10, step=4)\n",
        "    pca = PCA(n_components=n_components)\n",
        "    steps.append(('pca', pca))\n",
        "    \n",
        "    n_layers = trial.suggest_int('n_layers', 1, 3, step=1)\n",
        "    layers = []\n",
        "    for i in range(n_layers):\n",
        "        layers.append(trial.suggest_int(f\"n_units_{i}\", 10, 150, step=10))\n",
        "    \n",
        "    mlp = MLPClassifier(hidden_layer_sizes=tuple(layers))\n",
        "    steps.append(('mlp', mlp))\n",
        "    \n",
        "    pipe = Pipeline(steps=steps)\n",
        "    \n",
        "    pipe.fit(new_X_train_df, Y_train.ravel())\n",
        "    \n",
        "    \n",
        "    preds = pipe.predict(new_X_test_df)\n",
        "    \n",
        "    predictions.append({\n",
        "        'n_components': n_components,\n",
        "        'hidden_layer_sizes': tuple(layers),\n",
        "        'preds': preds\n",
        "    })\n",
        "\n",
        "    score = f1_score(Y_test, preds, average='macro')\n",
        "    \n",
        "    return score\n",
        "\n",
        "\n",
        "study = optuna.create_study(direction='maximize')\n",
        "study.optimize(objective_mlp, n_trials=10)\n",
        "\n"
      ],
      "id": "NJvH25aU-HEW",
      "execution_count": null,
      "outputs": [
        {
          "output_type": "stream",
          "name": "stderr",
          "text": [
            "\u001b[32m[I 2021-12-02 19:05:40,192]\u001b[0m A new study created in memory with name: no-name-91505291-ecbf-4df6-a5e1-9107cec7f390\u001b[0m\n",
            "\u001b[32m[I 2021-12-02 19:05:51,118]\u001b[0m Trial 0 finished with value: 0.2940945758327918 and parameters: {'n_components': 2, 'n_layers': 1, 'n_units_0': 100}. Best is trial 0 with value: 0.2940945758327918.\u001b[0m\n",
            "/usr/local/lib/python3.7/dist-packages/sklearn/neural_network/_multilayer_perceptron.py:696: ConvergenceWarning:\n",
            "\n",
            "Stochastic Optimizer: Maximum iterations (200) reached and the optimization hasn't converged yet.\n",
            "\n",
            "\u001b[32m[I 2021-12-02 19:09:16,323]\u001b[0m Trial 1 finished with value: 0.6670789336792677 and parameters: {'n_components': 10, 'n_layers': 2, 'n_units_0': 70, 'n_units_1': 60}. Best is trial 1 with value: 0.6670789336792677.\u001b[0m\n",
            "/usr/local/lib/python3.7/dist-packages/sklearn/neural_network/_multilayer_perceptron.py:696: ConvergenceWarning:\n",
            "\n",
            "Stochastic Optimizer: Maximum iterations (200) reached and the optimization hasn't converged yet.\n",
            "\n",
            "\u001b[32m[I 2021-12-02 19:13:31,592]\u001b[0m Trial 2 finished with value: 0.6075977643393383 and parameters: {'n_components': 6, 'n_layers': 2, 'n_units_0': 70, 'n_units_1': 70}. Best is trial 1 with value: 0.6670789336792677.\u001b[0m\n",
            "/usr/local/lib/python3.7/dist-packages/sklearn/neural_network/_multilayer_perceptron.py:696: ConvergenceWarning:\n",
            "\n",
            "Stochastic Optimizer: Maximum iterations (200) reached and the optimization hasn't converged yet.\n",
            "\n",
            "\u001b[32m[I 2021-12-02 19:18:14,903]\u001b[0m Trial 3 finished with value: 0.6603022478036772 and parameters: {'n_components': 10, 'n_layers': 2, 'n_units_0': 60, 'n_units_1': 130}. Best is trial 1 with value: 0.6670789336792677.\u001b[0m\n",
            "\u001b[32m[I 2021-12-02 19:18:41,617]\u001b[0m Trial 4 finished with value: 0.2983449968667105 and parameters: {'n_components': 2, 'n_layers': 3, 'n_units_0': 10, 'n_units_1': 70, 'n_units_2': 140}. Best is trial 1 with value: 0.6670789336792677.\u001b[0m\n",
            "\u001b[32m[I 2021-12-02 19:21:42,011]\u001b[0m Trial 5 finished with value: 0.6660543026272889 and parameters: {'n_components': 10, 'n_layers': 3, 'n_units_0': 50, 'n_units_1': 10, 'n_units_2': 120}. Best is trial 1 with value: 0.6670789336792677.\u001b[0m\n",
            "/usr/local/lib/python3.7/dist-packages/sklearn/neural_network/_multilayer_perceptron.py:696: ConvergenceWarning:\n",
            "\n",
            "Stochastic Optimizer: Maximum iterations (200) reached and the optimization hasn't converged yet.\n",
            "\n",
            "\u001b[32m[I 2021-12-02 19:22:54,170]\u001b[0m Trial 6 finished with value: 0.6052030703575476 and parameters: {'n_components': 6, 'n_layers': 1, 'n_units_0': 60}. Best is trial 1 with value: 0.6670789336792677.\u001b[0m\n",
            "/usr/local/lib/python3.7/dist-packages/sklearn/neural_network/_multilayer_perceptron.py:696: ConvergenceWarning:\n",
            "\n",
            "Stochastic Optimizer: Maximum iterations (200) reached and the optimization hasn't converged yet.\n",
            "\n",
            "\u001b[32m[I 2021-12-02 19:26:57,660]\u001b[0m Trial 7 finished with value: 0.6099982431811632 and parameters: {'n_components': 6, 'n_layers': 2, 'n_units_0': 100, 'n_units_1': 50}. Best is trial 1 with value: 0.6670789336792677.\u001b[0m\n",
            "\u001b[32m[I 2021-12-02 19:28:40,665]\u001b[0m Trial 8 finished with value: 0.6675251389899245 and parameters: {'n_components': 10, 'n_layers': 3, 'n_units_0': 50, 'n_units_1': 20, 'n_units_2': 20}. Best is trial 8 with value: 0.6675251389899245.\u001b[0m\n",
            "/usr/local/lib/python3.7/dist-packages/sklearn/neural_network/_multilayer_perceptron.py:696: ConvergenceWarning:\n",
            "\n",
            "Stochastic Optimizer: Maximum iterations (200) reached and the optimization hasn't converged yet.\n",
            "\n",
            "\u001b[32m[I 2021-12-02 19:39:30,300]\u001b[0m Trial 9 finished with value: 0.6011041702983896 and parameters: {'n_components': 6, 'n_layers': 3, 'n_units_0': 90, 'n_units_1': 140, 'n_units_2': 30}. Best is trial 8 with value: 0.6675251389899245.\u001b[0m\n"
          ]
        }
      ]
    },
    {
      "cell_type": "markdown",
      "metadata": {
        "id": "qZnnkll7EqB2"
      },
      "source": [
        "Τελικά οι καλυτέροι υπερπαράμετροι για την ταξινόμηση με MLP είναι:"
      ],
      "id": "qZnnkll7EqB2"
    },
    {
      "cell_type": "code",
      "metadata": {
        "colab": {
          "base_uri": "https://localhost:8080/"
        },
        "id": "yecDv5eWEqB3",
        "outputId": "0b308aa0-30b9-4328-8c21-b2122a3aa3e1"
      },
      "source": [
        "study.best_params"
      ],
      "id": "yecDv5eWEqB3",
      "execution_count": null,
      "outputs": [
        {
          "output_type": "execute_result",
          "data": {
            "text/plain": [
              "{'n_components': 10,\n",
              " 'n_layers': 3,\n",
              " 'n_units_0': 50,\n",
              " 'n_units_1': 20,\n",
              " 'n_units_2': 20}"
            ]
          },
          "metadata": {},
          "execution_count": 14
        }
      ]
    },
    {
      "cell_type": "markdown",
      "metadata": {
        "id": "G_bnZ4v_Fdce"
      },
      "source": [
        "Στα παρακάτω διαγράμματα βλέπουμε ένα διάγραμμα για κάθε υπερπαράμετρο που δοκιμάστηκε , και με πιο σκούρο χρώμα τις υπερπαραμέτρους που οδήγησαν στη βέλτιστη επίδοση."
      ],
      "id": "G_bnZ4v_Fdce"
    },
    {
      "cell_type": "code",
      "metadata": {
        "colab": {
          "base_uri": "https://localhost:8080/",
          "height": 562
        },
        "id": "T4iVJVMdFdcf",
        "outputId": "417f7d60-8ec1-455e-b49e-a47591f5d6b2"
      },
      "source": [
        "optuna.visualization.plot_slice(study)"
      ],
      "id": "T4iVJVMdFdcf",
      "execution_count": null,
      "outputs": [
        {
          "output_type": "display_data",
          "data": {
            "text/html": [
              "<html>\n",
              "<head><meta charset=\"utf-8\" /></head>\n",
              "<body>\n",
              "    <div>\n",
              "            <script src=\"https://cdnjs.cloudflare.com/ajax/libs/mathjax/2.7.5/MathJax.js?config=TeX-AMS-MML_SVG\"></script><script type=\"text/javascript\">if (window.MathJax) {MathJax.Hub.Config({SVG: {font: \"STIX-Web\"}});}</script>\n",
              "                <script type=\"text/javascript\">window.PlotlyConfig = {MathJaxConfig: 'local'};</script>\n",
              "        <script src=\"https://cdn.plot.ly/plotly-latest.min.js\"></script>    \n",
              "            <div id=\"c44dddad-3a73-4a9a-962b-ca62c159fc1a\" class=\"plotly-graph-div\" style=\"height:525px; width:1500px;\"></div>\n",
              "            <script type=\"text/javascript\">\n",
              "                \n",
              "                    window.PLOTLYENV=window.PLOTLYENV || {};\n",
              "                    \n",
              "                if (document.getElementById(\"c44dddad-3a73-4a9a-962b-ca62c159fc1a\")) {\n",
              "                    Plotly.newPlot(\n",
              "                        'c44dddad-3a73-4a9a-962b-ca62c159fc1a',\n",
              "                        [{\"marker\": {\"color\": [0, 1, 2, 3, 4, 5, 6, 7, 8, 9], \"colorbar\": {\"title\": {\"text\": \"#Trials\"}, \"x\": 1.0, \"xpad\": 40}, \"colorscale\": [[0.0, \"rgb(247,251,255)\"], [0.125, \"rgb(222,235,247)\"], [0.25, \"rgb(198,219,239)\"], [0.375, \"rgb(158,202,225)\"], [0.5, \"rgb(107,174,214)\"], [0.625, \"rgb(66,146,198)\"], [0.75, \"rgb(33,113,181)\"], [0.875, \"rgb(8,81,156)\"], [1.0, \"rgb(8,48,107)\"]], \"line\": {\"color\": \"Grey\", \"width\": 0.5}, \"showscale\": true}, \"mode\": \"markers\", \"showlegend\": false, \"type\": \"scatter\", \"x\": [2, 10, 6, 10, 2, 10, 6, 6, 10, 6], \"xaxis\": \"x\", \"y\": [0.2940945758327918, 0.6670789336792677, 0.6075977643393383, 0.6603022478036772, 0.2983449968667105, 0.6660543026272889, 0.6052030703575476, 0.6099982431811632, 0.6675251389899245, 0.6011041702983896], \"yaxis\": \"y\"}, {\"marker\": {\"color\": [0, 1, 2, 3, 4, 5, 6, 7, 8, 9], \"colorbar\": {\"title\": {\"text\": \"#Trials\"}, \"x\": 1.0, \"xpad\": 40}, \"colorscale\": [[0.0, \"rgb(247,251,255)\"], [0.125, \"rgb(222,235,247)\"], [0.25, \"rgb(198,219,239)\"], [0.375, \"rgb(158,202,225)\"], [0.5, \"rgb(107,174,214)\"], [0.625, \"rgb(66,146,198)\"], [0.75, \"rgb(33,113,181)\"], [0.875, \"rgb(8,81,156)\"], [1.0, \"rgb(8,48,107)\"]], \"line\": {\"color\": \"Grey\", \"width\": 0.5}, \"showscale\": false}, \"mode\": \"markers\", \"showlegend\": false, \"type\": \"scatter\", \"x\": [1, 2, 2, 2, 3, 3, 1, 2, 3, 3], \"xaxis\": \"x2\", \"y\": [0.2940945758327918, 0.6670789336792677, 0.6075977643393383, 0.6603022478036772, 0.2983449968667105, 0.6660543026272889, 0.6052030703575476, 0.6099982431811632, 0.6675251389899245, 0.6011041702983896], \"yaxis\": \"y2\"}, {\"marker\": {\"color\": [0, 1, 2, 3, 4, 5, 6, 7, 8, 9], \"colorbar\": {\"title\": {\"text\": \"#Trials\"}, \"x\": 1.0, \"xpad\": 40}, \"colorscale\": [[0.0, \"rgb(247,251,255)\"], [0.125, \"rgb(222,235,247)\"], [0.25, \"rgb(198,219,239)\"], [0.375, \"rgb(158,202,225)\"], [0.5, \"rgb(107,174,214)\"], [0.625, \"rgb(66,146,198)\"], [0.75, \"rgb(33,113,181)\"], [0.875, \"rgb(8,81,156)\"], [1.0, \"rgb(8,48,107)\"]], \"line\": {\"color\": \"Grey\", \"width\": 0.5}, \"showscale\": false}, \"mode\": \"markers\", \"showlegend\": false, \"type\": \"scatter\", \"x\": [100, 70, 70, 60, 10, 50, 60, 100, 50, 90], \"xaxis\": \"x3\", \"y\": [0.2940945758327918, 0.6670789336792677, 0.6075977643393383, 0.6603022478036772, 0.2983449968667105, 0.6660543026272889, 0.6052030703575476, 0.6099982431811632, 0.6675251389899245, 0.6011041702983896], \"yaxis\": \"y3\"}, {\"marker\": {\"color\": [1, 2, 3, 4, 5, 7, 8, 9], \"colorbar\": {\"title\": {\"text\": \"#Trials\"}, \"x\": 1.0, \"xpad\": 40}, \"colorscale\": [[0.0, \"rgb(247,251,255)\"], [0.125, \"rgb(222,235,247)\"], [0.25, \"rgb(198,219,239)\"], [0.375, \"rgb(158,202,225)\"], [0.5, \"rgb(107,174,214)\"], [0.625, \"rgb(66,146,198)\"], [0.75, \"rgb(33,113,181)\"], [0.875, \"rgb(8,81,156)\"], [1.0, \"rgb(8,48,107)\"]], \"line\": {\"color\": \"Grey\", \"width\": 0.5}, \"showscale\": false}, \"mode\": \"markers\", \"showlegend\": false, \"type\": \"scatter\", \"x\": [60, 70, 130, 70, 10, 50, 20, 140], \"xaxis\": \"x4\", \"y\": [0.6670789336792677, 0.6075977643393383, 0.6603022478036772, 0.2983449968667105, 0.6660543026272889, 0.6099982431811632, 0.6675251389899245, 0.6011041702983896], \"yaxis\": \"y4\"}, {\"marker\": {\"color\": [4, 5, 8, 9], \"colorbar\": {\"title\": {\"text\": \"#Trials\"}, \"x\": 1.0, \"xpad\": 40}, \"colorscale\": [[0.0, \"rgb(247,251,255)\"], [0.125, \"rgb(222,235,247)\"], [0.25, \"rgb(198,219,239)\"], [0.375, \"rgb(158,202,225)\"], [0.5, \"rgb(107,174,214)\"], [0.625, \"rgb(66,146,198)\"], [0.75, \"rgb(33,113,181)\"], [0.875, \"rgb(8,81,156)\"], [1.0, \"rgb(8,48,107)\"]], \"line\": {\"color\": \"Grey\", \"width\": 0.5}, \"showscale\": false}, \"mode\": \"markers\", \"showlegend\": false, \"type\": \"scatter\", \"x\": [140, 120, 20, 30], \"xaxis\": \"x5\", \"y\": [0.2983449968667105, 0.6660543026272889, 0.6675251389899245, 0.6011041702983896], \"yaxis\": \"y5\"}],\n",
              "                        {\"template\": {\"data\": {\"bar\": [{\"error_x\": {\"color\": \"#2a3f5f\"}, \"error_y\": {\"color\": \"#2a3f5f\"}, \"marker\": {\"line\": {\"color\": \"#E5ECF6\", \"width\": 0.5}}, \"type\": \"bar\"}], \"barpolar\": [{\"marker\": {\"line\": {\"color\": \"#E5ECF6\", \"width\": 0.5}}, \"type\": \"barpolar\"}], \"carpet\": [{\"aaxis\": {\"endlinecolor\": \"#2a3f5f\", \"gridcolor\": \"white\", \"linecolor\": \"white\", \"minorgridcolor\": \"white\", \"startlinecolor\": \"#2a3f5f\"}, \"baxis\": {\"endlinecolor\": \"#2a3f5f\", \"gridcolor\": \"white\", \"linecolor\": \"white\", \"minorgridcolor\": \"white\", \"startlinecolor\": \"#2a3f5f\"}, \"type\": \"carpet\"}], \"choropleth\": [{\"colorbar\": {\"outlinewidth\": 0, \"ticks\": \"\"}, \"type\": \"choropleth\"}], \"contour\": [{\"colorbar\": {\"outlinewidth\": 0, \"ticks\": \"\"}, \"colorscale\": [[0.0, \"#0d0887\"], [0.1111111111111111, \"#46039f\"], [0.2222222222222222, \"#7201a8\"], [0.3333333333333333, \"#9c179e\"], [0.4444444444444444, \"#bd3786\"], [0.5555555555555556, \"#d8576b\"], [0.6666666666666666, \"#ed7953\"], [0.7777777777777778, \"#fb9f3a\"], [0.8888888888888888, \"#fdca26\"], [1.0, \"#f0f921\"]], \"type\": \"contour\"}], \"contourcarpet\": [{\"colorbar\": {\"outlinewidth\": 0, \"ticks\": \"\"}, \"type\": \"contourcarpet\"}], \"heatmap\": [{\"colorbar\": {\"outlinewidth\": 0, \"ticks\": \"\"}, \"colorscale\": [[0.0, \"#0d0887\"], [0.1111111111111111, \"#46039f\"], [0.2222222222222222, \"#7201a8\"], [0.3333333333333333, \"#9c179e\"], [0.4444444444444444, \"#bd3786\"], [0.5555555555555556, \"#d8576b\"], [0.6666666666666666, \"#ed7953\"], [0.7777777777777778, \"#fb9f3a\"], [0.8888888888888888, \"#fdca26\"], [1.0, \"#f0f921\"]], \"type\": \"heatmap\"}], \"heatmapgl\": [{\"colorbar\": {\"outlinewidth\": 0, \"ticks\": \"\"}, \"colorscale\": [[0.0, \"#0d0887\"], [0.1111111111111111, \"#46039f\"], [0.2222222222222222, \"#7201a8\"], [0.3333333333333333, \"#9c179e\"], [0.4444444444444444, \"#bd3786\"], [0.5555555555555556, \"#d8576b\"], [0.6666666666666666, \"#ed7953\"], [0.7777777777777778, \"#fb9f3a\"], [0.8888888888888888, \"#fdca26\"], [1.0, \"#f0f921\"]], \"type\": \"heatmapgl\"}], \"histogram\": [{\"marker\": {\"colorbar\": {\"outlinewidth\": 0, \"ticks\": \"\"}}, \"type\": \"histogram\"}], \"histogram2d\": [{\"colorbar\": {\"outlinewidth\": 0, \"ticks\": \"\"}, \"colorscale\": [[0.0, \"#0d0887\"], [0.1111111111111111, \"#46039f\"], [0.2222222222222222, \"#7201a8\"], [0.3333333333333333, \"#9c179e\"], [0.4444444444444444, \"#bd3786\"], [0.5555555555555556, \"#d8576b\"], [0.6666666666666666, \"#ed7953\"], [0.7777777777777778, \"#fb9f3a\"], [0.8888888888888888, \"#fdca26\"], [1.0, \"#f0f921\"]], \"type\": \"histogram2d\"}], \"histogram2dcontour\": [{\"colorbar\": {\"outlinewidth\": 0, \"ticks\": \"\"}, \"colorscale\": [[0.0, \"#0d0887\"], [0.1111111111111111, \"#46039f\"], [0.2222222222222222, \"#7201a8\"], [0.3333333333333333, \"#9c179e\"], [0.4444444444444444, \"#bd3786\"], [0.5555555555555556, \"#d8576b\"], [0.6666666666666666, \"#ed7953\"], [0.7777777777777778, \"#fb9f3a\"], [0.8888888888888888, \"#fdca26\"], [1.0, \"#f0f921\"]], \"type\": \"histogram2dcontour\"}], \"mesh3d\": [{\"colorbar\": {\"outlinewidth\": 0, \"ticks\": \"\"}, \"type\": \"mesh3d\"}], \"parcoords\": [{\"line\": {\"colorbar\": {\"outlinewidth\": 0, \"ticks\": \"\"}}, \"type\": \"parcoords\"}], \"pie\": [{\"automargin\": true, \"type\": \"pie\"}], \"scatter\": [{\"marker\": {\"colorbar\": {\"outlinewidth\": 0, \"ticks\": \"\"}}, \"type\": \"scatter\"}], \"scatter3d\": [{\"line\": {\"colorbar\": {\"outlinewidth\": 0, \"ticks\": \"\"}}, \"marker\": {\"colorbar\": {\"outlinewidth\": 0, \"ticks\": \"\"}}, \"type\": \"scatter3d\"}], \"scattercarpet\": [{\"marker\": {\"colorbar\": {\"outlinewidth\": 0, \"ticks\": \"\"}}, \"type\": \"scattercarpet\"}], \"scattergeo\": [{\"marker\": {\"colorbar\": {\"outlinewidth\": 0, \"ticks\": \"\"}}, \"type\": \"scattergeo\"}], \"scattergl\": [{\"marker\": {\"colorbar\": {\"outlinewidth\": 0, \"ticks\": \"\"}}, \"type\": \"scattergl\"}], \"scattermapbox\": [{\"marker\": {\"colorbar\": {\"outlinewidth\": 0, \"ticks\": \"\"}}, \"type\": \"scattermapbox\"}], \"scatterpolar\": [{\"marker\": {\"colorbar\": {\"outlinewidth\": 0, \"ticks\": \"\"}}, \"type\": \"scatterpolar\"}], \"scatterpolargl\": [{\"marker\": {\"colorbar\": {\"outlinewidth\": 0, \"ticks\": \"\"}}, \"type\": \"scatterpolargl\"}], \"scatterternary\": [{\"marker\": {\"colorbar\": {\"outlinewidth\": 0, \"ticks\": \"\"}}, \"type\": \"scatterternary\"}], \"surface\": [{\"colorbar\": {\"outlinewidth\": 0, \"ticks\": \"\"}, \"colorscale\": [[0.0, \"#0d0887\"], [0.1111111111111111, \"#46039f\"], [0.2222222222222222, \"#7201a8\"], [0.3333333333333333, \"#9c179e\"], [0.4444444444444444, \"#bd3786\"], [0.5555555555555556, \"#d8576b\"], [0.6666666666666666, \"#ed7953\"], [0.7777777777777778, \"#fb9f3a\"], [0.8888888888888888, \"#fdca26\"], [1.0, \"#f0f921\"]], \"type\": \"surface\"}], \"table\": [{\"cells\": {\"fill\": {\"color\": \"#EBF0F8\"}, \"line\": {\"color\": \"white\"}}, \"header\": {\"fill\": {\"color\": \"#C8D4E3\"}, \"line\": {\"color\": \"white\"}}, \"type\": \"table\"}]}, \"layout\": {\"annotationdefaults\": {\"arrowcolor\": \"#2a3f5f\", \"arrowhead\": 0, \"arrowwidth\": 1}, \"coloraxis\": {\"colorbar\": {\"outlinewidth\": 0, \"ticks\": \"\"}}, \"colorscale\": {\"diverging\": [[0, \"#8e0152\"], [0.1, \"#c51b7d\"], [0.2, \"#de77ae\"], [0.3, \"#f1b6da\"], [0.4, \"#fde0ef\"], [0.5, \"#f7f7f7\"], [0.6, \"#e6f5d0\"], [0.7, \"#b8e186\"], [0.8, \"#7fbc41\"], [0.9, \"#4d9221\"], [1, \"#276419\"]], \"sequential\": [[0.0, \"#0d0887\"], [0.1111111111111111, \"#46039f\"], [0.2222222222222222, \"#7201a8\"], [0.3333333333333333, \"#9c179e\"], [0.4444444444444444, \"#bd3786\"], [0.5555555555555556, \"#d8576b\"], [0.6666666666666666, \"#ed7953\"], [0.7777777777777778, \"#fb9f3a\"], [0.8888888888888888, \"#fdca26\"], [1.0, \"#f0f921\"]], \"sequentialminus\": [[0.0, \"#0d0887\"], [0.1111111111111111, \"#46039f\"], [0.2222222222222222, \"#7201a8\"], [0.3333333333333333, \"#9c179e\"], [0.4444444444444444, \"#bd3786\"], [0.5555555555555556, \"#d8576b\"], [0.6666666666666666, \"#ed7953\"], [0.7777777777777778, \"#fb9f3a\"], [0.8888888888888888, \"#fdca26\"], [1.0, \"#f0f921\"]]}, \"colorway\": [\"#636efa\", \"#EF553B\", \"#00cc96\", \"#ab63fa\", \"#FFA15A\", \"#19d3f3\", \"#FF6692\", \"#B6E880\", \"#FF97FF\", \"#FECB52\"], \"font\": {\"color\": \"#2a3f5f\"}, \"geo\": {\"bgcolor\": \"white\", \"lakecolor\": \"white\", \"landcolor\": \"#E5ECF6\", \"showlakes\": true, \"showland\": true, \"subunitcolor\": \"white\"}, \"hoverlabel\": {\"align\": \"left\"}, \"hovermode\": \"closest\", \"mapbox\": {\"style\": \"light\"}, \"paper_bgcolor\": \"white\", \"plot_bgcolor\": \"#E5ECF6\", \"polar\": {\"angularaxis\": {\"gridcolor\": \"white\", \"linecolor\": \"white\", \"ticks\": \"\"}, \"bgcolor\": \"#E5ECF6\", \"radialaxis\": {\"gridcolor\": \"white\", \"linecolor\": \"white\", \"ticks\": \"\"}}, \"scene\": {\"xaxis\": {\"backgroundcolor\": \"#E5ECF6\", \"gridcolor\": \"white\", \"gridwidth\": 2, \"linecolor\": \"white\", \"showbackground\": true, \"ticks\": \"\", \"zerolinecolor\": \"white\"}, \"yaxis\": {\"backgroundcolor\": \"#E5ECF6\", \"gridcolor\": \"white\", \"gridwidth\": 2, \"linecolor\": \"white\", \"showbackground\": true, \"ticks\": \"\", \"zerolinecolor\": \"white\"}, \"zaxis\": {\"backgroundcolor\": \"#E5ECF6\", \"gridcolor\": \"white\", \"gridwidth\": 2, \"linecolor\": \"white\", \"showbackground\": true, \"ticks\": \"\", \"zerolinecolor\": \"white\"}}, \"shapedefaults\": {\"line\": {\"color\": \"#2a3f5f\"}}, \"ternary\": {\"aaxis\": {\"gridcolor\": \"white\", \"linecolor\": \"white\", \"ticks\": \"\"}, \"baxis\": {\"gridcolor\": \"white\", \"linecolor\": \"white\", \"ticks\": \"\"}, \"bgcolor\": \"#E5ECF6\", \"caxis\": {\"gridcolor\": \"white\", \"linecolor\": \"white\", \"ticks\": \"\"}}, \"title\": {\"x\": 0.05}, \"xaxis\": {\"automargin\": true, \"gridcolor\": \"white\", \"linecolor\": \"white\", \"ticks\": \"\", \"title\": {\"standoff\": 15}, \"zerolinecolor\": \"white\", \"zerolinewidth\": 2}, \"yaxis\": {\"automargin\": true, \"gridcolor\": \"white\", \"linecolor\": \"white\", \"ticks\": \"\", \"title\": {\"standoff\": 15}, \"zerolinecolor\": \"white\", \"zerolinewidth\": 2}}}, \"title\": {\"text\": \"Slice Plot\"}, \"width\": 1500, \"xaxis\": {\"anchor\": \"y\", \"domain\": [0.0, 0.16799999999999998], \"title\": {\"text\": \"n_components\"}}, \"xaxis2\": {\"anchor\": \"y2\", \"domain\": [0.208, 0.376], \"title\": {\"text\": \"n_layers\"}}, \"xaxis3\": {\"anchor\": \"y3\", \"domain\": [0.416, 0.584], \"title\": {\"text\": \"n_units_0\"}}, \"xaxis4\": {\"anchor\": \"y4\", \"domain\": [0.624, 0.792], \"title\": {\"text\": \"n_units_1\"}}, \"xaxis5\": {\"anchor\": \"y5\", \"domain\": [0.832, 1.0], \"title\": {\"text\": \"n_units_2\"}}, \"yaxis\": {\"anchor\": \"x\", \"domain\": [0.0, 1.0], \"title\": {\"text\": \"Objective Value\"}}, \"yaxis2\": {\"anchor\": \"x2\", \"domain\": [0.0, 1.0], \"matches\": \"y\", \"showticklabels\": false}, \"yaxis3\": {\"anchor\": \"x3\", \"domain\": [0.0, 1.0], \"matches\": \"y\", \"showticklabels\": false}, \"yaxis4\": {\"anchor\": \"x4\", \"domain\": [0.0, 1.0], \"matches\": \"y\", \"showticklabels\": false}, \"yaxis5\": {\"anchor\": \"x5\", \"domain\": [0.0, 1.0], \"matches\": \"y\", \"showticklabels\": false}},\n",
              "                        {\"responsive\": true}\n",
              "                    ).then(function(){\n",
              "                            \n",
              "var gd = document.getElementById('c44dddad-3a73-4a9a-962b-ca62c159fc1a');\n",
              "var x = new MutationObserver(function (mutations, observer) {{\n",
              "        var display = window.getComputedStyle(gd).display;\n",
              "        if (!display || display === 'none') {{\n",
              "            console.log([gd, 'removed!']);\n",
              "            Plotly.purge(gd);\n",
              "            observer.disconnect();\n",
              "        }}\n",
              "}});\n",
              "\n",
              "// Listen for the removal of the full notebook cells\n",
              "var notebookContainer = gd.closest('#notebook-container');\n",
              "if (notebookContainer) {{\n",
              "    x.observe(notebookContainer, {childList: true});\n",
              "}}\n",
              "\n",
              "// Listen for the clearing of the current output cell\n",
              "var outputEl = gd.closest('.output');\n",
              "if (outputEl) {{\n",
              "    x.observe(outputEl, {childList: true});\n",
              "}}\n",
              "\n",
              "                        })\n",
              "                };\n",
              "                \n",
              "            </script>\n",
              "        </div>\n",
              "</body>\n",
              "</html>"
            ]
          },
          "metadata": {}
        }
      ]
    },
    {
      "cell_type": "markdown",
      "metadata": {
        "id": "HopAdg0EFdcf"
      },
      "source": [
        "Εδώ βλέπουμε το διάγραμμα που συνδυάζει τις τιμές των υπερπαραμέτρων και την τιμή για το f1_score. Με το πιο σκούρο χρώμα φαίνεται η ευθεία που αντιστοιχεί στη βέλτιστη τιμή του f1."
      ],
      "id": "HopAdg0EFdcf"
    },
    {
      "cell_type": "code",
      "metadata": {
        "colab": {
          "base_uri": "https://localhost:8080/",
          "height": 542
        },
        "id": "fRmbUPqDFdcg",
        "outputId": "43f0d5c6-e79a-4c58-fb7a-8bbd1a642cfc"
      },
      "source": [
        "optuna.visualization.plot_parallel_coordinate(study)"
      ],
      "id": "fRmbUPqDFdcg",
      "execution_count": null,
      "outputs": [
        {
          "output_type": "display_data",
          "data": {
            "text/html": [
              "<html>\n",
              "<head><meta charset=\"utf-8\" /></head>\n",
              "<body>\n",
              "    <div>\n",
              "            <script src=\"https://cdnjs.cloudflare.com/ajax/libs/mathjax/2.7.5/MathJax.js?config=TeX-AMS-MML_SVG\"></script><script type=\"text/javascript\">if (window.MathJax) {MathJax.Hub.Config({SVG: {font: \"STIX-Web\"}});}</script>\n",
              "                <script type=\"text/javascript\">window.PlotlyConfig = {MathJaxConfig: 'local'};</script>\n",
              "        <script src=\"https://cdn.plot.ly/plotly-latest.min.js\"></script>    \n",
              "            <div id=\"bab2c1c1-ff91-473a-a7f2-425e45dc63ce\" class=\"plotly-graph-div\" style=\"height:525px; width:100%;\"></div>\n",
              "            <script type=\"text/javascript\">\n",
              "                \n",
              "                    window.PLOTLYENV=window.PLOTLYENV || {};\n",
              "                    \n",
              "                if (document.getElementById(\"bab2c1c1-ff91-473a-a7f2-425e45dc63ce\")) {\n",
              "                    Plotly.newPlot(\n",
              "                        'bab2c1c1-ff91-473a-a7f2-425e45dc63ce',\n",
              "                        [{\"dimensions\": [{\"label\": \"Objective Value\", \"range\": [0.2940945758327918, 0.6675251389899245], \"values\": [0.2940945758327918, 0.6670789336792677, 0.6075977643393383, 0.6603022478036772, 0.2983449968667105, 0.6660543026272889, 0.6052030703575476, 0.6099982431811632, 0.6675251389899245, 0.6011041702983896]}, {\"label\": \"n_components\", \"range\": [2, 10], \"values\": [2, 10, 6, 10, 2, 10, 6, 6, 10, 6]}, {\"label\": \"n_layers\", \"range\": [1, 3], \"values\": [1, 2, 2, 2, 3, 3, 1, 2, 3, 3]}, {\"label\": \"n_units_0\", \"range\": [10, 100], \"values\": [100, 70, 70, 60, 10, 50, 60, 100, 50, 90]}, {\"label\": \"n_units_1\", \"range\": [10, 140], \"values\": [60, 70, 130, 70, 10, 50, 20, 140]}, {\"label\": \"n_units_2\", \"range\": [20, 140], \"values\": [140, 120, 20, 30]}], \"labelangle\": 30, \"labelside\": \"bottom\", \"line\": {\"color\": [0.2940945758327918, 0.6670789336792677, 0.6075977643393383, 0.6603022478036772, 0.2983449968667105, 0.6660543026272889, 0.6052030703575476, 0.6099982431811632, 0.6675251389899245, 0.6011041702983896], \"colorbar\": {\"title\": {\"text\": \"Objective Value\"}}, \"colorscale\": [[0.0, \"rgb(247,251,255)\"], [0.125, \"rgb(222,235,247)\"], [0.25, \"rgb(198,219,239)\"], [0.375, \"rgb(158,202,225)\"], [0.5, \"rgb(107,174,214)\"], [0.625, \"rgb(66,146,198)\"], [0.75, \"rgb(33,113,181)\"], [0.875, \"rgb(8,81,156)\"], [1.0, \"rgb(8,48,107)\"]], \"reversescale\": false, \"showscale\": true}, \"type\": \"parcoords\"}],\n",
              "                        {\"template\": {\"data\": {\"bar\": [{\"error_x\": {\"color\": \"#2a3f5f\"}, \"error_y\": {\"color\": \"#2a3f5f\"}, \"marker\": {\"line\": {\"color\": \"#E5ECF6\", \"width\": 0.5}}, \"type\": \"bar\"}], \"barpolar\": [{\"marker\": {\"line\": {\"color\": \"#E5ECF6\", \"width\": 0.5}}, \"type\": \"barpolar\"}], \"carpet\": [{\"aaxis\": {\"endlinecolor\": \"#2a3f5f\", \"gridcolor\": \"white\", \"linecolor\": \"white\", \"minorgridcolor\": \"white\", \"startlinecolor\": \"#2a3f5f\"}, \"baxis\": {\"endlinecolor\": \"#2a3f5f\", \"gridcolor\": \"white\", \"linecolor\": \"white\", \"minorgridcolor\": \"white\", \"startlinecolor\": \"#2a3f5f\"}, \"type\": \"carpet\"}], \"choropleth\": [{\"colorbar\": {\"outlinewidth\": 0, \"ticks\": \"\"}, \"type\": \"choropleth\"}], \"contour\": [{\"colorbar\": {\"outlinewidth\": 0, \"ticks\": \"\"}, \"colorscale\": [[0.0, \"#0d0887\"], [0.1111111111111111, \"#46039f\"], [0.2222222222222222, \"#7201a8\"], [0.3333333333333333, \"#9c179e\"], [0.4444444444444444, \"#bd3786\"], [0.5555555555555556, \"#d8576b\"], [0.6666666666666666, \"#ed7953\"], [0.7777777777777778, \"#fb9f3a\"], [0.8888888888888888, \"#fdca26\"], [1.0, \"#f0f921\"]], \"type\": \"contour\"}], \"contourcarpet\": [{\"colorbar\": {\"outlinewidth\": 0, \"ticks\": \"\"}, \"type\": \"contourcarpet\"}], \"heatmap\": [{\"colorbar\": {\"outlinewidth\": 0, \"ticks\": \"\"}, \"colorscale\": [[0.0, \"#0d0887\"], [0.1111111111111111, \"#46039f\"], [0.2222222222222222, \"#7201a8\"], [0.3333333333333333, \"#9c179e\"], [0.4444444444444444, \"#bd3786\"], [0.5555555555555556, \"#d8576b\"], [0.6666666666666666, \"#ed7953\"], [0.7777777777777778, \"#fb9f3a\"], [0.8888888888888888, \"#fdca26\"], [1.0, \"#f0f921\"]], \"type\": \"heatmap\"}], \"heatmapgl\": [{\"colorbar\": {\"outlinewidth\": 0, \"ticks\": \"\"}, \"colorscale\": [[0.0, \"#0d0887\"], [0.1111111111111111, \"#46039f\"], [0.2222222222222222, \"#7201a8\"], [0.3333333333333333, \"#9c179e\"], [0.4444444444444444, \"#bd3786\"], [0.5555555555555556, \"#d8576b\"], [0.6666666666666666, \"#ed7953\"], [0.7777777777777778, \"#fb9f3a\"], [0.8888888888888888, \"#fdca26\"], [1.0, \"#f0f921\"]], \"type\": \"heatmapgl\"}], \"histogram\": [{\"marker\": {\"colorbar\": {\"outlinewidth\": 0, \"ticks\": \"\"}}, \"type\": \"histogram\"}], \"histogram2d\": [{\"colorbar\": {\"outlinewidth\": 0, \"ticks\": \"\"}, \"colorscale\": [[0.0, \"#0d0887\"], [0.1111111111111111, \"#46039f\"], [0.2222222222222222, \"#7201a8\"], [0.3333333333333333, \"#9c179e\"], [0.4444444444444444, \"#bd3786\"], [0.5555555555555556, \"#d8576b\"], [0.6666666666666666, \"#ed7953\"], [0.7777777777777778, \"#fb9f3a\"], [0.8888888888888888, \"#fdca26\"], [1.0, \"#f0f921\"]], \"type\": \"histogram2d\"}], \"histogram2dcontour\": [{\"colorbar\": {\"outlinewidth\": 0, \"ticks\": \"\"}, \"colorscale\": [[0.0, \"#0d0887\"], [0.1111111111111111, \"#46039f\"], [0.2222222222222222, \"#7201a8\"], [0.3333333333333333, \"#9c179e\"], [0.4444444444444444, \"#bd3786\"], [0.5555555555555556, \"#d8576b\"], [0.6666666666666666, \"#ed7953\"], [0.7777777777777778, \"#fb9f3a\"], [0.8888888888888888, \"#fdca26\"], [1.0, \"#f0f921\"]], \"type\": \"histogram2dcontour\"}], \"mesh3d\": [{\"colorbar\": {\"outlinewidth\": 0, \"ticks\": \"\"}, \"type\": \"mesh3d\"}], \"parcoords\": [{\"line\": {\"colorbar\": {\"outlinewidth\": 0, \"ticks\": \"\"}}, \"type\": \"parcoords\"}], \"pie\": [{\"automargin\": true, \"type\": \"pie\"}], \"scatter\": [{\"marker\": {\"colorbar\": {\"outlinewidth\": 0, \"ticks\": \"\"}}, \"type\": \"scatter\"}], \"scatter3d\": [{\"line\": {\"colorbar\": {\"outlinewidth\": 0, \"ticks\": \"\"}}, \"marker\": {\"colorbar\": {\"outlinewidth\": 0, \"ticks\": \"\"}}, \"type\": \"scatter3d\"}], \"scattercarpet\": [{\"marker\": {\"colorbar\": {\"outlinewidth\": 0, \"ticks\": \"\"}}, \"type\": \"scattercarpet\"}], \"scattergeo\": [{\"marker\": {\"colorbar\": {\"outlinewidth\": 0, \"ticks\": \"\"}}, \"type\": \"scattergeo\"}], \"scattergl\": [{\"marker\": {\"colorbar\": {\"outlinewidth\": 0, \"ticks\": \"\"}}, \"type\": \"scattergl\"}], \"scattermapbox\": [{\"marker\": {\"colorbar\": {\"outlinewidth\": 0, \"ticks\": \"\"}}, \"type\": \"scattermapbox\"}], \"scatterpolar\": [{\"marker\": {\"colorbar\": {\"outlinewidth\": 0, \"ticks\": \"\"}}, \"type\": \"scatterpolar\"}], \"scatterpolargl\": [{\"marker\": {\"colorbar\": {\"outlinewidth\": 0, \"ticks\": \"\"}}, \"type\": \"scatterpolargl\"}], \"scatterternary\": [{\"marker\": {\"colorbar\": {\"outlinewidth\": 0, \"ticks\": \"\"}}, \"type\": \"scatterternary\"}], \"surface\": [{\"colorbar\": {\"outlinewidth\": 0, \"ticks\": \"\"}, \"colorscale\": [[0.0, \"#0d0887\"], [0.1111111111111111, \"#46039f\"], [0.2222222222222222, \"#7201a8\"], [0.3333333333333333, \"#9c179e\"], [0.4444444444444444, \"#bd3786\"], [0.5555555555555556, \"#d8576b\"], [0.6666666666666666, \"#ed7953\"], [0.7777777777777778, \"#fb9f3a\"], [0.8888888888888888, \"#fdca26\"], [1.0, \"#f0f921\"]], \"type\": \"surface\"}], \"table\": [{\"cells\": {\"fill\": {\"color\": \"#EBF0F8\"}, \"line\": {\"color\": \"white\"}}, \"header\": {\"fill\": {\"color\": \"#C8D4E3\"}, \"line\": {\"color\": \"white\"}}, \"type\": \"table\"}]}, \"layout\": {\"annotationdefaults\": {\"arrowcolor\": \"#2a3f5f\", \"arrowhead\": 0, \"arrowwidth\": 1}, \"coloraxis\": {\"colorbar\": {\"outlinewidth\": 0, \"ticks\": \"\"}}, \"colorscale\": {\"diverging\": [[0, \"#8e0152\"], [0.1, \"#c51b7d\"], [0.2, \"#de77ae\"], [0.3, \"#f1b6da\"], [0.4, \"#fde0ef\"], [0.5, \"#f7f7f7\"], [0.6, \"#e6f5d0\"], [0.7, \"#b8e186\"], [0.8, \"#7fbc41\"], [0.9, \"#4d9221\"], [1, \"#276419\"]], \"sequential\": [[0.0, \"#0d0887\"], [0.1111111111111111, \"#46039f\"], [0.2222222222222222, \"#7201a8\"], [0.3333333333333333, \"#9c179e\"], [0.4444444444444444, \"#bd3786\"], [0.5555555555555556, \"#d8576b\"], [0.6666666666666666, \"#ed7953\"], [0.7777777777777778, \"#fb9f3a\"], [0.8888888888888888, \"#fdca26\"], [1.0, \"#f0f921\"]], \"sequentialminus\": [[0.0, \"#0d0887\"], [0.1111111111111111, \"#46039f\"], [0.2222222222222222, \"#7201a8\"], [0.3333333333333333, \"#9c179e\"], [0.4444444444444444, \"#bd3786\"], [0.5555555555555556, \"#d8576b\"], [0.6666666666666666, \"#ed7953\"], [0.7777777777777778, \"#fb9f3a\"], [0.8888888888888888, \"#fdca26\"], [1.0, \"#f0f921\"]]}, \"colorway\": [\"#636efa\", \"#EF553B\", \"#00cc96\", \"#ab63fa\", \"#FFA15A\", \"#19d3f3\", \"#FF6692\", \"#B6E880\", \"#FF97FF\", \"#FECB52\"], \"font\": {\"color\": \"#2a3f5f\"}, \"geo\": {\"bgcolor\": \"white\", \"lakecolor\": \"white\", \"landcolor\": \"#E5ECF6\", \"showlakes\": true, \"showland\": true, \"subunitcolor\": \"white\"}, \"hoverlabel\": {\"align\": \"left\"}, \"hovermode\": \"closest\", \"mapbox\": {\"style\": \"light\"}, \"paper_bgcolor\": \"white\", \"plot_bgcolor\": \"#E5ECF6\", \"polar\": {\"angularaxis\": {\"gridcolor\": \"white\", \"linecolor\": \"white\", \"ticks\": \"\"}, \"bgcolor\": \"#E5ECF6\", \"radialaxis\": {\"gridcolor\": \"white\", \"linecolor\": \"white\", \"ticks\": \"\"}}, \"scene\": {\"xaxis\": {\"backgroundcolor\": \"#E5ECF6\", \"gridcolor\": \"white\", \"gridwidth\": 2, \"linecolor\": \"white\", \"showbackground\": true, \"ticks\": \"\", \"zerolinecolor\": \"white\"}, \"yaxis\": {\"backgroundcolor\": \"#E5ECF6\", \"gridcolor\": \"white\", \"gridwidth\": 2, \"linecolor\": \"white\", \"showbackground\": true, \"ticks\": \"\", \"zerolinecolor\": \"white\"}, \"zaxis\": {\"backgroundcolor\": \"#E5ECF6\", \"gridcolor\": \"white\", \"gridwidth\": 2, \"linecolor\": \"white\", \"showbackground\": true, \"ticks\": \"\", \"zerolinecolor\": \"white\"}}, \"shapedefaults\": {\"line\": {\"color\": \"#2a3f5f\"}}, \"ternary\": {\"aaxis\": {\"gridcolor\": \"white\", \"linecolor\": \"white\", \"ticks\": \"\"}, \"baxis\": {\"gridcolor\": \"white\", \"linecolor\": \"white\", \"ticks\": \"\"}, \"bgcolor\": \"#E5ECF6\", \"caxis\": {\"gridcolor\": \"white\", \"linecolor\": \"white\", \"ticks\": \"\"}}, \"title\": {\"x\": 0.05}, \"xaxis\": {\"automargin\": true, \"gridcolor\": \"white\", \"linecolor\": \"white\", \"ticks\": \"\", \"title\": {\"standoff\": 15}, \"zerolinecolor\": \"white\", \"zerolinewidth\": 2}, \"yaxis\": {\"automargin\": true, \"gridcolor\": \"white\", \"linecolor\": \"white\", \"ticks\": \"\", \"title\": {\"standoff\": 15}, \"zerolinecolor\": \"white\", \"zerolinewidth\": 2}}}, \"title\": {\"text\": \"Parallel Coordinate Plot\"}},\n",
              "                        {\"responsive\": true}\n",
              "                    ).then(function(){\n",
              "                            \n",
              "var gd = document.getElementById('bab2c1c1-ff91-473a-a7f2-425e45dc63ce');\n",
              "var x = new MutationObserver(function (mutations, observer) {{\n",
              "        var display = window.getComputedStyle(gd).display;\n",
              "        if (!display || display === 'none') {{\n",
              "            console.log([gd, 'removed!']);\n",
              "            Plotly.purge(gd);\n",
              "            observer.disconnect();\n",
              "        }}\n",
              "}});\n",
              "\n",
              "// Listen for the removal of the full notebook cells\n",
              "var notebookContainer = gd.closest('#notebook-container');\n",
              "if (notebookContainer) {{\n",
              "    x.observe(notebookContainer, {childList: true});\n",
              "}}\n",
              "\n",
              "// Listen for the clearing of the current output cell\n",
              "var outputEl = gd.closest('.output');\n",
              "if (outputEl) {{\n",
              "    x.observe(outputEl, {childList: true});\n",
              "}}\n",
              "\n",
              "                        })\n",
              "                };\n",
              "                \n",
              "            </script>\n",
              "        </div>\n",
              "</body>\n",
              "</html>"
            ]
          },
          "metadata": {}
        }
      ]
    },
    {
      "cell_type": "markdown",
      "metadata": {
        "id": "eJ8i_LXdIG7B"
      },
      "source": [
        "###### Επιδόσεις καλύτερου μοντέλου MLP στο test set"
      ],
      "id": "eJ8i_LXdIG7B"
    },
    {
      "cell_type": "markdown",
      "metadata": {
        "id": "Sdy8jkWHPQEG"
      },
      "source": [
        "###### Εντοπίζω τις επιδόσεις"
      ],
      "id": "Sdy8jkWHPQEG"
    },
    {
      "cell_type": "markdown",
      "metadata": {
        "id": "koxIxbytIG7B"
      },
      "source": [
        "* Χρησιμοποιούμε το dictionary `study.best_params` για να εντοπίσουμε τις προβλέψεις του καλύτερου μοντέλου SVM από το σύνολο των προβλέψεων `predictions` και να το αξιολογήσουμε στο test set, αυτή τη φορά υπολογίζοντας όλες τις μετρικές."
      ],
      "id": "koxIxbytIG7B"
    },
    {
      "cell_type": "code",
      "metadata": {
        "colab": {
          "base_uri": "https://localhost:8080/"
        },
        "id": "oVWW7C9aLwKq",
        "outputId": "9f9a8cad-15ce-421b-d473-b13c376ebc31"
      },
      "source": [
        "# pretty print with sep='\\n'\n",
        "for pred in predictions:\n",
        "  print(pred)"
      ],
      "id": "oVWW7C9aLwKq",
      "execution_count": null,
      "outputs": [
        {
          "output_type": "stream",
          "name": "stdout",
          "text": [
            "{'n_components': 2, 'hidden_layer_sizes': (100,), 'preds': array([1, 1, 2, ..., 1, 2, 1])}\n",
            "{'n_components': 10, 'hidden_layer_sizes': (70, 60), 'preds': array([2, 1, 0, ..., 1, 2, 1])}\n",
            "{'n_components': 6, 'hidden_layer_sizes': (70, 70), 'preds': array([2, 2, 0, ..., 1, 1, 1])}\n",
            "{'n_components': 10, 'hidden_layer_sizes': (60, 130), 'preds': array([2, 1, 0, ..., 1, 1, 1])}\n",
            "{'n_components': 2, 'hidden_layer_sizes': (10, 70, 140), 'preds': array([1, 1, 2, ..., 1, 2, 1])}\n",
            "{'n_components': 10, 'hidden_layer_sizes': (50, 10, 120), 'preds': array([2, 1, 0, ..., 1, 1, 1])}\n",
            "{'n_components': 6, 'hidden_layer_sizes': (60,), 'preds': array([2, 2, 0, ..., 1, 2, 1])}\n",
            "{'n_components': 6, 'hidden_layer_sizes': (100, 50), 'preds': array([2, 2, 0, ..., 1, 2, 1])}\n",
            "{'n_components': 10, 'hidden_layer_sizes': (50, 20, 20), 'preds': array([2, 1, 0, ..., 1, 1, 1])}\n",
            "{'n_components': 6, 'hidden_layer_sizes': (90, 140, 30), 'preds': array([2, 2, 0, ..., 1, 2, 1])}\n"
          ]
        }
      ]
    },
    {
      "cell_type": "code",
      "metadata": {
        "colab": {
          "base_uri": "https://localhost:8080/"
        },
        "id": "wRaul4-bK5yI",
        "outputId": "6760fd8b-0fc3-4fa7-d152-7c62acae43f2"
      },
      "source": [
        "from sklearn.metrics import accuracy_score\n",
        "from sklearn.metrics import recall_score\n",
        "\n",
        "best_predictions = None\n",
        "best_n_components = study.best_params['n_components']\n",
        "\n",
        "best_units_tuple = None\n",
        "best_n_units_0 = study.best_params['n_units_0']\n",
        "best_n_units_1 = study.best_params.get('n_units_1')\n",
        "best_n_units_2 = study.best_params.get('n_units_2')\n",
        "if best_n_units_1:\n",
        "  if best_n_units_2:\n",
        "    best_units_tuple = (best_n_units_0, best_n_units_1, best_n_units_2)\n",
        "  else:\n",
        "     best_units_tuple = (best_n_units_0, best_n_units_1)\n",
        "else:\n",
        "     best_units_tuple = (best_n_units_0)\n",
        "\n",
        "for pred_object in predictions:\n",
        "  if pred_object['n_components']==best_n_components and pred_object['hidden_layer_sizes']==best_units_tuple:\n",
        "    best_predictions = pred_object['preds']\n",
        "    break\n",
        "\n",
        "best_accuracies['MLP'] = round(accuracy_score(Y_test, best_predictions), 3)\n",
        "best_f1s['MLP'] = round(f1_score(Y_test, best_predictions, average='macro'), 3)\n",
        "best_recalls['MLP'] = round(recall_score(Y_test, best_predictions, average='macro'), 3) \n",
        "\n",
        "print('MLP best scores:')\n",
        "print(\"Accuracy:\", best_accuracies['MLP'])\n",
        "print(\"F1:\", best_f1s['MLP'])\n",
        "print(\"Recall:\", best_recalls['MLP'])\n",
        "\n"
      ],
      "id": "wRaul4-bK5yI",
      "execution_count": null,
      "outputs": [
        {
          "output_type": "stream",
          "name": "stdout",
          "text": [
            "MLP best scores:\n",
            "Accuracy: 0.683\n",
            "F1: 0.668\n",
            "Recall: 0.651\n"
          ]
        }
      ]
    },
    {
      "cell_type": "markdown",
      "metadata": {
        "id": "AJSU7zW9T-AS"
      },
      "source": [
        "###### Σχεδιάζω τον πίνακα σύγχυσης"
      ],
      "id": "AJSU7zW9T-AS"
    },
    {
      "cell_type": "code",
      "metadata": {
        "colab": {
          "base_uri": "https://localhost:8080/",
          "height": 302
        },
        "id": "wImTqKTFUCPG",
        "outputId": "89b5e17b-54a6-4896-9da3-c08969194683"
      },
      "source": [
        "from sklearn.metrics import confusion_matrix\n",
        "import seaborn as sns; sns.set()\n",
        "print(f\"MLP:\")\n",
        "mat = confusion_matrix(Y_test , best_predictions)\n",
        "sns.heatmap(mat.T, square=True, annot=True, fmt='d', cbar=False)\n",
        "plt.xlabel('true label')\n",
        "plt.ylabel('predicted label');"
      ],
      "id": "wImTqKTFUCPG",
      "execution_count": null,
      "outputs": [
        {
          "output_type": "stream",
          "name": "stdout",
          "text": [
            "MLP:\n"
          ]
        },
        {
          "output_type": "display_data",
          "data": {
            "image/png": "[encoded data removed]",
            "text/plain": [
              "<Figure size 432x288 with 1 Axes>"
            ]
          },
          "metadata": {}
        }
      ]
    },
    {
      "cell_type": "markdown",
      "metadata": {
        "id": "qA1VtHl43VIx"
      },
      "source": [
        "##### Με αναζήτηση πλέγματος με διασταυρούμενη επικύρωση"
      ],
      "id": "qA1VtHl43VIx"
    },
    {
      "cell_type": "markdown",
      "metadata": {
        "id": "7VWhev-GJRDs"
      },
      "source": [
        "**Παρατήρηση:** Eπειδή παρατηρήσαμε μεγάλους χρόνους εκτέλεσης επιλέξαμε συγκεκριμένους συνδυασμούς για την εξερεύνηση της παραμέτρου *hidden_layer_sizes* - οι οποίοι ανήκουν στους βέλτιστους συνδυασμούς για το ερώτημα με τα pipelines."
      ],
      "id": "7VWhev-GJRDs"
    },
    {
      "cell_type": "code",
      "metadata": {
        "colab": {
          "base_uri": "https://localhost:8080/"
        },
        "id": "5WaSGGki3VI1",
        "outputId": "d5fbd568-5a22-427e-c8cf-76669c977a67"
      },
      "source": [
        "import optuna\n",
        "from sklearn.model_selection import GridSearchCV\n",
        "from sklearn.preprocessing import StandardScaler\n",
        "from sklearn.decomposition import PCA\n",
        "from sklearn.svm import SVC\n",
        "from sklearn.metrics import f1_score\n",
        "from sklearn.model_selection import cross_val_score\n",
        "from sklearn.neural_network import MLPClassifier\n",
        "\n",
        "#using best combinations found in pipeline optimisation\n",
        "layers = [(70, 60),(70, 70),(10,70,140),(50, 10, 120),(50, 20, 20),(90, 140, 30)]\n",
        "\n",
        "param_distributions = {\n",
        "  \"hidden_layer_sizes\":optuna.distributions.CategoricalDistribution(layers)\n",
        "}\n",
        "\n",
        "mlp = MLPClassifier()\n",
        "optuna_search = optuna.integration.OptunaSearchCV(mlp, param_distributions, cv=10, n_trials = 4, refit=True)\n",
        "optuna_search.fit(new_X_train_df, Y_train.ravel())\n",
        "preds_mlp_cv = optuna_search.predict(new_X_test_df)"
      ],
      "id": "5WaSGGki3VI1",
      "execution_count": null,
      "outputs": [
        {
          "output_type": "stream",
          "name": "stderr",
          "text": [
            "/usr/local/lib/python3.7/dist-packages/optuna/distributions.py:427: UserWarning:\n",
            "\n",
            "Choices for a categorical distribution should be a tuple of None, bool, int, float and str for persistent storage but contains (70, 60) which is of type tuple.\n",
            "\n",
            "/usr/local/lib/python3.7/dist-packages/optuna/distributions.py:427: UserWarning:\n",
            "\n",
            "Choices for a categorical distribution should be a tuple of None, bool, int, float and str for persistent storage but contains (70, 70) which is of type tuple.\n",
            "\n",
            "/usr/local/lib/python3.7/dist-packages/optuna/distributions.py:427: UserWarning:\n",
            "\n",
            "Choices for a categorical distribution should be a tuple of None, bool, int, float and str for persistent storage but contains (10, 70, 140) which is of type tuple.\n",
            "\n",
            "/usr/local/lib/python3.7/dist-packages/optuna/distributions.py:427: UserWarning:\n",
            "\n",
            "Choices for a categorical distribution should be a tuple of None, bool, int, float and str for persistent storage but contains (50, 10, 120) which is of type tuple.\n",
            "\n",
            "/usr/local/lib/python3.7/dist-packages/optuna/distributions.py:427: UserWarning:\n",
            "\n",
            "Choices for a categorical distribution should be a tuple of None, bool, int, float and str for persistent storage but contains (50, 20, 20) which is of type tuple.\n",
            "\n",
            "/usr/local/lib/python3.7/dist-packages/optuna/distributions.py:427: UserWarning:\n",
            "\n",
            "Choices for a categorical distribution should be a tuple of None, bool, int, float and str for persistent storage but contains (90, 140, 30) which is of type tuple.\n",
            "\n",
            "/usr/local/lib/python3.7/dist-packages/ipykernel_launcher.py:18: ExperimentalWarning:\n",
            "\n",
            "OptunaSearchCV is experimental (supported from v0.17.0). The interface can change in the future.\n",
            "\n",
            "\u001b[32m[I 2021-12-03 16:22:56,105]\u001b[0m A new study created in memory with name: no-name-20c59649-c8d3-4f99-b85c-a2f080824285\u001b[0m\n",
            "/usr/local/lib/python3.7/dist-packages/sklearn/neural_network/_multilayer_perceptron.py:696: ConvergenceWarning:\n",
            "\n",
            "Stochastic Optimizer: Maximum iterations (200) reached and the optimization hasn't converged yet.\n",
            "\n",
            "/usr/local/lib/python3.7/dist-packages/sklearn/neural_network/_multilayer_perceptron.py:696: ConvergenceWarning:\n",
            "\n",
            "Stochastic Optimizer: Maximum iterations (200) reached and the optimization hasn't converged yet.\n",
            "\n",
            "/usr/local/lib/python3.7/dist-packages/sklearn/neural_network/_multilayer_perceptron.py:696: ConvergenceWarning:\n",
            "\n",
            "Stochastic Optimizer: Maximum iterations (200) reached and the optimization hasn't converged yet.\n",
            "\n",
            "/usr/local/lib/python3.7/dist-packages/sklearn/neural_network/_multilayer_perceptron.py:696: ConvergenceWarning:\n",
            "\n",
            "Stochastic Optimizer: Maximum iterations (200) reached and the optimization hasn't converged yet.\n",
            "\n",
            "/usr/local/lib/python3.7/dist-packages/sklearn/neural_network/_multilayer_perceptron.py:696: ConvergenceWarning:\n",
            "\n",
            "Stochastic Optimizer: Maximum iterations (200) reached and the optimization hasn't converged yet.\n",
            "\n",
            "/usr/local/lib/python3.7/dist-packages/sklearn/neural_network/_multilayer_perceptron.py:696: ConvergenceWarning:\n",
            "\n",
            "Stochastic Optimizer: Maximum iterations (200) reached and the optimization hasn't converged yet.\n",
            "\n",
            "/usr/local/lib/python3.7/dist-packages/sklearn/neural_network/_multilayer_perceptron.py:696: ConvergenceWarning:\n",
            "\n",
            "Stochastic Optimizer: Maximum iterations (200) reached and the optimization hasn't converged yet.\n",
            "\n",
            "/usr/local/lib/python3.7/dist-packages/sklearn/neural_network/_multilayer_perceptron.py:696: ConvergenceWarning:\n",
            "\n",
            "Stochastic Optimizer: Maximum iterations (200) reached and the optimization hasn't converged yet.\n",
            "\n"
          ]
        }
      ]
    },
    {
      "cell_type": "markdown",
      "metadata": {
        "id": "pnxejFzt3VI2"
      },
      "source": [
        "Τελικά οι καλυτέροι υπερπαράμετροι για την ταξινόμηση με MLP με cross_validation είναι:"
      ],
      "id": "pnxejFzt3VI2"
    },
    {
      "cell_type": "code",
      "metadata": {
        "colab": {
          "base_uri": "https://localhost:8080/",
          "height": 165
        },
        "id": "J1BOE98hE-ZZ",
        "outputId": "6b891e69-565f-4896-d080-d4951779f6a0"
      },
      "source": [
        "optuna_search.study_.best_params"
      ],
      "id": "J1BOE98hE-ZZ",
      "execution_count": null,
      "outputs": [
        {
          "output_type": "error",
          "ename": "NameError",
          "evalue": "ignored",
          "traceback": [
            "\u001b[0;31m---------------------------------------------------------------------------\u001b[0m",
            "\u001b[0;31mNameError\u001b[0m                                 Traceback (most recent call last)",
            "\u001b[0;32m<ipython-input-1-e78e9cbbbb38>\u001b[0m in \u001b[0;36m<module>\u001b[0;34m()\u001b[0m\n\u001b[0;32m----> 1\u001b[0;31m \u001b[0moptuna_search\u001b[0m\u001b[0;34m.\u001b[0m\u001b[0mstudy_\u001b[0m\u001b[0;34m.\u001b[0m\u001b[0mbest_params\u001b[0m\u001b[0;34m\u001b[0m\u001b[0;34m\u001b[0m\u001b[0m\n\u001b[0m",
            "\u001b[0;31mNameError\u001b[0m: name 'optuna_search' is not defined"
          ]
        }
      ]
    },
    {
      "cell_type": "markdown",
      "metadata": {
        "id": "-X3J5ZUVE-Za"
      },
      "source": [
        "Στα παρακάτω διαγράμματα βλέπουμε ένα διάγραμμα για κάθε υπερπαράμετρο που δοκιμάστηκε , και με πιο σκούρο χρώμα τις υπερπαραμέτρους που οδήγησαν στη βέλτιστη επίδοση."
      ],
      "id": "-X3J5ZUVE-Za"
    },
    {
      "cell_type": "code",
      "metadata": {
        "colab": {
          "base_uri": "https://localhost:8080/",
          "height": 562
        },
        "id": "ksHqxnqjE-Za",
        "outputId": "724850ee-31c5-4edc-bbed-9ab10b7e6189"
      },
      "source": [
        "optuna.visualization.plot_slice(optuna_search.study_)"
      ],
      "id": "ksHqxnqjE-Za",
      "execution_count": null,
      "outputs": [
        {
          "output_type": "display_data",
          "data": {
            "text/html": [
              "<html>\n",
              "<head><meta charset=\"utf-8\" /></head>\n",
              "<body>\n",
              "    <div>\n",
              "            <script src=\"https://cdnjs.cloudflare.com/ajax/libs/mathjax/2.7.5/MathJax.js?config=TeX-AMS-MML_SVG\"></script><script type=\"text/javascript\">if (window.MathJax) {MathJax.Hub.Config({SVG: {font: \"STIX-Web\"}});}</script>\n",
              "                <script type=\"text/javascript\">window.PlotlyConfig = {MathJaxConfig: 'local'};</script>\n",
              "        <script src=\"https://cdn.plot.ly/plotly-latest.min.js\"></script>    \n",
              "            <div id=\"1d17b60e-9ed1-4066-8468-2ee4de77c531\" class=\"plotly-graph-div\" style=\"height:525px; width:1500px;\"></div>\n",
              "            <script type=\"text/javascript\">\n",
              "                \n",
              "                    window.PLOTLYENV=window.PLOTLYENV || {};\n",
              "                    \n",
              "                if (document.getElementById(\"1d17b60e-9ed1-4066-8468-2ee4de77c531\")) {\n",
              "                    Plotly.newPlot(\n",
              "                        '1d17b60e-9ed1-4066-8468-2ee4de77c531',\n",
              "                        [{\"marker\": {\"color\": [0, 1, 2, 3], \"colorbar\": {\"title\": {\"text\": \"#Trials\"}, \"x\": 1.0, \"xpad\": 40}, \"colorscale\": [[0.0, \"rgb(247,251,255)\"], [0.125, \"rgb(222,235,247)\"], [0.25, \"rgb(198,219,239)\"], [0.375, \"rgb(158,202,225)\"], [0.5, \"rgb(107,174,214)\"], [0.625, \"rgb(66,146,198)\"], [0.75, \"rgb(33,113,181)\"], [0.875, \"rgb(8,81,156)\"], [1.0, \"rgb(8,48,107)\"]], \"line\": {\"color\": \"Grey\", \"width\": 0.5}, \"showscale\": true}, \"mode\": \"markers\", \"showlegend\": false, \"type\": \"scatter\", \"x\": [1.204552851257661, 0.20796091832380836, 0.5103197999781499, 0.32060168355070784], \"xaxis\": \"x\", \"y\": [0.4310638160275016, 0.6600886858013236, 0.5508205656652657, 0.5625411524902337], \"yaxis\": \"y\"}, {\"marker\": {\"color\": [0, 1, 2, 3], \"colorbar\": {\"title\": {\"text\": \"#Trials\"}, \"x\": 1.0, \"xpad\": 40}, \"colorscale\": [[0.0, \"rgb(247,251,255)\"], [0.125, \"rgb(222,235,247)\"], [0.25, \"rgb(198,219,239)\"], [0.375, \"rgb(158,202,225)\"], [0.5, \"rgb(107,174,214)\"], [0.625, \"rgb(66,146,198)\"], [0.75, \"rgb(33,113,181)\"], [0.875, \"rgb(8,81,156)\"], [1.0, \"rgb(8,48,107)\"]], \"line\": {\"color\": \"Grey\", \"width\": 0.5}, \"showscale\": false}, \"mode\": \"markers\", \"showlegend\": false, \"type\": \"scatter\", \"x\": [2, 1, 1, 1], \"xaxis\": \"x2\", \"y\": [0.4310638160275016, 0.6600886858013236, 0.5508205656652657, 0.5625411524902337], \"yaxis\": \"y2\"}, {\"marker\": {\"color\": [0, 1, 2, 3], \"colorbar\": {\"title\": {\"text\": \"#Trials\"}, \"x\": 1.0, \"xpad\": 40}, \"colorscale\": [[0.0, \"rgb(247,251,255)\"], [0.125, \"rgb(222,235,247)\"], [0.25, \"rgb(198,219,239)\"], [0.375, \"rgb(158,202,225)\"], [0.5, \"rgb(107,174,214)\"], [0.625, \"rgb(66,146,198)\"], [0.75, \"rgb(33,113,181)\"], [0.875, \"rgb(8,81,156)\"], [1.0, \"rgb(8,48,107)\"]], \"line\": {\"color\": \"Grey\", \"width\": 0.5}, \"showscale\": false}, \"mode\": \"markers\", \"showlegend\": false, \"type\": \"scatter\", \"x\": [\"scale\", \"scale\", \"scale\", \"auto\"], \"xaxis\": \"x3\", \"y\": [0.4310638160275016, 0.6600886858013236, 0.5508205656652657, 0.5625411524902337], \"yaxis\": \"y3\"}, {\"marker\": {\"color\": [0, 1, 2, 3], \"colorbar\": {\"title\": {\"text\": \"#Trials\"}, \"x\": 1.0, \"xpad\": 40}, \"colorscale\": [[0.0, \"rgb(247,251,255)\"], [0.125, \"rgb(222,235,247)\"], [0.25, \"rgb(198,219,239)\"], [0.375, \"rgb(158,202,225)\"], [0.5, \"rgb(107,174,214)\"], [0.625, \"rgb(66,146,198)\"], [0.75, \"rgb(33,113,181)\"], [0.875, \"rgb(8,81,156)\"], [1.0, \"rgb(8,48,107)\"]], \"line\": {\"color\": \"Grey\", \"width\": 0.5}, \"showscale\": false}, \"mode\": \"markers\", \"showlegend\": false, \"type\": \"scatter\", \"x\": [\"poly\", \"rbf\", \"linear\", \"rbf\"], \"xaxis\": \"x4\", \"y\": [0.4310638160275016, 0.6600886858013236, 0.5508205656652657, 0.5625411524902337], \"yaxis\": \"y4\"}, {\"marker\": {\"color\": [0, 1, 2, 3], \"colorbar\": {\"title\": {\"text\": \"#Trials\"}, \"x\": 1.0, \"xpad\": 40}, \"colorscale\": [[0.0, \"rgb(247,251,255)\"], [0.125, \"rgb(222,235,247)\"], [0.25, \"rgb(198,219,239)\"], [0.375, \"rgb(158,202,225)\"], [0.5, \"rgb(107,174,214)\"], [0.625, \"rgb(66,146,198)\"], [0.75, \"rgb(33,113,181)\"], [0.875, \"rgb(8,81,156)\"], [1.0, \"rgb(8,48,107)\"]], \"line\": {\"color\": \"Grey\", \"width\": 0.5}, \"showscale\": false}, \"mode\": \"markers\", \"showlegend\": false, \"type\": \"scatter\", \"x\": [10, 10, 6, 6], \"xaxis\": \"x5\", \"y\": [0.4310638160275016, 0.6600886858013236, 0.5508205656652657, 0.5625411524902337], \"yaxis\": \"y5\"}],\n",
              "                        {\"template\": {\"data\": {\"bar\": [{\"error_x\": {\"color\": \"#2a3f5f\"}, \"error_y\": {\"color\": \"#2a3f5f\"}, \"marker\": {\"line\": {\"color\": \"#E5ECF6\", \"width\": 0.5}}, \"type\": \"bar\"}], \"barpolar\": [{\"marker\": {\"line\": {\"color\": \"#E5ECF6\", \"width\": 0.5}}, \"type\": \"barpolar\"}], \"carpet\": [{\"aaxis\": {\"endlinecolor\": \"#2a3f5f\", \"gridcolor\": \"white\", \"linecolor\": \"white\", \"minorgridcolor\": \"white\", \"startlinecolor\": \"#2a3f5f\"}, \"baxis\": {\"endlinecolor\": \"#2a3f5f\", \"gridcolor\": \"white\", \"linecolor\": \"white\", \"minorgridcolor\": \"white\", \"startlinecolor\": \"#2a3f5f\"}, \"type\": \"carpet\"}], \"choropleth\": [{\"colorbar\": {\"outlinewidth\": 0, \"ticks\": \"\"}, \"type\": \"choropleth\"}], \"contour\": [{\"colorbar\": {\"outlinewidth\": 0, \"ticks\": \"\"}, \"colorscale\": [[0.0, \"#0d0887\"], [0.1111111111111111, \"#46039f\"], [0.2222222222222222, \"#7201a8\"], [0.3333333333333333, \"#9c179e\"], [0.4444444444444444, \"#bd3786\"], [0.5555555555555556, \"#d8576b\"], [0.6666666666666666, \"#ed7953\"], [0.7777777777777778, \"#fb9f3a\"], [0.8888888888888888, \"#fdca26\"], [1.0, \"#f0f921\"]], \"type\": \"contour\"}], \"contourcarpet\": [{\"colorbar\": {\"outlinewidth\": 0, \"ticks\": \"\"}, \"type\": \"contourcarpet\"}], \"heatmap\": [{\"colorbar\": {\"outlinewidth\": 0, \"ticks\": \"\"}, \"colorscale\": [[0.0, \"#0d0887\"], [0.1111111111111111, \"#46039f\"], [0.2222222222222222, \"#7201a8\"], [0.3333333333333333, \"#9c179e\"], [0.4444444444444444, \"#bd3786\"], [0.5555555555555556, \"#d8576b\"], [0.6666666666666666, \"#ed7953\"], [0.7777777777777778, \"#fb9f3a\"], [0.8888888888888888, \"#fdca26\"], [1.0, \"#f0f921\"]], \"type\": \"heatmap\"}], \"heatmapgl\": [{\"colorbar\": {\"outlinewidth\": 0, \"ticks\": \"\"}, \"colorscale\": [[0.0, \"#0d0887\"], [0.1111111111111111, \"#46039f\"], [0.2222222222222222, \"#7201a8\"], [0.3333333333333333, \"#9c179e\"], [0.4444444444444444, \"#bd3786\"], [0.5555555555555556, \"#d8576b\"], [0.6666666666666666, \"#ed7953\"], [0.7777777777777778, \"#fb9f3a\"], [0.8888888888888888, \"#fdca26\"], [1.0, \"#f0f921\"]], \"type\": \"heatmapgl\"}], \"histogram\": [{\"marker\": {\"colorbar\": {\"outlinewidth\": 0, \"ticks\": \"\"}}, \"type\": \"histogram\"}], \"histogram2d\": [{\"colorbar\": {\"outlinewidth\": 0, \"ticks\": \"\"}, \"colorscale\": [[0.0, \"#0d0887\"], [0.1111111111111111, \"#46039f\"], [0.2222222222222222, \"#7201a8\"], [0.3333333333333333, \"#9c179e\"], [0.4444444444444444, \"#bd3786\"], [0.5555555555555556, \"#d8576b\"], [0.6666666666666666, \"#ed7953\"], [0.7777777777777778, \"#fb9f3a\"], [0.8888888888888888, \"#fdca26\"], [1.0, \"#f0f921\"]], \"type\": \"histogram2d\"}], \"histogram2dcontour\": [{\"colorbar\": {\"outlinewidth\": 0, \"ticks\": \"\"}, \"colorscale\": [[0.0, \"#0d0887\"], [0.1111111111111111, \"#46039f\"], [0.2222222222222222, \"#7201a8\"], [0.3333333333333333, \"#9c179e\"], [0.4444444444444444, \"#bd3786\"], [0.5555555555555556, \"#d8576b\"], [0.6666666666666666, \"#ed7953\"], [0.7777777777777778, \"#fb9f3a\"], [0.8888888888888888, \"#fdca26\"], [1.0, \"#f0f921\"]], \"type\": \"histogram2dcontour\"}], \"mesh3d\": [{\"colorbar\": {\"outlinewidth\": 0, \"ticks\": \"\"}, \"type\": \"mesh3d\"}], \"parcoords\": [{\"line\": {\"colorbar\": {\"outlinewidth\": 0, \"ticks\": \"\"}}, \"type\": \"parcoords\"}], \"pie\": [{\"automargin\": true, \"type\": \"pie\"}], \"scatter\": [{\"marker\": {\"colorbar\": {\"outlinewidth\": 0, \"ticks\": \"\"}}, \"type\": \"scatter\"}], \"scatter3d\": [{\"line\": {\"colorbar\": {\"outlinewidth\": 0, \"ticks\": \"\"}}, \"marker\": {\"colorbar\": {\"outlinewidth\": 0, \"ticks\": \"\"}}, \"type\": \"scatter3d\"}], \"scattercarpet\": [{\"marker\": {\"colorbar\": {\"outlinewidth\": 0, \"ticks\": \"\"}}, \"type\": \"scattercarpet\"}], \"scattergeo\": [{\"marker\": {\"colorbar\": {\"outlinewidth\": 0, \"ticks\": \"\"}}, \"type\": \"scattergeo\"}], \"scattergl\": [{\"marker\": {\"colorbar\": {\"outlinewidth\": 0, \"ticks\": \"\"}}, \"type\": \"scattergl\"}], \"scattermapbox\": [{\"marker\": {\"colorbar\": {\"outlinewidth\": 0, \"ticks\": \"\"}}, \"type\": \"scattermapbox\"}], \"scatterpolar\": [{\"marker\": {\"colorbar\": {\"outlinewidth\": 0, \"ticks\": \"\"}}, \"type\": \"scatterpolar\"}], \"scatterpolargl\": [{\"marker\": {\"colorbar\": {\"outlinewidth\": 0, \"ticks\": \"\"}}, \"type\": \"scatterpolargl\"}], \"scatterternary\": [{\"marker\": {\"colorbar\": {\"outlinewidth\": 0, \"ticks\": \"\"}}, \"type\": \"scatterternary\"}], \"surface\": [{\"colorbar\": {\"outlinewidth\": 0, \"ticks\": \"\"}, \"colorscale\": [[0.0, \"#0d0887\"], [0.1111111111111111, \"#46039f\"], [0.2222222222222222, \"#7201a8\"], [0.3333333333333333, \"#9c179e\"], [0.4444444444444444, \"#bd3786\"], [0.5555555555555556, \"#d8576b\"], [0.6666666666666666, \"#ed7953\"], [0.7777777777777778, \"#fb9f3a\"], [0.8888888888888888, \"#fdca26\"], [1.0, \"#f0f921\"]], \"type\": \"surface\"}], \"table\": [{\"cells\": {\"fill\": {\"color\": \"#EBF0F8\"}, \"line\": {\"color\": \"white\"}}, \"header\": {\"fill\": {\"color\": \"#C8D4E3\"}, \"line\": {\"color\": \"white\"}}, \"type\": \"table\"}]}, \"layout\": {\"annotationdefaults\": {\"arrowcolor\": \"#2a3f5f\", \"arrowhead\": 0, \"arrowwidth\": 1}, \"coloraxis\": {\"colorbar\": {\"outlinewidth\": 0, \"ticks\": \"\"}}, \"colorscale\": {\"diverging\": [[0, \"#8e0152\"], [0.1, \"#c51b7d\"], [0.2, \"#de77ae\"], [0.3, \"#f1b6da\"], [0.4, \"#fde0ef\"], [0.5, \"#f7f7f7\"], [0.6, \"#e6f5d0\"], [0.7, \"#b8e186\"], [0.8, \"#7fbc41\"], [0.9, \"#4d9221\"], [1, \"#276419\"]], \"sequential\": [[0.0, \"#0d0887\"], [0.1111111111111111, \"#46039f\"], [0.2222222222222222, \"#7201a8\"], [0.3333333333333333, \"#9c179e\"], [0.4444444444444444, \"#bd3786\"], [0.5555555555555556, \"#d8576b\"], [0.6666666666666666, \"#ed7953\"], [0.7777777777777778, \"#fb9f3a\"], [0.8888888888888888, \"#fdca26\"], [1.0, \"#f0f921\"]], \"sequentialminus\": [[0.0, \"#0d0887\"], [0.1111111111111111, \"#46039f\"], [0.2222222222222222, \"#7201a8\"], [0.3333333333333333, \"#9c179e\"], [0.4444444444444444, \"#bd3786\"], [0.5555555555555556, \"#d8576b\"], [0.6666666666666666, \"#ed7953\"], [0.7777777777777778, \"#fb9f3a\"], [0.8888888888888888, \"#fdca26\"], [1.0, \"#f0f921\"]]}, \"colorway\": [\"#636efa\", \"#EF553B\", \"#00cc96\", \"#ab63fa\", \"#FFA15A\", \"#19d3f3\", \"#FF6692\", \"#B6E880\", \"#FF97FF\", \"#FECB52\"], \"font\": {\"color\": \"#2a3f5f\"}, \"geo\": {\"bgcolor\": \"white\", \"lakecolor\": \"white\", \"landcolor\": \"#E5ECF6\", \"showlakes\": true, \"showland\": true, \"subunitcolor\": \"white\"}, \"hoverlabel\": {\"align\": \"left\"}, \"hovermode\": \"closest\", \"mapbox\": {\"style\": \"light\"}, \"paper_bgcolor\": \"white\", \"plot_bgcolor\": \"#E5ECF6\", \"polar\": {\"angularaxis\": {\"gridcolor\": \"white\", \"linecolor\": \"white\", \"ticks\": \"\"}, \"bgcolor\": \"#E5ECF6\", \"radialaxis\": {\"gridcolor\": \"white\", \"linecolor\": \"white\", \"ticks\": \"\"}}, \"scene\": {\"xaxis\": {\"backgroundcolor\": \"#E5ECF6\", \"gridcolor\": \"white\", \"gridwidth\": 2, \"linecolor\": \"white\", \"showbackground\": true, \"ticks\": \"\", \"zerolinecolor\": \"white\"}, \"yaxis\": {\"backgroundcolor\": \"#E5ECF6\", \"gridcolor\": \"white\", \"gridwidth\": 2, \"linecolor\": \"white\", \"showbackground\": true, \"ticks\": \"\", \"zerolinecolor\": \"white\"}, \"zaxis\": {\"backgroundcolor\": \"#E5ECF6\", \"gridcolor\": \"white\", \"gridwidth\": 2, \"linecolor\": \"white\", \"showbackground\": true, \"ticks\": \"\", \"zerolinecolor\": \"white\"}}, \"shapedefaults\": {\"line\": {\"color\": \"#2a3f5f\"}}, \"ternary\": {\"aaxis\": {\"gridcolor\": \"white\", \"linecolor\": \"white\", \"ticks\": \"\"}, \"baxis\": {\"gridcolor\": \"white\", \"linecolor\": \"white\", \"ticks\": \"\"}, \"bgcolor\": \"#E5ECF6\", \"caxis\": {\"gridcolor\": \"white\", \"linecolor\": \"white\", \"ticks\": \"\"}}, \"title\": {\"x\": 0.05}, \"xaxis\": {\"automargin\": true, \"gridcolor\": \"white\", \"linecolor\": \"white\", \"ticks\": \"\", \"title\": {\"standoff\": 15}, \"zerolinecolor\": \"white\", \"zerolinewidth\": 2}, \"yaxis\": {\"automargin\": true, \"gridcolor\": \"white\", \"linecolor\": \"white\", \"ticks\": \"\", \"title\": {\"standoff\": 15}, \"zerolinecolor\": \"white\", \"zerolinewidth\": 2}}}, \"title\": {\"text\": \"Slice Plot\"}, \"width\": 1500, \"xaxis\": {\"anchor\": \"y\", \"domain\": [0.0, 0.16799999999999998], \"title\": {\"text\": \"C\"}, \"type\": \"log\"}, \"xaxis2\": {\"anchor\": \"y2\", \"domain\": [0.208, 0.376], \"title\": {\"text\": \"degree\"}}, \"xaxis3\": {\"anchor\": \"y3\", \"domain\": [0.416, 0.584], \"title\": {\"text\": \"gamma\"}}, \"xaxis4\": {\"anchor\": \"y4\", \"domain\": [0.624, 0.792], \"title\": {\"text\": \"kernel\"}}, \"xaxis5\": {\"anchor\": \"y5\", \"domain\": [0.832, 1.0], \"title\": {\"text\": \"n_components\"}}, \"yaxis\": {\"anchor\": \"x\", \"domain\": [0.0, 1.0], \"title\": {\"text\": \"Objective Value\"}}, \"yaxis2\": {\"anchor\": \"x2\", \"domain\": [0.0, 1.0], \"matches\": \"y\", \"showticklabels\": false}, \"yaxis3\": {\"anchor\": \"x3\", \"domain\": [0.0, 1.0], \"matches\": \"y\", \"showticklabels\": false}, \"yaxis4\": {\"anchor\": \"x4\", \"domain\": [0.0, 1.0], \"matches\": \"y\", \"showticklabels\": false}, \"yaxis5\": {\"anchor\": \"x5\", \"domain\": [0.0, 1.0], \"matches\": \"y\", \"showticklabels\": false}},\n",
              "                        {\"responsive\": true}\n",
              "                    ).then(function(){\n",
              "                            \n",
              "var gd = document.getElementById('1d17b60e-9ed1-4066-8468-2ee4de77c531');\n",
              "var x = new MutationObserver(function (mutations, observer) {{\n",
              "        var display = window.getComputedStyle(gd).display;\n",
              "        if (!display || display === 'none') {{\n",
              "            console.log([gd, 'removed!']);\n",
              "            Plotly.purge(gd);\n",
              "            observer.disconnect();\n",
              "        }}\n",
              "}});\n",
              "\n",
              "// Listen for the removal of the full notebook cells\n",
              "var notebookContainer = gd.closest('#notebook-container');\n",
              "if (notebookContainer) {{\n",
              "    x.observe(notebookContainer, {childList: true});\n",
              "}}\n",
              "\n",
              "// Listen for the clearing of the current output cell\n",
              "var outputEl = gd.closest('.output');\n",
              "if (outputEl) {{\n",
              "    x.observe(outputEl, {childList: true});\n",
              "}}\n",
              "\n",
              "                        })\n",
              "                };\n",
              "                \n",
              "            </script>\n",
              "        </div>\n",
              "</body>\n",
              "</html>"
            ]
          },
          "metadata": {}
        }
      ]
    },
    {
      "cell_type": "markdown",
      "metadata": {
        "id": "yzmey4VdE-Za"
      },
      "source": [
        "Εδώ βλέπουμε το διάγραμμα που συνδυάζει τις τιμές των υπερπαραμέτρων και την τιμή για το f1_score. Με το πιο σκούρο χρώμα φαίνεται η ευθεία που αντιστοιχεί στη βέλτιστη τιμή του f1."
      ],
      "id": "yzmey4VdE-Za"
    },
    {
      "cell_type": "code",
      "metadata": {
        "colab": {
          "base_uri": "https://localhost:8080/",
          "height": 542
        },
        "id": "v9a8BgGTE-Za",
        "outputId": "435bda27-94ef-4e3d-83a1-f4e18adf11ff"
      },
      "source": [
        "optuna.visualization.plot_parallel_coordinate(optuna_search.study_)"
      ],
      "id": "v9a8BgGTE-Za",
      "execution_count": null,
      "outputs": [
        {
          "output_type": "display_data",
          "data": {
            "text/html": [
              "<html>\n",
              "<head><meta charset=\"utf-8\" /></head>\n",
              "<body>\n",
              "    <div>\n",
              "            <script src=\"https://cdnjs.cloudflare.com/ajax/libs/mathjax/2.7.5/MathJax.js?config=TeX-AMS-MML_SVG\"></script><script type=\"text/javascript\">if (window.MathJax) {MathJax.Hub.Config({SVG: {font: \"STIX-Web\"}});}</script>\n",
              "                <script type=\"text/javascript\">window.PlotlyConfig = {MathJaxConfig: 'local'};</script>\n",
              "        <script src=\"https://cdn.plot.ly/plotly-latest.min.js\"></script>    \n",
              "            <div id=\"818b5255-30cf-432b-a1c4-5f00a81502a4\" class=\"plotly-graph-div\" style=\"height:525px; width:100%;\"></div>\n",
              "            <script type=\"text/javascript\">\n",
              "                \n",
              "                    window.PLOTLYENV=window.PLOTLYENV || {};\n",
              "                    \n",
              "                if (document.getElementById(\"818b5255-30cf-432b-a1c4-5f00a81502a4\")) {\n",
              "                    Plotly.newPlot(\n",
              "                        '818b5255-30cf-432b-a1c4-5f00a81502a4',\n",
              "                        [{\"dimensions\": [{\"label\": \"Objective Value\", \"range\": [0.4310638160275016, 0.6600886858013236], \"values\": [0.4310638160275016, 0.6600886858013236, 0.5508205656652657, 0.5625411524902337]}, {\"label\": \"C\", \"range\": [-0.682018273455798, 0.08082585996409282], \"ticktext\": [\"0.208\", \"1\", \"1.2\"], \"tickvals\": [-0.682018273455798, 0, 0.08082585996409282], \"values\": [0.08082585996409282, -0.682018273455798, -0.29215758108099066, -0.49403420139902093]}, {\"label\": \"degree\", \"range\": [1, 2], \"values\": [2, 1, 1, 1]}, {\"label\": \"gamma\", \"range\": [0, 1], \"ticktext\": [\"scale\", \"auto\"], \"tickvals\": [0, 1], \"values\": [0, 0, 0, 1]}, {\"label\": \"kernel\", \"range\": [0, 2], \"ticktext\": [\"poly\", \"rbf\", \"linear\"], \"tickvals\": [0, 1, 2], \"values\": [0, 1, 2, 1]}, {\"label\": \"n_components\", \"range\": [6, 10], \"values\": [10, 10, 6, 6]}], \"labelangle\": 30, \"labelside\": \"bottom\", \"line\": {\"color\": [0.4310638160275016, 0.6600886858013236, 0.5508205656652657, 0.5625411524902337], \"colorbar\": {\"title\": {\"text\": \"Objective Value\"}}, \"colorscale\": [[0.0, \"rgb(247,251,255)\"], [0.125, \"rgb(222,235,247)\"], [0.25, \"rgb(198,219,239)\"], [0.375, \"rgb(158,202,225)\"], [0.5, \"rgb(107,174,214)\"], [0.625, \"rgb(66,146,198)\"], [0.75, \"rgb(33,113,181)\"], [0.875, \"rgb(8,81,156)\"], [1.0, \"rgb(8,48,107)\"]], \"reversescale\": false, \"showscale\": true}, \"type\": \"parcoords\"}],\n",
              "                        {\"template\": {\"data\": {\"bar\": [{\"error_x\": {\"color\": \"#2a3f5f\"}, \"error_y\": {\"color\": \"#2a3f5f\"}, \"marker\": {\"line\": {\"color\": \"#E5ECF6\", \"width\": 0.5}}, \"type\": \"bar\"}], \"barpolar\": [{\"marker\": {\"line\": {\"color\": \"#E5ECF6\", \"width\": 0.5}}, \"type\": \"barpolar\"}], \"carpet\": [{\"aaxis\": {\"endlinecolor\": \"#2a3f5f\", \"gridcolor\": \"white\", \"linecolor\": \"white\", \"minorgridcolor\": \"white\", \"startlinecolor\": \"#2a3f5f\"}, \"baxis\": {\"endlinecolor\": \"#2a3f5f\", \"gridcolor\": \"white\", \"linecolor\": \"white\", \"minorgridcolor\": \"white\", \"startlinecolor\": \"#2a3f5f\"}, \"type\": \"carpet\"}], \"choropleth\": [{\"colorbar\": {\"outlinewidth\": 0, \"ticks\": \"\"}, \"type\": \"choropleth\"}], \"contour\": [{\"colorbar\": {\"outlinewidth\": 0, \"ticks\": \"\"}, \"colorscale\": [[0.0, \"#0d0887\"], [0.1111111111111111, \"#46039f\"], [0.2222222222222222, \"#7201a8\"], [0.3333333333333333, \"#9c179e\"], [0.4444444444444444, \"#bd3786\"], [0.5555555555555556, \"#d8576b\"], [0.6666666666666666, \"#ed7953\"], [0.7777777777777778, \"#fb9f3a\"], [0.8888888888888888, \"#fdca26\"], [1.0, \"#f0f921\"]], \"type\": \"contour\"}], \"contourcarpet\": [{\"colorbar\": {\"outlinewidth\": 0, \"ticks\": \"\"}, \"type\": \"contourcarpet\"}], \"heatmap\": [{\"colorbar\": {\"outlinewidth\": 0, \"ticks\": \"\"}, \"colorscale\": [[0.0, \"#0d0887\"], [0.1111111111111111, \"#46039f\"], [0.2222222222222222, \"#7201a8\"], [0.3333333333333333, \"#9c179e\"], [0.4444444444444444, \"#bd3786\"], [0.5555555555555556, \"#d8576b\"], [0.6666666666666666, \"#ed7953\"], [0.7777777777777778, \"#fb9f3a\"], [0.8888888888888888, \"#fdca26\"], [1.0, \"#f0f921\"]], \"type\": \"heatmap\"}], \"heatmapgl\": [{\"colorbar\": {\"outlinewidth\": 0, \"ticks\": \"\"}, \"colorscale\": [[0.0, \"#0d0887\"], [0.1111111111111111, \"#46039f\"], [0.2222222222222222, \"#7201a8\"], [0.3333333333333333, \"#9c179e\"], [0.4444444444444444, \"#bd3786\"], [0.5555555555555556, \"#d8576b\"], [0.6666666666666666, \"#ed7953\"], [0.7777777777777778, \"#fb9f3a\"], [0.8888888888888888, \"#fdca26\"], [1.0, \"#f0f921\"]], \"type\": \"heatmapgl\"}], \"histogram\": [{\"marker\": {\"colorbar\": {\"outlinewidth\": 0, \"ticks\": \"\"}}, \"type\": \"histogram\"}], \"histogram2d\": [{\"colorbar\": {\"outlinewidth\": 0, \"ticks\": \"\"}, \"colorscale\": [[0.0, \"#0d0887\"], [0.1111111111111111, \"#46039f\"], [0.2222222222222222, \"#7201a8\"], [0.3333333333333333, \"#9c179e\"], [0.4444444444444444, \"#bd3786\"], [0.5555555555555556, \"#d8576b\"], [0.6666666666666666, \"#ed7953\"], [0.7777777777777778, \"#fb9f3a\"], [0.8888888888888888, \"#fdca26\"], [1.0, \"#f0f921\"]], \"type\": \"histogram2d\"}], \"histogram2dcontour\": [{\"colorbar\": {\"outlinewidth\": 0, \"ticks\": \"\"}, \"colorscale\": [[0.0, \"#0d0887\"], [0.1111111111111111, \"#46039f\"], [0.2222222222222222, \"#7201a8\"], [0.3333333333333333, \"#9c179e\"], [0.4444444444444444, \"#bd3786\"], [0.5555555555555556, \"#d8576b\"], [0.6666666666666666, \"#ed7953\"], [0.7777777777777778, \"#fb9f3a\"], [0.8888888888888888, \"#fdca26\"], [1.0, \"#f0f921\"]], \"type\": \"histogram2dcontour\"}], \"mesh3d\": [{\"colorbar\": {\"outlinewidth\": 0, \"ticks\": \"\"}, \"type\": \"mesh3d\"}], \"parcoords\": [{\"line\": {\"colorbar\": {\"outlinewidth\": 0, \"ticks\": \"\"}}, \"type\": \"parcoords\"}], \"pie\": [{\"automargin\": true, \"type\": \"pie\"}], \"scatter\": [{\"marker\": {\"colorbar\": {\"outlinewidth\": 0, \"ticks\": \"\"}}, \"type\": \"scatter\"}], \"scatter3d\": [{\"line\": {\"colorbar\": {\"outlinewidth\": 0, \"ticks\": \"\"}}, \"marker\": {\"colorbar\": {\"outlinewidth\": 0, \"ticks\": \"\"}}, \"type\": \"scatter3d\"}], \"scattercarpet\": [{\"marker\": {\"colorbar\": {\"outlinewidth\": 0, \"ticks\": \"\"}}, \"type\": \"scattercarpet\"}], \"scattergeo\": [{\"marker\": {\"colorbar\": {\"outlinewidth\": 0, \"ticks\": \"\"}}, \"type\": \"scattergeo\"}], \"scattergl\": [{\"marker\": {\"colorbar\": {\"outlinewidth\": 0, \"ticks\": \"\"}}, \"type\": \"scattergl\"}], \"scattermapbox\": [{\"marker\": {\"colorbar\": {\"outlinewidth\": 0, \"ticks\": \"\"}}, \"type\": \"scattermapbox\"}], \"scatterpolar\": [{\"marker\": {\"colorbar\": {\"outlinewidth\": 0, \"ticks\": \"\"}}, \"type\": \"scatterpolar\"}], \"scatterpolargl\": [{\"marker\": {\"colorbar\": {\"outlinewidth\": 0, \"ticks\": \"\"}}, \"type\": \"scatterpolargl\"}], \"scatterternary\": [{\"marker\": {\"colorbar\": {\"outlinewidth\": 0, \"ticks\": \"\"}}, \"type\": \"scatterternary\"}], \"surface\": [{\"colorbar\": {\"outlinewidth\": 0, \"ticks\": \"\"}, \"colorscale\": [[0.0, \"#0d0887\"], [0.1111111111111111, \"#46039f\"], [0.2222222222222222, \"#7201a8\"], [0.3333333333333333, \"#9c179e\"], [0.4444444444444444, \"#bd3786\"], [0.5555555555555556, \"#d8576b\"], [0.6666666666666666, \"#ed7953\"], [0.7777777777777778, \"#fb9f3a\"], [0.8888888888888888, \"#fdca26\"], [1.0, \"#f0f921\"]], \"type\": \"surface\"}], \"table\": [{\"cells\": {\"fill\": {\"color\": \"#EBF0F8\"}, \"line\": {\"color\": \"white\"}}, \"header\": {\"fill\": {\"color\": \"#C8D4E3\"}, \"line\": {\"color\": \"white\"}}, \"type\": \"table\"}]}, \"layout\": {\"annotationdefaults\": {\"arrowcolor\": \"#2a3f5f\", \"arrowhead\": 0, \"arrowwidth\": 1}, \"coloraxis\": {\"colorbar\": {\"outlinewidth\": 0, \"ticks\": \"\"}}, \"colorscale\": {\"diverging\": [[0, \"#8e0152\"], [0.1, \"#c51b7d\"], [0.2, \"#de77ae\"], [0.3, \"#f1b6da\"], [0.4, \"#fde0ef\"], [0.5, \"#f7f7f7\"], [0.6, \"#e6f5d0\"], [0.7, \"#b8e186\"], [0.8, \"#7fbc41\"], [0.9, \"#4d9221\"], [1, \"#276419\"]], \"sequential\": [[0.0, \"#0d0887\"], [0.1111111111111111, \"#46039f\"], [0.2222222222222222, \"#7201a8\"], [0.3333333333333333, \"#9c179e\"], [0.4444444444444444, \"#bd3786\"], [0.5555555555555556, \"#d8576b\"], [0.6666666666666666, \"#ed7953\"], [0.7777777777777778, \"#fb9f3a\"], [0.8888888888888888, \"#fdca26\"], [1.0, \"#f0f921\"]], \"sequentialminus\": [[0.0, \"#0d0887\"], [0.1111111111111111, \"#46039f\"], [0.2222222222222222, \"#7201a8\"], [0.3333333333333333, \"#9c179e\"], [0.4444444444444444, \"#bd3786\"], [0.5555555555555556, \"#d8576b\"], [0.6666666666666666, \"#ed7953\"], [0.7777777777777778, \"#fb9f3a\"], [0.8888888888888888, \"#fdca26\"], [1.0, \"#f0f921\"]]}, \"colorway\": [\"#636efa\", \"#EF553B\", \"#00cc96\", \"#ab63fa\", \"#FFA15A\", \"#19d3f3\", \"#FF6692\", \"#B6E880\", \"#FF97FF\", \"#FECB52\"], \"font\": {\"color\": \"#2a3f5f\"}, \"geo\": {\"bgcolor\": \"white\", \"lakecolor\": \"white\", \"landcolor\": \"#E5ECF6\", \"showlakes\": true, \"showland\": true, \"subunitcolor\": \"white\"}, \"hoverlabel\": {\"align\": \"left\"}, \"hovermode\": \"closest\", \"mapbox\": {\"style\": \"light\"}, \"paper_bgcolor\": \"white\", \"plot_bgcolor\": \"#E5ECF6\", \"polar\": {\"angularaxis\": {\"gridcolor\": \"white\", \"linecolor\": \"white\", \"ticks\": \"\"}, \"bgcolor\": \"#E5ECF6\", \"radialaxis\": {\"gridcolor\": \"white\", \"linecolor\": \"white\", \"ticks\": \"\"}}, \"scene\": {\"xaxis\": {\"backgroundcolor\": \"#E5ECF6\", \"gridcolor\": \"white\", \"gridwidth\": 2, \"linecolor\": \"white\", \"showbackground\": true, \"ticks\": \"\", \"zerolinecolor\": \"white\"}, \"yaxis\": {\"backgroundcolor\": \"#E5ECF6\", \"gridcolor\": \"white\", \"gridwidth\": 2, \"linecolor\": \"white\", \"showbackground\": true, \"ticks\": \"\", \"zerolinecolor\": \"white\"}, \"zaxis\": {\"backgroundcolor\": \"#E5ECF6\", \"gridcolor\": \"white\", \"gridwidth\": 2, \"linecolor\": \"white\", \"showbackground\": true, \"ticks\": \"\", \"zerolinecolor\": \"white\"}}, \"shapedefaults\": {\"line\": {\"color\": \"#2a3f5f\"}}, \"ternary\": {\"aaxis\": {\"gridcolor\": \"white\", \"linecolor\": \"white\", \"ticks\": \"\"}, \"baxis\": {\"gridcolor\": \"white\", \"linecolor\": \"white\", \"ticks\": \"\"}, \"bgcolor\": \"#E5ECF6\", \"caxis\": {\"gridcolor\": \"white\", \"linecolor\": \"white\", \"ticks\": \"\"}}, \"title\": {\"x\": 0.05}, \"xaxis\": {\"automargin\": true, \"gridcolor\": \"white\", \"linecolor\": \"white\", \"ticks\": \"\", \"title\": {\"standoff\": 15}, \"zerolinecolor\": \"white\", \"zerolinewidth\": 2}, \"yaxis\": {\"automargin\": true, \"gridcolor\": \"white\", \"linecolor\": \"white\", \"ticks\": \"\", \"title\": {\"standoff\": 15}, \"zerolinecolor\": \"white\", \"zerolinewidth\": 2}}}, \"title\": {\"text\": \"Parallel Coordinate Plot\"}},\n",
              "                        {\"responsive\": true}\n",
              "                    ).then(function(){\n",
              "                            \n",
              "var gd = document.getElementById('818b5255-30cf-432b-a1c4-5f00a81502a4');\n",
              "var x = new MutationObserver(function (mutations, observer) {{\n",
              "        var display = window.getComputedStyle(gd).display;\n",
              "        if (!display || display === 'none') {{\n",
              "            console.log([gd, 'removed!']);\n",
              "            Plotly.purge(gd);\n",
              "            observer.disconnect();\n",
              "        }}\n",
              "}});\n",
              "\n",
              "// Listen for the removal of the full notebook cells\n",
              "var notebookContainer = gd.closest('#notebook-container');\n",
              "if (notebookContainer) {{\n",
              "    x.observe(notebookContainer, {childList: true});\n",
              "}}\n",
              "\n",
              "// Listen for the clearing of the current output cell\n",
              "var outputEl = gd.closest('.output');\n",
              "if (outputEl) {{\n",
              "    x.observe(outputEl, {childList: true});\n",
              "}}\n",
              "\n",
              "                        })\n",
              "                };\n",
              "                \n",
              "            </script>\n",
              "        </div>\n",
              "</body>\n",
              "</html>"
            ]
          },
          "metadata": {}
        }
      ]
    },
    {
      "cell_type": "markdown",
      "metadata": {
        "id": "abHR-1JdE-Za"
      },
      "source": [
        "###### Επιδόσεις καλύτερου μοντέλου SVM στο test set"
      ],
      "id": "abHR-1JdE-Za"
    },
    {
      "cell_type": "markdown",
      "metadata": {
        "id": "ezPO2MBWE-Za"
      },
      "source": [
        "###### Εντοπίζω τις επιδόσεις"
      ],
      "id": "ezPO2MBWE-Za"
    },
    {
      "cell_type": "code",
      "metadata": {
        "id": "wCfwv42hE-Za"
      },
      "source": [
        "best_accuracies['MLP_cv'] = round(accuracy_score(Y_test, preds_cv), 3)\n",
        "best_f1s['MLP_cv'] = round(f1_score(Y_test, preds_cv, average='macro'), 3)\n",
        "best_recalls['MLP_cv'] = round(recall_score(Y_test, preds_cv, average='macro'), 3) \n",
        "\n",
        "print('SVM with cross validation best scores:')\n",
        "print(\"Accuracy:\", best_accuracies['MLP_cv'])\n",
        "print(\"F1:\", best_f1s['MLP_cv'])\n",
        "print(\"Recall:\", best_recalls['MLP_cv'])"
      ],
      "id": "wCfwv42hE-Za",
      "execution_count": null,
      "outputs": []
    },
    {
      "cell_type": "markdown",
      "metadata": {
        "id": "7Y3xU_i5E-Zb"
      },
      "source": [
        "###### Σχεδιάζω τον πίνακα σύγχυσης"
      ],
      "id": "7Y3xU_i5E-Zb"
    },
    {
      "cell_type": "code",
      "metadata": {
        "colab": {
          "base_uri": "https://localhost:8080/",
          "height": 302
        },
        "id": "IOqi9hf0E-Zb",
        "outputId": "2e4e3fc6-7738-4478-e332-2a4e1e1f198d"
      },
      "source": [
        "from sklearn.metrics import confusion_matrix\n",
        "import seaborn as sns; sns.set()\n",
        "print(f\"SVM:\")\n",
        "mat = confusion_matrix(Y_test , preds_mlp_cv)\n",
        "sns.heatmap(mat.T, square=True, annot=True, fmt='d', cbar=False)\n",
        "plt.xlabel('true label')\n",
        "plt.ylabel('predicted label');"
      ],
      "id": "IOqi9hf0E-Zb",
      "execution_count": null,
      "outputs": [
        {
          "output_type": "stream",
          "name": "stdout",
          "text": [
            "SVM:\n"
          ]
        },
        {
          "output_type": "display_data",
          "data": {
            "image/png": "[encoded data removed]",
            "text/plain": [
              "<Figure size 432x288 with 1 Axes>"
            ]
          },
          "metadata": {}
        }
      ]
    },
    {
      "cell_type": "markdown",
      "metadata": {
        "id": "5OD4WfDV3VI3"
      },
      "source": [
        "#### Συμπεράσματα MLP"
      ],
      "id": "5OD4WfDV3VI3"
    },
    {
      "cell_type": "markdown",
      "metadata": {
        "id": "MlSPs5X73VI4"
      },
      "source": [
        "##### Με pipeline"
      ],
      "id": "MlSPs5X73VI4"
    },
    {
      "cell_type": "markdown",
      "metadata": {
        "id": "mg0bJWplPUKk"
      },
      "source": [
        "###### Σχεδιάζουμε τις συγκριτικές γραφικές για τις μελέτες με το optuna"
      ],
      "id": "mg0bJWplPUKk"
    },
    {
      "cell_type": "code",
      "metadata": {
        "colab": {
          "base_uri": "https://localhost:8080/",
          "height": 247
        },
        "id": "m1Fxb3AaPZTs",
        "outputId": "73a661f0-a3ea-49de-deba-5798709ef047"
      },
      "source": [
        "print(\"Out of the box:\")\n",
        "plot_scores(out_of_the_box_accuracy, out_of_the_box_f1, out_of_the_box_recall)"
      ],
      "id": "m1Fxb3AaPZTs",
      "execution_count": null,
      "outputs": [
        {
          "output_type": "stream",
          "name": "stdout",
          "text": [
            "Out of the box:\n"
          ]
        },
        {
          "output_type": "display_data",
          "data": {
            "image/png": "[encoded data removed]",
            "text/plain": [
              "<Figure size 1440x216 with 3 Axes>"
            ]
          },
          "metadata": {}
        }
      ]
    },
    {
      "cell_type": "code",
      "metadata": {
        "id": "uZ4YVmEQYdOk",
        "colab": {
          "base_uri": "https://localhost:8080/"
        },
        "outputId": "84979def-ae22-4c14-a4f3-8dfd60fcd0da"
      },
      "source": [
        "print(\"Accuracies:\",best_accuracies)\n",
        "print(\"F1 scores\",best_f1s)\n",
        "print(\"Recall scores\",best_recalls)"
      ],
      "id": "uZ4YVmEQYdOk",
      "execution_count": null,
      "outputs": [
        {
          "output_type": "stream",
          "name": "stdout",
          "text": [
            "Accuracies: {'SVM_pipe': 0.679, 'MLP': 0.683}\n",
            "F1 scores {'SVM_pipe': 0.66, 'MLP': 0.668}\n",
            "Recall scores {'SVM_pipe': 0.645, 'MLP': 0.651}\n"
          ]
        }
      ]
    },
    {
      "cell_type": "code",
      "metadata": {
        "colab": {
          "base_uri": "https://localhost:8080/",
          "height": 248
        },
        "id": "6-_QbaRAPiV8",
        "outputId": "b580d97d-79d2-4e93-e9f8-1d7d161aaa12"
      },
      "source": [
        "print(\"After:\")\n",
        "plot_scores(best_accuracies, best_f1s, best_recalls)"
      ],
      "id": "6-_QbaRAPiV8",
      "execution_count": null,
      "outputs": [
        {
          "output_type": "stream",
          "name": "stdout",
          "text": [
            "After:\n"
          ]
        },
        {
          "output_type": "display_data",
          "data": {
            "image/png": "[encoded data removed]",
            "text/plain": [
              "<Figure size 1440x216 with 2 Axes>"
            ]
          },
          "metadata": {}
        }
      ]
    },
    {
      "cell_type": "markdown",
      "metadata": {
        "id": "5CMdS2NzIzqd"
      },
      "source": [
        "### Βέλτιστος ταξινομητής"
      ],
      "id": "5CMdS2NzIzqd"
    },
    {
      "cell_type": "markdown",
      "metadata": {
        "id": "3KPqLHNSI9v_"
      },
      "source": [
        "Γενικά παρατηρούμε πως ο MLP παρουσιάζει καλύτερες επίδοσεις από τα SVMs με μικρές όμως διαφορές."
      ],
      "id": "3KPqLHNSI9v_"
    }
  ]
}